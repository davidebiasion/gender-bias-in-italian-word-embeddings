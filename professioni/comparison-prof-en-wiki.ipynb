{
 "cells": [
  {
   "cell_type": "markdown",
   "metadata": {},
   "source": [
    "# Professions: comparison\n",
    "\n",
    "In the following notebook we're going to compare all the approaches we developed and test them on a small amount of professions for which we have precise statics about. We will use both FastText's and Gonen's embeddings."
   ]
  },
  {
   "cell_type": "code",
   "execution_count": 1,
   "metadata": {},
   "outputs": [],
   "source": [
    "# general\n",
    "import pandas as pd\n",
    "import numpy as np\n",
    "import scipy.stats\n",
    "import codecs\n",
    "from matplotlib import pyplot as plt\n",
    "from numpy import linalg as LA\n",
    "\n",
    "# bolukbasi's\n",
    "import debiaswe as dwe\n",
    "import debiaswe.we as we\n",
    "from debiaswe.we import WordEmbedding\n",
    "\n",
    "# mine\n",
    "import db_functions as db"
   ]
  },
  {
   "cell_type": "markdown",
   "metadata": {},
   "source": [
    "### Step 1: Load embeddings\n",
    "\n",
    "We load all the emdeddings using the same methods and applying the same preprocessing in order to have a common start."
   ]
  },
  {
   "cell_type": "code",
   "execution_count": 2,
   "metadata": {},
   "outputs": [
    {
     "name": "stdout",
     "output_type": "stream",
     "text": [
      "*** Reading data from ../embedding/fast-text/wiki.en.reduced.vec\n",
      "(157, 300)\n",
      "157 words of dimension 300 : he, his, her, she, ..., dietitian, egoistic, broadminded, hardhearted\n",
      "157 words of dimension 300 : he, his, her, she, ..., dietitian, egoistic, broadminded, hardhearted\n"
     ]
    }
   ],
   "source": [
    "# load FastText's emdeddings\n",
    "E_wiki =  WordEmbedding('../embedding/fast-text/wiki.en.reduced.vec', 'ft')"
   ]
  },
  {
   "cell_type": "markdown",
   "metadata": {},
   "source": [
    "### Step 2: working whit FastText's embeddings"
   ]
  },
  {
   "cell_type": "markdown",
   "metadata": {},
   "source": [
    "#### Step 2.1: vector difference"
   ]
  },
  {
   "cell_type": "code",
   "execution_count": 4,
   "metadata": {},
   "outputs": [],
   "source": [
    "# gender direction\n",
    "g_diff = E_wiki.diff('he', 'she')"
   ]
  },
  {
   "cell_type": "markdown",
   "metadata": {},
   "source": [
    "#### Step 2.2: PCA"
   ]
  },
  {
   "cell_type": "code",
   "execution_count": 6,
   "metadata": {},
   "outputs": [],
   "source": [
    "# list of pairs to define gender\n",
    "gender_pairs = [['he','she'],\n",
    "                ['his','her'],\n",
    "                ['man','woman'],\n",
    "                ['john','mary'],\n",
    "                ['himself','herself'],\n",
    "                ['son','daughter'],\n",
    "                ['father','mother'],\n",
    "                ['guy','gal'],\n",
    "                ['boy','girl'],\n",
    "                ['male','female']]"
   ]
  },
  {
   "cell_type": "code",
   "execution_count": 7,
   "metadata": {},
   "outputs": [],
   "source": [
    "# PCA\n",
    "pca = we.doPCA(gender_pairs, E_wiki)\n",
    "\n",
    "# PCA components\n",
    "pc = pca.components_\n",
    "\n",
    "# singular values\n",
    "sv = pca.singular_values_"
   ]
  },
  {
   "cell_type": "code",
   "execution_count": 8,
   "metadata": {},
   "outputs": [
    {
     "name": "stdout",
     "output_type": "stream",
     "text": [
      "Singular values:\n",
      "[1.1442815  0.8523035  0.60972977 0.50737494 0.3993872  0.3585625\n",
      " 0.33056718 0.24516939 0.19561277 0.15861395]\n"
     ]
    }
   ],
   "source": [
    "print(\"Singular values:\")\n",
    "print(sv)"
   ]
  },
  {
   "cell_type": "code",
   "execution_count": 9,
   "metadata": {},
   "outputs": [
    {
     "data": {
      "image/png": "[encoded data removed]",
      "text/plain": [
       "<Figure size 432x288 with 1 Axes>"
      ]
     },
     "metadata": {
      "needs_background": "light"
     },
     "output_type": "display_data"
    }
   ],
   "source": [
    "#fig = plt.figure(figsize=(10,7))    \n",
    "plt.bar(range(pca.n_components_), sv)\n",
    "plt.title(\"Singular values\")\n",
    "plt.show()\n",
    "#fig.savefig('pca.png')"
   ]
  },
  {
   "cell_type": "code",
   "execution_count": 10,
   "metadata": {},
   "outputs": [],
   "source": [
    "# gender direction\n",
    "g_pca_0  = pc[0]/LA.norm(pc[0])"
   ]
  },
  {
   "cell_type": "markdown",
   "metadata": {},
   "source": [
    "#### Step 2.4: compute projections"
   ]
  },
  {
   "cell_type": "markdown",
   "metadata": {},
   "source": [
    "##### All professions"
   ]
  },
  {
   "cell_type": "code",
   "execution_count": 11,
   "metadata": {},
   "outputs": [],
   "source": [
    "# read professions\n",
    "prof_truth = db.read('professions_en.csv', 'truth')"
   ]
  },
  {
   "cell_type": "code",
   "execution_count": 12,
   "metadata": {},
   "outputs": [],
   "source": [
    "# compute projection of each profession on g_diff\n",
    "proj_g_diff = db.prof_proj(E_wiki, prof_truth, g_diff, 'istat')\n",
    "\n",
    "# compute projection of each profession on g_pca_0\n",
    "proj_g_pca_0 = db.prof_proj(E_wiki, prof_truth, g_pca_0, 'istat')"
   ]
  },
  {
   "cell_type": "code",
   "execution_count": 13,
   "metadata": {},
   "outputs": [
    {
     "data": {
      "text/html": [
       "<div>\n",
       "<style scoped>\n",
       "    .dataframe tbody tr th:only-of-type {\n",
       "        vertical-align: middle;\n",
       "    }\n",
       "\n",
       "    .dataframe tbody tr th {\n",
       "        vertical-align: top;\n",
       "    }\n",
       "\n",
       "    .dataframe thead th {\n",
       "        text-align: right;\n",
       "    }\n",
       "</style>\n",
       "<table border=\"1\" class=\"dataframe\">\n",
       "  <thead>\n",
       "    <tr style=\"text-align: right;\">\n",
       "      <th></th>\n",
       "      <th>Profession</th>\n",
       "      <th>Proj g_diff</th>\n",
       "      <th>Proj g_pca_0</th>\n",
       "      <th>% male</th>\n",
       "      <th>% female</th>\n",
       "    </tr>\n",
       "  </thead>\n",
       "  <tbody>\n",
       "    <tr>\n",
       "      <th>0</th>\n",
       "      <td>trucker</td>\n",
       "      <td>-0.059179</td>\n",
       "      <td>-0.010548</td>\n",
       "      <td>93.3</td>\n",
       "      <td>6.7</td>\n",
       "    </tr>\n",
       "    <tr>\n",
       "      <th>1</th>\n",
       "      <td>electrician</td>\n",
       "      <td>0.077283</td>\n",
       "      <td>0.078696</td>\n",
       "      <td>97.8</td>\n",
       "      <td>2.2</td>\n",
       "    </tr>\n",
       "    <tr>\n",
       "      <th>2</th>\n",
       "      <td>engineer</td>\n",
       "      <td>0.131760</td>\n",
       "      <td>0.129596</td>\n",
       "      <td>84.3</td>\n",
       "      <td>15.7</td>\n",
       "    </tr>\n",
       "    <tr>\n",
       "      <th>3</th>\n",
       "      <td>architect</td>\n",
       "      <td>0.070402</td>\n",
       "      <td>0.079504</td>\n",
       "      <td>75.5</td>\n",
       "      <td>24.5</td>\n",
       "    </tr>\n",
       "    <tr>\n",
       "      <th>4</th>\n",
       "      <td>accountant</td>\n",
       "      <td>0.092888</td>\n",
       "      <td>0.065155</td>\n",
       "      <td>38.3</td>\n",
       "      <td>61.7</td>\n",
       "    </tr>\n",
       "    <tr>\n",
       "      <th>5</th>\n",
       "      <td>reporter</td>\n",
       "      <td>-0.049922</td>\n",
       "      <td>-0.084756</td>\n",
       "      <td>54.9</td>\n",
       "      <td>45.1</td>\n",
       "    </tr>\n",
       "    <tr>\n",
       "      <th>6</th>\n",
       "      <td>teacher</td>\n",
       "      <td>0.006748</td>\n",
       "      <td>-0.047777</td>\n",
       "      <td>19.5</td>\n",
       "      <td>80.5</td>\n",
       "    </tr>\n",
       "    <tr>\n",
       "      <th>7</th>\n",
       "      <td>bartender</td>\n",
       "      <td>-0.049371</td>\n",
       "      <td>-0.001636</td>\n",
       "      <td>49.9</td>\n",
       "      <td>50.1</td>\n",
       "    </tr>\n",
       "    <tr>\n",
       "      <th>8</th>\n",
       "      <td>physician</td>\n",
       "      <td>0.070181</td>\n",
       "      <td>0.032407</td>\n",
       "      <td>59.2</td>\n",
       "      <td>40.8</td>\n",
       "    </tr>\n",
       "    <tr>\n",
       "      <th>9</th>\n",
       "      <td>dentist</td>\n",
       "      <td>0.017646</td>\n",
       "      <td>-0.009330</td>\n",
       "      <td>66.1</td>\n",
       "      <td>33.9</td>\n",
       "    </tr>\n",
       "    <tr>\n",
       "      <th>10</th>\n",
       "      <td>caregiver</td>\n",
       "      <td>-0.216443</td>\n",
       "      <td>-0.201940</td>\n",
       "      <td>14.4</td>\n",
       "      <td>85.6</td>\n",
       "    </tr>\n",
       "    <tr>\n",
       "      <th>11</th>\n",
       "      <td>pharmacist</td>\n",
       "      <td>0.001903</td>\n",
       "      <td>-0.007087</td>\n",
       "      <td>39.6</td>\n",
       "      <td>60.4</td>\n",
       "    </tr>\n",
       "    <tr>\n",
       "      <th>12</th>\n",
       "      <td>dietitian</td>\n",
       "      <td>-0.133724</td>\n",
       "      <td>-0.198515</td>\n",
       "      <td>7.9</td>\n",
       "      <td>92.1</td>\n",
       "    </tr>\n",
       "    <tr>\n",
       "      <th>13</th>\n",
       "      <td>hygienist</td>\n",
       "      <td>-0.086968</td>\n",
       "      <td>-0.112563</td>\n",
       "      <td>4.0</td>\n",
       "      <td>96.0</td>\n",
       "    </tr>\n",
       "    <tr>\n",
       "      <th>14</th>\n",
       "      <td>biologist</td>\n",
       "      <td>-0.011496</td>\n",
       "      <td>-0.016525</td>\n",
       "      <td>52.3</td>\n",
       "      <td>47.7</td>\n",
       "    </tr>\n",
       "    <tr>\n",
       "      <th>15</th>\n",
       "      <td>lawyer</td>\n",
       "      <td>0.083440</td>\n",
       "      <td>0.039226</td>\n",
       "      <td>63.6</td>\n",
       "      <td>36.4</td>\n",
       "    </tr>\n",
       "    <tr>\n",
       "      <th>16</th>\n",
       "      <td>psychologist</td>\n",
       "      <td>-0.068502</td>\n",
       "      <td>-0.062206</td>\n",
       "      <td>20.3</td>\n",
       "      <td>79.7</td>\n",
       "    </tr>\n",
       "    <tr>\n",
       "      <th>17</th>\n",
       "      <td>waiter</td>\n",
       "      <td>0.006936</td>\n",
       "      <td>0.060282</td>\n",
       "      <td>28.7</td>\n",
       "      <td>71.3</td>\n",
       "    </tr>\n",
       "    <tr>\n",
       "      <th>18</th>\n",
       "      <td>hotelier</td>\n",
       "      <td>0.042300</td>\n",
       "      <td>0.083004</td>\n",
       "      <td>50.5</td>\n",
       "      <td>49.5</td>\n",
       "    </tr>\n",
       "    <tr>\n",
       "      <th>19</th>\n",
       "      <td>nurse</td>\n",
       "      <td>-0.217130</td>\n",
       "      <td>-0.314868</td>\n",
       "      <td>11.1</td>\n",
       "      <td>88.9</td>\n",
       "    </tr>\n",
       "    <tr>\n",
       "      <th>20</th>\n",
       "      <td>geologist</td>\n",
       "      <td>0.105528</td>\n",
       "      <td>0.078783</td>\n",
       "      <td>67.0</td>\n",
       "      <td>33.0</td>\n",
       "    </tr>\n",
       "    <tr>\n",
       "      <th>21</th>\n",
       "      <td>veterinary</td>\n",
       "      <td>0.038056</td>\n",
       "      <td>-0.041685</td>\n",
       "      <td>31.7</td>\n",
       "      <td>68.3</td>\n",
       "    </tr>\n",
       "  </tbody>\n",
       "</table>\n",
       "</div>"
      ],
      "text/plain": [
       "      Profession  Proj g_diff  Proj g_pca_0  % male  % female\n",
       "0        trucker    -0.059179     -0.010548    93.3       6.7\n",
       "1    electrician     0.077283      0.078696    97.8       2.2\n",
       "2       engineer     0.131760      0.129596    84.3      15.7\n",
       "3      architect     0.070402      0.079504    75.5      24.5\n",
       "4     accountant     0.092888      0.065155    38.3      61.7\n",
       "5       reporter    -0.049922     -0.084756    54.9      45.1\n",
       "6        teacher     0.006748     -0.047777    19.5      80.5\n",
       "7      bartender    -0.049371     -0.001636    49.9      50.1\n",
       "8      physician     0.070181      0.032407    59.2      40.8\n",
       "9        dentist     0.017646     -0.009330    66.1      33.9\n",
       "10     caregiver    -0.216443     -0.201940    14.4      85.6\n",
       "11    pharmacist     0.001903     -0.007087    39.6      60.4\n",
       "12     dietitian    -0.133724     -0.198515     7.9      92.1\n",
       "13     hygienist    -0.086968     -0.112563     4.0      96.0\n",
       "14     biologist    -0.011496     -0.016525    52.3      47.7\n",
       "15        lawyer     0.083440      0.039226    63.6      36.4\n",
       "16  psychologist    -0.068502     -0.062206    20.3      79.7\n",
       "17        waiter     0.006936      0.060282    28.7      71.3\n",
       "18      hotelier     0.042300      0.083004    50.5      49.5\n",
       "19         nurse    -0.217130     -0.314868    11.1      88.9\n",
       "20     geologist     0.105528      0.078783    67.0      33.0\n",
       "21    veterinary     0.038056     -0.041685    31.7      68.3"
      ]
     },
     "execution_count": 13,
     "metadata": {},
     "output_type": "execute_result"
    }
   ],
   "source": [
    "# print results\n",
    "col0 = [] # pandas columns\n",
    "col1 = []\n",
    "col2 = []\n",
    "col3 = []\n",
    "col4 = []\n",
    "\n",
    "for i in range(len(proj_g_diff)):\n",
    "    col0.append(proj_g_diff[i][0]) # profession\n",
    "    col1.append(proj_g_diff[i][1]) # projection on g_diff\n",
    "    col2.append(proj_g_pca_0[i][1]) # projection on g_pca_0\n",
    "    col3.append(proj_g_diff[i][2]) # %male\n",
    "    col4.append(proj_g_diff[i][3]) # %female\n",
    "    \n",
    "data = {'Profession':col0, \n",
    "           'Proj g_diff':col1,\n",
    "           'Proj g_pca_0':col2, \n",
    "           '% male':col3, \n",
    "           '% female':col4}\n",
    "table = pd.DataFrame(data)\n",
    "table"
   ]
  },
  {
   "cell_type": "code",
   "execution_count": 14,
   "metadata": {},
   "outputs": [],
   "source": [
    "# pearson correlation\n",
    "r_g_diff = scipy.stats.pearsonr(col4, col1)[0]\n",
    "r_g_pca_0 = scipy.stats.pearsonr(col4, col2)[0]\n",
    "\n",
    "p_g_diff = scipy.stats.pearsonr(col4, col1)[1]\n",
    "p_g_pca_0 = scipy.stats.pearsonr(col4, col2)[1]"
   ]
  },
  {
   "cell_type": "code",
   "execution_count": 15,
   "metadata": {},
   "outputs": [
    {
     "data": {
      "text/html": [
       "<div>\n",
       "<style scoped>\n",
       "    .dataframe tbody tr th:only-of-type {\n",
       "        vertical-align: middle;\n",
       "    }\n",
       "\n",
       "    .dataframe tbody tr th {\n",
       "        vertical-align: top;\n",
       "    }\n",
       "\n",
       "    .dataframe thead th {\n",
       "        text-align: right;\n",
       "    }\n",
       "</style>\n",
       "<table border=\"1\" class=\"dataframe\">\n",
       "  <thead>\n",
       "    <tr style=\"text-align: right;\">\n",
       "      <th></th>\n",
       "      <th>g_diff</th>\n",
       "      <th>g_pca_0</th>\n",
       "    </tr>\n",
       "  </thead>\n",
       "  <tbody>\n",
       "    <tr>\n",
       "      <th>r</th>\n",
       "      <td>-0.645954</td>\n",
       "      <td>-0.707377</td>\n",
       "    </tr>\n",
       "    <tr>\n",
       "      <th>p</th>\n",
       "      <td>0.001165</td>\n",
       "      <td>0.000232</td>\n",
       "    </tr>\n",
       "  </tbody>\n",
       "</table>\n",
       "</div>"
      ],
      "text/plain": [
       "     g_diff   g_pca_0\n",
       "r -0.645954 -0.707377\n",
       "p  0.001165  0.000232"
      ]
     },
     "execution_count": 15,
     "metadata": {},
     "output_type": "execute_result"
    }
   ],
   "source": [
    "pearson_data = {'g_diff':[r_g_diff,p_g_diff],\n",
    "                'g_pca_0':[r_g_pca_0,p_g_pca_0]}\n",
    "pearson_table = pd.DataFrame(pearson_data, index=['r','p'])\n",
    "pearson_table"
   ]
  },
  {
   "cell_type": "code",
   "execution_count": 16,
   "metadata": {},
   "outputs": [
    {
     "data": {
      "image/png": "[encoded data removed]",
      "text/plain": [
       "<Figure size 720x720 with 1 Axes>"
      ]
     },
     "metadata": {
      "needs_background": "light"
     },
     "output_type": "display_data"
    }
   ],
   "source": [
    "# correlation plot g_diff\n",
    "slope, intercept, r, p, stderr = scipy.stats.linregress(col4, col1)\n",
    "line = f'y={intercept:.3f}+{slope:.3f}x, r={r:.2f}, p={p:.2e}'\n",
    "\n",
    "fig = plt.figure(figsize=(10,10))    \n",
    "ax = fig.add_subplot(111)\n",
    "ax.grid(linewidth=0.5)\n",
    "ax.plot(col4, col1, linewidth=0, marker='s', color='blue', label='ungendered')\n",
    "#ax.plot(np.array(col4), intercept + slope * np.array(col4), label=line)\n",
    "xlims = plt.xlim()\n",
    "x = [i for i in col4]\n",
    "x.insert(0, xlims[0])\n",
    "x.append(xlims[1])\n",
    "ax.plot(np.array(x), intercept + slope * np.array(x), label=line)\n",
    "plt.xlim(xlims)\n",
    "\n",
    "ax.set_xlabel('% female')\n",
    "ax.set_ylabel('gender score')\n",
    "ax.set_title(\"g_diff_0\")\n",
    "ax.legend()\n",
    "\n",
    "for i, label in enumerate(col0):\n",
    "    plt.annotate(label, # this is the text\n",
    "                 (col4[i], col1[i]), # this is the point to label\n",
    "                 textcoords=\"offset points\", # how to position the text\n",
    "                 xytext=(0,10), # distance from text to points (x,y)\n",
    "                 ha='center') # horizontal alignment can be left, right or center\n",
    "    \n",
    "    \n",
    "plt.show()\n",
    "#fig.savefig('plot/ung/correlation/ft_g_diff')"
   ]
  },
  {
   "cell_type": "code",
   "execution_count": 17,
   "metadata": {},
   "outputs": [
    {
     "data": {
      "image/png": "[encoded data removed]",
      "text/plain": [
       "<Figure size 720x720 with 1 Axes>"
      ]
     },
     "metadata": {
      "needs_background": "light"
     },
     "output_type": "display_data"
    }
   ],
   "source": [
    "# correlation plot g_pca_0\n",
    "slope, intercept, r, p, stderr = scipy.stats.linregress(col4, col2)\n",
    "line = f'y={intercept:.3f}+{slope:.3f}x, r={r:.2f}, p={p:.2e}'\n",
    "\n",
    "fig = plt.figure(figsize=(10,10))    \n",
    "ax = fig.add_subplot(111)\n",
    "ax.grid(linewidth=0.5)\n",
    "ax.plot(col4, col2, linewidth=0, marker='s', color='red', label='ungendered')\n",
    "#ax.plot(np.array(col4), intercept + slope * np.array(col4), label=line)\n",
    "xlims = plt.xlim()\n",
    "x = [i for i in col4]\n",
    "x.insert(0, xlims[0])\n",
    "x.append(xlims[1])\n",
    "ax.plot(np.array(x), intercept + slope * np.array(x), label=line)\n",
    "plt.xlim(xlims)\n",
    "ax.set_xlabel('% female')\n",
    "ax.set_ylabel('gender score')\n",
    "ax.set_title(\"g_pca_0\")\n",
    "ax.legend(facecolor='white')\n",
    "\n",
    "for i, label in enumerate(col0):\n",
    "    plt.annotate(label, # this is the text\n",
    "                 (col4[i], col2[i]), # this is the point to label\n",
    "                 textcoords=\"offset points\", # how to position the text\n",
    "                 xytext=(0,10), # distance from text to points (x,y)\n",
    "                 ha='center') # horizontal alignment can be left, right or center\n",
    "plt.show()\n",
    "#fig.savefig('plot/ung/correlation/ft_g_pca_0')"
   ]
  },
  {
   "cell_type": "code",
   "execution_count": null,
   "metadata": {},
   "outputs": [],
   "source": []
  },
  {
   "cell_type": "code",
   "execution_count": null,
   "metadata": {},
   "outputs": [],
   "source": []
  },
  {
   "cell_type": "code",
   "execution_count": null,
   "metadata": {},
   "outputs": [],
   "source": []
  }
 ],
 "metadata": {
  "kernelspec": {
   "display_name": "Python 3",
   "language": "python",
   "name": "python3"
  },
  "language_info": {
   "codemirror_mode": {
    "name": "ipython",
    "version": 3
   },
   "file_extension": ".py",
   "mimetype": "text/x-python",
   "name": "python",
   "nbconvert_exporter": "python",
   "pygments_lexer": "ipython3",
   "version": "3.7.3"
  }
 },
 "nbformat": 4,
 "nbformat_minor": 2
}
