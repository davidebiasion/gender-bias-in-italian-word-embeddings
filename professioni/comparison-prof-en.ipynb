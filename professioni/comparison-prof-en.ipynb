{
 "cells": [
  {
   "cell_type": "markdown",
   "metadata": {},
   "source": [
    "# Professions: comparison\n",
    "\n",
    "In the following notebook we're going to compare all the approaches we developed and test them on a small amount of professions for which we have precise statics about. We will use both FastText's and Gonen's embeddings."
   ]
  },
  {
   "cell_type": "code",
   "execution_count": 1,
   "metadata": {},
   "outputs": [],
   "source": [
    "# general\n",
    "import pandas as pd\n",
    "import numpy as np\n",
    "import scipy.stats\n",
    "import codecs\n",
    "from matplotlib import pyplot as plt\n",
    "from numpy import linalg as LA\n",
    "\n",
    "# bolukbasi's\n",
    "import debiaswe as dwe\n",
    "import debiaswe.we as we\n",
    "from debiaswe.we import WordEmbedding\n",
    "\n",
    "# mine\n",
    "import db_functions as db"
   ]
  },
  {
   "cell_type": "markdown",
   "metadata": {},
   "source": [
    "### Step 1: Load embeddings\n",
    "\n",
    "We load all the emdeddings using the same methods and applying the same preprocessing in order to have a common start."
   ]
  },
  {
   "cell_type": "code",
   "execution_count": 2,
   "metadata": {},
   "outputs": [
    {
     "name": "stdout",
     "output_type": "stream",
     "text": [
      "*** Reading data from ../embedding/fast-text/cc.en.300.reduced.vec\n",
      "(183, 300)\n",
      "183 words of dimension 300 : he, his, her, she, ..., broadminded, hardhearted, achievement-oriented, comunicative\n",
      "183 words of dimension 300 : he, his, her, she, ..., broadminded, hardhearted, achievement-oriented, comunicative\n"
     ]
    }
   ],
   "source": [
    "# load FastText's emdeddings\n",
    "E_ft =  WordEmbedding('../embedding/fast-text/cc.en.300.reduced.vec', 'ft')"
   ]
  },
  {
   "cell_type": "markdown",
   "metadata": {},
   "source": [
    "### Step 2: working whit FastText's embeddings"
   ]
  },
  {
   "cell_type": "markdown",
   "metadata": {},
   "source": [
    "#### Step 2.1: vector difference"
   ]
  },
  {
   "cell_type": "code",
   "execution_count": 3,
   "metadata": {},
   "outputs": [],
   "source": [
    "# gender direction\n",
    "g_diff = E_ft.diff('he', 'she')"
   ]
  },
  {
   "cell_type": "markdown",
   "metadata": {},
   "source": [
    "#### Step 2.2: PCA"
   ]
  },
  {
   "cell_type": "code",
   "execution_count": 4,
   "metadata": {},
   "outputs": [],
   "source": [
    "# list of pairs to define gender\n",
    "gender_pairs = [['he','she'],\n",
    "                ['his','her'],\n",
    "                ['man','woman'],\n",
    "                ['john','mary'],\n",
    "                ['himself','herself'],\n",
    "                ['son','daughter'],\n",
    "                ['father','mother'],\n",
    "                ['guy','gal'],\n",
    "                ['boy','girl'],\n",
    "                ['male','female']]"
   ]
  },
  {
   "cell_type": "code",
   "execution_count": 5,
   "metadata": {},
   "outputs": [],
   "source": [
    "# PCA\n",
    "pca = we.doPCA(gender_pairs, E_ft)\n",
    "\n",
    "# PCA components\n",
    "pc = pca.components_\n",
    "\n",
    "# singular values\n",
    "sv = pca.singular_values_"
   ]
  },
  {
   "cell_type": "code",
   "execution_count": 6,
   "metadata": {},
   "outputs": [
    {
     "name": "stdout",
     "output_type": "stream",
     "text": [
      "Singular values:\n",
      "[1.2744704  0.60642874 0.56670284 0.3623385  0.30372494 0.27129108\n",
      " 0.2500329  0.23400122 0.18252374 0.15088211]\n"
     ]
    }
   ],
   "source": [
    "print(\"Singular values:\")\n",
    "print(sv)"
   ]
  },
  {
   "cell_type": "code",
   "execution_count": 7,
   "metadata": {},
   "outputs": [
    {
     "data": {
      "image/png": "[encoded data removed]",
      "text/plain": [
       "<Figure size 432x288 with 1 Axes>"
      ]
     },
     "metadata": {
      "needs_background": "light"
     },
     "output_type": "display_data"
    }
   ],
   "source": [
    "#fig = plt.figure(figsize=(10,7))    \n",
    "plt.bar(range(pca.n_components_), sv)\n",
    "plt.title(\"Singular values\")\n",
    "plt.show()\n",
    "#fig.savefig('pca.png')"
   ]
  },
  {
   "cell_type": "code",
   "execution_count": 8,
   "metadata": {},
   "outputs": [
    {
     "data": {
      "text/plain": [
       "array([0.5835006 , 0.13211173, 0.11536991, 0.04716401, 0.03313925,\n",
       "       0.02643947, 0.02245826, 0.01967062, 0.01196797, 0.00817819],\n",
       "      dtype=float32)"
      ]
     },
     "execution_count": 8,
     "metadata": {},
     "output_type": "execute_result"
    }
   ],
   "source": [
    "pca.explained_variance_ratio_"
   ]
  },
  {
   "cell_type": "code",
   "execution_count": 10,
   "metadata": {},
   "outputs": [
    {
     "data": {
      "image/png": "[encoded data removed]",
      "text/plain": [
       "<Figure size 720x504 with 1 Axes>"
      ]
     },
     "metadata": {
      "needs_background": "light"
     },
     "output_type": "display_data"
    }
   ],
   "source": [
    "fig = plt.figure(figsize=(10,7))  \n",
    "plt.bar(range(pca.n_components_), pca.explained_variance_ratio_)\n",
    "plt.show()\n",
    "fig.savefig('pca-en.pdf', format='pdf')"
   ]
  },
  {
   "cell_type": "code",
   "execution_count": 10,
   "metadata": {},
   "outputs": [],
   "source": [
    "# gender direction\n",
    "g_pca_0  = pc[0]/LA.norm(pc[0])"
   ]
  },
  {
   "cell_type": "markdown",
   "metadata": {},
   "source": [
    "#### Step 2.4: compute projections"
   ]
  },
  {
   "cell_type": "markdown",
   "metadata": {},
   "source": [
    "##### All professions"
   ]
  },
  {
   "cell_type": "code",
   "execution_count": 11,
   "metadata": {},
   "outputs": [],
   "source": [
    "# read professions\n",
    "prof_truth = db.read('professions_en.csv', 'truth')"
   ]
  },
  {
   "cell_type": "code",
   "execution_count": 12,
   "metadata": {},
   "outputs": [],
   "source": [
    "# compute projection of each profession on g_diff\n",
    "proj_g_diff = db.prof_proj(E_ft, prof_truth, g_diff, 'istat')\n",
    "\n",
    "# compute projection of each profession on g_pca_0\n",
    "proj_g_pca_0 = db.prof_proj(E_ft, prof_truth, g_pca_0, 'istat')"
   ]
  },
  {
   "cell_type": "code",
   "execution_count": 18,
   "metadata": {},
   "outputs": [
    {
     "data": {
      "text/html": [
       "<div>\n",
       "<style scoped>\n",
       "    .dataframe tbody tr th:only-of-type {\n",
       "        vertical-align: middle;\n",
       "    }\n",
       "\n",
       "    .dataframe tbody tr th {\n",
       "        vertical-align: top;\n",
       "    }\n",
       "\n",
       "    .dataframe thead th {\n",
       "        text-align: right;\n",
       "    }\n",
       "</style>\n",
       "<table border=\"1\" class=\"dataframe\">\n",
       "  <thead>\n",
       "    <tr style=\"text-align: right;\">\n",
       "      <th></th>\n",
       "      <th>Profession</th>\n",
       "      <th>Proj g_diff</th>\n",
       "      <th>Proj g_pca_0</th>\n",
       "      <th>% male</th>\n",
       "      <th>% female</th>\n",
       "    </tr>\n",
       "  </thead>\n",
       "  <tbody>\n",
       "    <tr>\n",
       "      <th>0</th>\n",
       "      <td>trucker</td>\n",
       "      <td>0.032962</td>\n",
       "      <td>0.056795</td>\n",
       "      <td>93.3</td>\n",
       "      <td>6.7</td>\n",
       "    </tr>\n",
       "    <tr>\n",
       "      <th>1</th>\n",
       "      <td>electrician</td>\n",
       "      <td>0.070360</td>\n",
       "      <td>0.129626</td>\n",
       "      <td>97.8</td>\n",
       "      <td>2.2</td>\n",
       "    </tr>\n",
       "    <tr>\n",
       "      <th>2</th>\n",
       "      <td>engineer</td>\n",
       "      <td>0.114277</td>\n",
       "      <td>0.163338</td>\n",
       "      <td>84.3</td>\n",
       "      <td>15.7</td>\n",
       "    </tr>\n",
       "    <tr>\n",
       "      <th>3</th>\n",
       "      <td>architect</td>\n",
       "      <td>0.089002</td>\n",
       "      <td>0.132021</td>\n",
       "      <td>75.5</td>\n",
       "      <td>24.5</td>\n",
       "    </tr>\n",
       "    <tr>\n",
       "      <th>4</th>\n",
       "      <td>accountant</td>\n",
       "      <td>-0.014347</td>\n",
       "      <td>0.030293</td>\n",
       "      <td>38.3</td>\n",
       "      <td>61.7</td>\n",
       "    </tr>\n",
       "    <tr>\n",
       "      <th>5</th>\n",
       "      <td>reporter</td>\n",
       "      <td>-0.046202</td>\n",
       "      <td>-0.038418</td>\n",
       "      <td>54.9</td>\n",
       "      <td>45.1</td>\n",
       "    </tr>\n",
       "    <tr>\n",
       "      <th>6</th>\n",
       "      <td>teacher</td>\n",
       "      <td>-0.113653</td>\n",
       "      <td>-0.076836</td>\n",
       "      <td>19.5</td>\n",
       "      <td>80.5</td>\n",
       "    </tr>\n",
       "    <tr>\n",
       "      <th>7</th>\n",
       "      <td>bartender</td>\n",
       "      <td>-0.010116</td>\n",
       "      <td>0.026357</td>\n",
       "      <td>49.9</td>\n",
       "      <td>50.1</td>\n",
       "    </tr>\n",
       "    <tr>\n",
       "      <th>8</th>\n",
       "      <td>physician</td>\n",
       "      <td>-0.004888</td>\n",
       "      <td>0.026920</td>\n",
       "      <td>59.2</td>\n",
       "      <td>40.8</td>\n",
       "    </tr>\n",
       "    <tr>\n",
       "      <th>9</th>\n",
       "      <td>dentist</td>\n",
       "      <td>0.006543</td>\n",
       "      <td>0.013513</td>\n",
       "      <td>66.1</td>\n",
       "      <td>33.9</td>\n",
       "    </tr>\n",
       "    <tr>\n",
       "      <th>10</th>\n",
       "      <td>caregiver</td>\n",
       "      <td>-0.206022</td>\n",
       "      <td>-0.169805</td>\n",
       "      <td>14.4</td>\n",
       "      <td>85.6</td>\n",
       "    </tr>\n",
       "    <tr>\n",
       "      <th>11</th>\n",
       "      <td>pharmacist</td>\n",
       "      <td>-0.054656</td>\n",
       "      <td>-0.037470</td>\n",
       "      <td>39.6</td>\n",
       "      <td>60.4</td>\n",
       "    </tr>\n",
       "    <tr>\n",
       "      <th>12</th>\n",
       "      <td>dietitian</td>\n",
       "      <td>-0.175735</td>\n",
       "      <td>-0.208227</td>\n",
       "      <td>7.9</td>\n",
       "      <td>92.1</td>\n",
       "    </tr>\n",
       "    <tr>\n",
       "      <th>13</th>\n",
       "      <td>hygienist</td>\n",
       "      <td>-0.114924</td>\n",
       "      <td>-0.137797</td>\n",
       "      <td>4.0</td>\n",
       "      <td>96.0</td>\n",
       "    </tr>\n",
       "    <tr>\n",
       "      <th>14</th>\n",
       "      <td>biologist</td>\n",
       "      <td>0.042086</td>\n",
       "      <td>0.041136</td>\n",
       "      <td>52.3</td>\n",
       "      <td>47.7</td>\n",
       "    </tr>\n",
       "    <tr>\n",
       "      <th>15</th>\n",
       "      <td>lawyer</td>\n",
       "      <td>-0.012626</td>\n",
       "      <td>0.033954</td>\n",
       "      <td>63.6</td>\n",
       "      <td>36.4</td>\n",
       "    </tr>\n",
       "    <tr>\n",
       "      <th>16</th>\n",
       "      <td>psychologist</td>\n",
       "      <td>-0.050882</td>\n",
       "      <td>-0.008790</td>\n",
       "      <td>20.3</td>\n",
       "      <td>79.7</td>\n",
       "    </tr>\n",
       "    <tr>\n",
       "      <th>17</th>\n",
       "      <td>waiter</td>\n",
       "      <td>0.023179</td>\n",
       "      <td>0.074318</td>\n",
       "      <td>28.7</td>\n",
       "      <td>71.3</td>\n",
       "    </tr>\n",
       "    <tr>\n",
       "      <th>18</th>\n",
       "      <td>hotelier</td>\n",
       "      <td>0.016332</td>\n",
       "      <td>0.029344</td>\n",
       "      <td>50.5</td>\n",
       "      <td>49.5</td>\n",
       "    </tr>\n",
       "    <tr>\n",
       "      <th>19</th>\n",
       "      <td>nurse</td>\n",
       "      <td>-0.254209</td>\n",
       "      <td>-0.245827</td>\n",
       "      <td>11.1</td>\n",
       "      <td>88.9</td>\n",
       "    </tr>\n",
       "    <tr>\n",
       "      <th>20</th>\n",
       "      <td>geologist</td>\n",
       "      <td>0.080684</td>\n",
       "      <td>0.084505</td>\n",
       "      <td>67.0</td>\n",
       "      <td>33.0</td>\n",
       "    </tr>\n",
       "    <tr>\n",
       "      <th>21</th>\n",
       "      <td>veterinary</td>\n",
       "      <td>-0.044727</td>\n",
       "      <td>-0.060807</td>\n",
       "      <td>31.7</td>\n",
       "      <td>68.3</td>\n",
       "    </tr>\n",
       "  </tbody>\n",
       "</table>\n",
       "</div>"
      ],
      "text/plain": [
       "      Profession  Proj g_diff  Proj g_pca_0  % male  % female\n",
       "0        trucker     0.032962      0.056795    93.3       6.7\n",
       "1    electrician     0.070360      0.129626    97.8       2.2\n",
       "2       engineer     0.114277      0.163338    84.3      15.7\n",
       "3      architect     0.089002      0.132021    75.5      24.5\n",
       "4     accountant    -0.014347      0.030293    38.3      61.7\n",
       "5       reporter    -0.046202     -0.038418    54.9      45.1\n",
       "6        teacher    -0.113653     -0.076836    19.5      80.5\n",
       "7      bartender    -0.010116      0.026357    49.9      50.1\n",
       "8      physician    -0.004888      0.026920    59.2      40.8\n",
       "9        dentist     0.006543      0.013513    66.1      33.9\n",
       "10     caregiver    -0.206022     -0.169805    14.4      85.6\n",
       "11    pharmacist    -0.054656     -0.037470    39.6      60.4\n",
       "12     dietitian    -0.175735     -0.208227     7.9      92.1\n",
       "13     hygienist    -0.114924     -0.137797     4.0      96.0\n",
       "14     biologist     0.042086      0.041136    52.3      47.7\n",
       "15        lawyer    -0.012626      0.033954    63.6      36.4\n",
       "16  psychologist    -0.050882     -0.008790    20.3      79.7\n",
       "17        waiter     0.023179      0.074318    28.7      71.3\n",
       "18      hotelier     0.016332      0.029344    50.5      49.5\n",
       "19         nurse    -0.254209     -0.245827    11.1      88.9\n",
       "20     geologist     0.080684      0.084505    67.0      33.0\n",
       "21    veterinary    -0.044727     -0.060807    31.7      68.3"
      ]
     },
     "execution_count": 18,
     "metadata": {},
     "output_type": "execute_result"
    }
   ],
   "source": [
    "# print results\n",
    "col0 = [] # pandas columns\n",
    "col1 = []\n",
    "col2 = []\n",
    "col3 = []\n",
    "col4 = []\n",
    "\n",
    "for i in range(len(proj_g_diff)):\n",
    "    col0.append(proj_g_diff[i][0]) # profession\n",
    "    col1.append(proj_g_diff[i][1]) # projection on g_diff\n",
    "    col2.append(proj_g_pca_0[i][1]) # projection on g_pca_0\n",
    "    col3.append(proj_g_diff[i][2]) # %male\n",
    "    col4.append(proj_g_diff[i][3]) # %female\n",
    "    \n",
    "data = {'Profession':col0, \n",
    "           'Proj g_diff':col1,\n",
    "           'Proj g_pca_0':col2, \n",
    "           '% male':col3, \n",
    "           '% female':col4}\n",
    "table = pd.DataFrame(data)\n",
    "table"
   ]
  },
  {
   "cell_type": "code",
   "execution_count": 19,
   "metadata": {},
   "outputs": [],
   "source": [
    "# pearson correlation\n",
    "r_g_diff = scipy.stats.pearsonr(col4, col1)[0]\n",
    "r_g_pca_0 = scipy.stats.pearsonr(col4, col2)[0]\n",
    "\n",
    "p_g_diff = scipy.stats.pearsonr(col4, col1)[1]\n",
    "p_g_pca_0 = scipy.stats.pearsonr(col4, col2)[1]"
   ]
  },
  {
   "cell_type": "code",
   "execution_count": 20,
   "metadata": {},
   "outputs": [
    {
     "data": {
      "text/html": [
       "<div>\n",
       "<style scoped>\n",
       "    .dataframe tbody tr th:only-of-type {\n",
       "        vertical-align: middle;\n",
       "    }\n",
       "\n",
       "    .dataframe tbody tr th {\n",
       "        vertical-align: top;\n",
       "    }\n",
       "\n",
       "    .dataframe thead th {\n",
       "        text-align: right;\n",
       "    }\n",
       "</style>\n",
       "<table border=\"1\" class=\"dataframe\">\n",
       "  <thead>\n",
       "    <tr style=\"text-align: right;\">\n",
       "      <th></th>\n",
       "      <th>g_diff</th>\n",
       "      <th>g_pca_0</th>\n",
       "    </tr>\n",
       "  </thead>\n",
       "  <tbody>\n",
       "    <tr>\n",
       "      <th>r</th>\n",
       "      <td>-0.826784</td>\n",
       "      <td>-0.830490</td>\n",
       "    </tr>\n",
       "    <tr>\n",
       "      <th>p</th>\n",
       "      <td>0.000002</td>\n",
       "      <td>0.000002</td>\n",
       "    </tr>\n",
       "  </tbody>\n",
       "</table>\n",
       "</div>"
      ],
      "text/plain": [
       "     g_diff   g_pca_0\n",
       "r -0.826784 -0.830490\n",
       "p  0.000002  0.000002"
      ]
     },
     "execution_count": 20,
     "metadata": {},
     "output_type": "execute_result"
    }
   ],
   "source": [
    "pearson_data = {'g_diff':[r_g_diff,p_g_diff],\n",
    "                'g_pca_0':[r_g_pca_0,p_g_pca_0]}\n",
    "pearson_table = pd.DataFrame(pearson_data, index=['r','p'])\n",
    "pearson_table"
   ]
  },
  {
   "cell_type": "code",
   "execution_count": 21,
   "metadata": {},
   "outputs": [
    {
     "data": {
      "image/png": "[encoded data removed]",
      "text/plain": [
       "<Figure size 720x720 with 1 Axes>"
      ]
     },
     "metadata": {
      "needs_background": "light"
     },
     "output_type": "display_data"
    }
   ],
   "source": [
    "# correlation plot g_diff\n",
    "slope, intercept, r, p, stderr = scipy.stats.linregress(col4, col1)\n",
    "line = f'y={intercept:.3f}+{slope:.3f}x, r={r:.2f}, p={p:.2e}'\n",
    "\n",
    "fig = plt.figure(figsize=(10,10))    \n",
    "ax = fig.add_subplot(111)\n",
    "ax.grid(linewidth=0.5)\n",
    "ax.plot(col4, col1, linewidth=0, marker='s', color='blue', label='ungendered')\n",
    "#ax.plot(np.array(col4), intercept + slope * np.array(col4), label=line)\n",
    "xlims = plt.xlim()\n",
    "x = [i for i in col4]\n",
    "x.insert(0, xlims[0])\n",
    "x.append(xlims[1])\n",
    "ax.plot(np.array(x), intercept + slope * np.array(x), label=line)\n",
    "plt.xlim(xlims)\n",
    "\n",
    "ax.set_xlabel('% female')\n",
    "ax.set_ylabel('gender score')\n",
    "ax.set_title(\"g_diff_0\")\n",
    "ax.legend()\n",
    "\n",
    "for i, label in enumerate(col0):\n",
    "    plt.annotate(label, # this is the text\n",
    "                 (col4[i], col1[i]), # this is the point to label\n",
    "                 textcoords=\"offset points\", # how to position the text\n",
    "                 xytext=(0,10), # distance from text to points (x,y)\n",
    "                 ha='center') # horizontal alignment can be left, right or center\n",
    "    \n",
    "    \n",
    "plt.show()\n",
    "#fig.savefig('plot/ung/correlation/ft_g_diff')"
   ]
  },
  {
   "cell_type": "code",
   "execution_count": 22,
   "metadata": {},
   "outputs": [
    {
     "data": {
      "image/png": "[encoded data removed]",
      "text/plain": [
       "<Figure size 720x720 with 1 Axes>"
      ]
     },
     "metadata": {
      "needs_background": "light"
     },
     "output_type": "display_data"
    }
   ],
   "source": [
    "# correlation plot g_pca_0\n",
    "slope, intercept, r, p, stderr = scipy.stats.linregress(col4, col2)\n",
    "line = f'y={intercept:.3f}+{slope:.3f}x, r={r:.2f}, p={p:.2e}'\n",
    "\n",
    "fig = plt.figure(figsize=(10,10))    \n",
    "ax = fig.add_subplot(111)\n",
    "ax.grid(linewidth=0.5)\n",
    "ax.plot(col4, col2, linewidth=0, marker='s', color='red', label='ungendered')\n",
    "#ax.plot(np.array(col4), intercept + slope * np.array(col4), label=line)\n",
    "xlims = plt.xlim()\n",
    "x = [i for i in col4]\n",
    "x.insert(0, xlims[0])\n",
    "x.append(xlims[1])\n",
    "ax.plot(np.array(x), intercept + slope * np.array(x), label=line)\n",
    "plt.xlim(xlims)\n",
    "ax.set_xlabel('% female')\n",
    "ax.set_ylabel('gender score')\n",
    "ax.set_title(\"g_pca_0\")\n",
    "ax.legend(facecolor='white')\n",
    "\n",
    "for i, label in enumerate(col0):\n",
    "    plt.annotate(label, # this is the text\n",
    "                 (col4[i], col2[i]), # this is the point to label\n",
    "                 textcoords=\"offset points\", # how to position the text\n",
    "                 xytext=(0,10), # distance from text to points (x,y)\n",
    "                 ha='center') # horizontal alignment can be left, right or center\n",
    "plt.show()\n",
    "#fig.savefig('plot/ung/correlation/ft_g_pca_0')"
   ]
  },
  {
   "cell_type": "code",
   "execution_count": null,
   "metadata": {},
   "outputs": [],
   "source": []
  },
  {
   "cell_type": "code",
   "execution_count": null,
   "metadata": {},
   "outputs": [],
   "source": []
  },
  {
   "cell_type": "code",
   "execution_count": null,
   "metadata": {},
   "outputs": [],
   "source": []
  }
 ],
 "metadata": {
  "kernelspec": {
   "display_name": "Python 3",
   "language": "python",
   "name": "python3"
  },
  "language_info": {
   "codemirror_mode": {
    "name": "ipython",
    "version": 3
   },
   "file_extension": ".py",
   "mimetype": "text/x-python",
   "name": "python",
   "nbconvert_exporter": "python",
   "pygments_lexer": "ipython3",
   "version": "3.7.3"
  }
 },
 "nbformat": 4,
 "nbformat_minor": 2
}
