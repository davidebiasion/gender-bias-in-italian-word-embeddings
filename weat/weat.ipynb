{
 "cells": [
  {
   "cell_type": "markdown",
   "metadata": {},
   "source": [
    "# Science vs Arts - WEAT"
   ]
  },
  {
   "cell_type": "code",
   "execution_count": 1,
   "metadata": {},
   "outputs": [],
   "source": [
    "# general\n",
    "#import pandas as pd\n",
    "import numpy as np\n",
    "#import scipy.stats\n",
    "#import codecs\n",
    "from matplotlib import pyplot as plt\n",
    "#from numpy import linalg as LA\n",
    "\n",
    "# bolukbasi's\n",
    "import debiaswe as dwe\n",
    "import debiaswe.we as we\n",
    "from debiaswe.we import WordEmbedding\n",
    "\n",
    "# mine\n",
    "import db_functions as db"
   ]
  },
  {
   "cell_type": "markdown",
   "metadata": {},
   "source": [
    "## Using Common Crawl embeddings"
   ]
  },
  {
   "cell_type": "code",
   "execution_count": 2,
   "metadata": {},
   "outputs": [
    {
     "name": "stdout",
     "output_type": "stream",
     "text": [
      "*** Reading data from ../embedding/fast-text/cc.it.300.reduced.vec\n",
      "(485, 300)\n",
      "485 words of dimension 300 : questo, sua, suo, prima, ..., supportivo, calzolaia, supportiva, agrotecnica\n",
      "485 words of dimension 300 : questo, sua, suo, prima, ..., supportivo, calzolaia, supportiva, agrotecnica\n"
     ]
    }
   ],
   "source": [
    "# load FastText's emdeddings\n",
    "E_ft =  WordEmbedding('../embedding/fast-text/cc.it.300.reduced.vec', 'ft')"
   ]
  },
  {
   "cell_type": "markdown",
   "metadata": {},
   "source": [
    "### Using all words"
   ]
  },
  {
   "cell_type": "code",
   "execution_count": 3,
   "metadata": {},
   "outputs": [],
   "source": [
    "X = ['biologia', 'fisica', 'chimica', 'matematica', 'geologia', 'astronomia', 'ingegneria']\n",
    "Y = ['filosofia', 'umanesimo', 'arte', 'letteratura', 'italiano', 'musica', 'storia']\n",
    "\n",
    "A = ['lui', 'uomo', 'padre', 'marito', 'fratello', 'maschio']\n",
    "B = ['lei', 'donna', 'madre', 'moglie', 'sorella', 'femmina']"
   ]
  },
  {
   "cell_type": "code",
   "execution_count": 4,
   "metadata": {},
   "outputs": [],
   "source": [
    "S = db.s_set(E_ft, X, Y, A, B)"
   ]
  },
  {
   "cell_type": "code",
   "execution_count": 5,
   "metadata": {},
   "outputs": [],
   "source": [
    "# compute permutations\n",
    "l = X + Y\n",
    "perm = db.permutations(l)"
   ]
  },
  {
   "cell_type": "code",
   "execution_count": 6,
   "metadata": {},
   "outputs": [],
   "source": [
    "# compute p-value\n",
    "count = 0\n",
    "for p in perm:\n",
    "    s = db.s_set(E_ft, p[0], p[1], A, B)\n",
    "    if s > S:\n",
    "        count += 1\n",
    "\n",
    "p_value = count/len(perm)"
   ]
  },
  {
   "cell_type": "code",
   "execution_count": 7,
   "metadata": {},
   "outputs": [
    {
     "name": "stdout",
     "output_type": "stream",
     "text": [
      "mean_X: -0.03529532431136994\n",
      "mean_Y: -0.024574668900597667\n",
      "num: -0.010720655410772273\n",
      "den: 0.06219275504423432\n"
     ]
    }
   ],
   "source": [
    "# compute effect size\n",
    "d = db.effect_size(E_ft, X, Y, A, B)"
   ]
  },
  {
   "cell_type": "code",
   "execution_count": 8,
   "metadata": {},
   "outputs": [
    {
     "name": "stdout",
     "output_type": "stream",
     "text": [
      "d: -0.17238\n",
      "p:  0.62693\n"
     ]
    }
   ],
   "source": [
    "print('d: %8.5f' % (d))\n",
    "print('p: %8.5f' % (p_value))"
   ]
  },
  {
   "cell_type": "markdown",
   "metadata": {},
   "source": [
    "### Using (lui,lei)"
   ]
  },
  {
   "cell_type": "code",
   "execution_count": 9,
   "metadata": {},
   "outputs": [],
   "source": [
    "X = ['biologia', 'fisica', 'chimica', 'matematica', 'geologia', 'astronomia', 'ingegneria']\n",
    "Y = ['filosofia', 'umanesimo', 'arte', 'letteratura', 'italiano', 'musica', 'storia']\n",
    "\n",
    "A = ['lui']\n",
    "B = ['lei']"
   ]
  },
  {
   "cell_type": "code",
   "execution_count": 10,
   "metadata": {},
   "outputs": [],
   "source": [
    "S = db.s_set(E_ft, X, Y, A, B)"
   ]
  },
  {
   "cell_type": "code",
   "execution_count": 11,
   "metadata": {},
   "outputs": [],
   "source": [
    "# compute permutations\n",
    "l = X + Y\n",
    "perm = db.permutations(l)"
   ]
  },
  {
   "cell_type": "code",
   "execution_count": 12,
   "metadata": {},
   "outputs": [],
   "source": [
    "# compute p-value\n",
    "count = 0\n",
    "for p in perm:\n",
    "    s = db.s_set(E_ft, p[0], p[1], A, B)\n",
    "    if s > S:\n",
    "        count += 1\n",
    "\n",
    "p_value = count/len(perm)"
   ]
  },
  {
   "cell_type": "code",
   "execution_count": 13,
   "metadata": {},
   "outputs": [
    {
     "name": "stdout",
     "output_type": "stream",
     "text": [
      "mean_X: -0.0027532215629305157\n",
      "mean_Y: 0.013297174658094133\n",
      "num: -0.016050396221024648\n",
      "den: 0.03456782685593859\n"
     ]
    }
   ],
   "source": [
    "# compute effect size\n",
    "d = db.effect_size(E_ft, X, Y, A, B)"
   ]
  },
  {
   "cell_type": "code",
   "execution_count": 14,
   "metadata": {},
   "outputs": [
    {
     "name": "stdout",
     "output_type": "stream",
     "text": [
      "d: -0.46432\n",
      "p:  0.79073\n"
     ]
    }
   ],
   "source": [
    "print('d: %8.5f' % (d))\n",
    "print('p: %8.5f' % (p_value))"
   ]
  },
  {
   "cell_type": "markdown",
   "metadata": {},
   "source": [
    "### Using (uomo,donna)"
   ]
  },
  {
   "cell_type": "code",
   "execution_count": 15,
   "metadata": {},
   "outputs": [],
   "source": [
    "X = ['biologia', 'fisica', 'chimica', 'matematica', 'geologia', 'astronomia', 'ingegneria']\n",
    "Y = ['filosofia', 'umanesimo', 'arte', 'letteratura', 'italiano', 'musica', 'storia']\n",
    "\n",
    "A = ['uomo']\n",
    "B = ['donna']"
   ]
  },
  {
   "cell_type": "code",
   "execution_count": 16,
   "metadata": {},
   "outputs": [],
   "source": [
    "S = db.s_set(E_ft, X, Y, A, B)"
   ]
  },
  {
   "cell_type": "code",
   "execution_count": 17,
   "metadata": {},
   "outputs": [],
   "source": [
    "# compute permutations\n",
    "l = X + Y\n",
    "perm = db.permutations(l)"
   ]
  },
  {
   "cell_type": "code",
   "execution_count": 18,
   "metadata": {},
   "outputs": [],
   "source": [
    "# compute p-value\n",
    "count = 0\n",
    "for p in perm:\n",
    "    s = db.s_set(E_ft, p[0], p[1], A, B)\n",
    "    if s > S:\n",
    "        count += 1\n",
    "\n",
    "p_value = count/len(perm)"
   ]
  },
  {
   "cell_type": "code",
   "execution_count": 19,
   "metadata": {},
   "outputs": [
    {
     "name": "stdout",
     "output_type": "stream",
     "text": [
      "mean_X: 0.005071769867624555\n",
      "mean_Y: 0.006523992334093366\n",
      "num: -0.001452222466468811\n",
      "den: 0.09126905893779973\n"
     ]
    }
   ],
   "source": [
    "# compute effect size\n",
    "d = db.effect_size(E_ft, X, Y, A, B)"
   ]
  },
  {
   "cell_type": "code",
   "execution_count": 20,
   "metadata": {},
   "outputs": [
    {
     "name": "stdout",
     "output_type": "stream",
     "text": [
      "d: -0.01591\n",
      "p:  0.51035\n"
     ]
    }
   ],
   "source": [
    "print('d: %8.5f' % (d))\n",
    "print('p: %8.5f' % (p_value))"
   ]
  },
  {
   "cell_type": "markdown",
   "metadata": {},
   "source": [
    "### Using (padre,madre)"
   ]
  },
  {
   "cell_type": "code",
   "execution_count": 21,
   "metadata": {},
   "outputs": [],
   "source": [
    "X = ['biologia', 'fisica', 'chimica', 'matematica', 'geologia', 'astronomia', 'ingegneria']\n",
    "Y = ['filosofia', 'umanesimo', 'arte', 'letteratura', 'italiano', 'musica', 'storia']\n",
    "\n",
    "A = ['padre']\n",
    "B = ['madre']"
   ]
  },
  {
   "cell_type": "code",
   "execution_count": 22,
   "metadata": {},
   "outputs": [],
   "source": [
    "S = db.s_set(E_ft, X, Y, A, B)"
   ]
  },
  {
   "cell_type": "code",
   "execution_count": 23,
   "metadata": {},
   "outputs": [],
   "source": [
    "# compute permutations\n",
    "l = X + Y\n",
    "perm = db.permutations(l)"
   ]
  },
  {
   "cell_type": "code",
   "execution_count": 24,
   "metadata": {},
   "outputs": [],
   "source": [
    "# compute p-value\n",
    "count = 0\n",
    "for p in perm:\n",
    "    s = db.s_set(E_ft, p[0], p[1], A, B)\n",
    "    if s > S:\n",
    "        count += 1\n",
    "\n",
    "p_value = count/len(perm)"
   ]
  },
  {
   "cell_type": "code",
   "execution_count": 25,
   "metadata": {},
   "outputs": [
    {
     "name": "stdout",
     "output_type": "stream",
     "text": [
      "mean_X: -0.07876884724412646\n",
      "mean_Y: -0.04978163753237043\n",
      "num: -0.02898720971175603\n",
      "den: 0.07097883465636591\n"
     ]
    }
   ],
   "source": [
    "# compute effect size\n",
    "d = db.effect_size(E_ft, X, Y, A, B)"
   ]
  },
  {
   "cell_type": "code",
   "execution_count": 26,
   "metadata": {},
   "outputs": [
    {
     "name": "stdout",
     "output_type": "stream",
     "text": [
      "d: -0.40839\n",
      "p:  0.74789\n"
     ]
    }
   ],
   "source": [
    "print('d: %8.5f' % (d))\n",
    "print('p: %8.5f' % (p_value))"
   ]
  },
  {
   "cell_type": "markdown",
   "metadata": {},
   "source": [
    "### Using (marito,moglie)"
   ]
  },
  {
   "cell_type": "code",
   "execution_count": 27,
   "metadata": {},
   "outputs": [],
   "source": [
    "X = ['biologia', 'fisica', 'chimica', 'matematica', 'geologia', 'astronomia', 'ingegneria']\n",
    "Y = ['filosofia', 'umanesimo', 'arte', 'letteratura', 'italiano', 'musica', 'storia']\n",
    "\n",
    "A = ['marito']\n",
    "B = ['moglie']"
   ]
  },
  {
   "cell_type": "code",
   "execution_count": 28,
   "metadata": {},
   "outputs": [],
   "source": [
    "S = db.s_set(E_ft, X, Y, A, B)"
   ]
  },
  {
   "cell_type": "code",
   "execution_count": 29,
   "metadata": {},
   "outputs": [],
   "source": [
    "# compute permutations\n",
    "l = X + Y\n",
    "perm = db.permutations(l)"
   ]
  },
  {
   "cell_type": "code",
   "execution_count": 30,
   "metadata": {},
   "outputs": [],
   "source": [
    "# compute p-value\n",
    "count = 0\n",
    "for p in perm:\n",
    "    s = db.s_set(E_ft, p[0], p[1], A, B)\n",
    "    if s > S:\n",
    "        count += 1\n",
    "\n",
    "p_value = count/len(perm)"
   ]
  },
  {
   "cell_type": "code",
   "execution_count": 31,
   "metadata": {},
   "outputs": [
    {
     "name": "stdout",
     "output_type": "stream",
     "text": [
      "mean_X: -0.06501196111951556\n",
      "mean_Y: -0.06490217415349823\n",
      "num: -0.0001097869660173223\n",
      "den: 0.06853997475821222\n"
     ]
    }
   ],
   "source": [
    "# compute effect size\n",
    "d = db.effect_size(E_ft, X, Y, A, B)"
   ]
  },
  {
   "cell_type": "code",
   "execution_count": 32,
   "metadata": {},
   "outputs": [
    {
     "name": "stdout",
     "output_type": "stream",
     "text": [
      "d: -0.00160\n",
      "p:  0.50131\n"
     ]
    }
   ],
   "source": [
    "print('d: %8.5f' % (d))\n",
    "print('p: %8.5f' % (p_value))"
   ]
  },
  {
   "cell_type": "markdown",
   "metadata": {},
   "source": [
    "### Using (fratello,sorella)"
   ]
  },
  {
   "cell_type": "code",
   "execution_count": 33,
   "metadata": {},
   "outputs": [],
   "source": [
    "X = ['biologia', 'fisica', 'chimica', 'matematica', 'geologia', 'astronomia', 'ingegneria']\n",
    "Y = ['filosofia', 'umanesimo', 'arte', 'letteratura', 'italiano', 'musica', 'storia']\n",
    "\n",
    "A = ['fratello']\n",
    "B = ['sorella']"
   ]
  },
  {
   "cell_type": "code",
   "execution_count": 34,
   "metadata": {},
   "outputs": [],
   "source": [
    "S = db.s_set(E_ft, X, Y, A, B)"
   ]
  },
  {
   "cell_type": "code",
   "execution_count": 35,
   "metadata": {},
   "outputs": [],
   "source": [
    "# compute permutations\n",
    "l = X + Y\n",
    "perm = db.permutations(l)"
   ]
  },
  {
   "cell_type": "code",
   "execution_count": 36,
   "metadata": {},
   "outputs": [],
   "source": [
    "# compute p-value\n",
    "count = 0\n",
    "for p in perm:\n",
    "    s = db.s_set(E_ft, p[0], p[1], A, B)\n",
    "    if s > S:\n",
    "        count += 1\n",
    "\n",
    "p_value = count/len(perm)"
   ]
  },
  {
   "cell_type": "code",
   "execution_count": 37,
   "metadata": {},
   "outputs": [
    {
     "name": "stdout",
     "output_type": "stream",
     "text": [
      "mean_X: -0.04974700723375593\n",
      "mean_Y: -0.04061851224728993\n",
      "num: -0.009128494986466\n",
      "den: 0.07199459917127515\n"
     ]
    }
   ],
   "source": [
    "# compute effect size\n",
    "d = db.effect_size(E_ft, X, Y, A, B)"
   ]
  },
  {
   "cell_type": "code",
   "execution_count": 38,
   "metadata": {},
   "outputs": [
    {
     "name": "stdout",
     "output_type": "stream",
     "text": [
      "d: -0.12679\n",
      "p:  0.59574\n"
     ]
    }
   ],
   "source": [
    "print('d: %8.5f' % (d))\n",
    "print('p: %8.5f' % (p_value))"
   ]
  },
  {
   "cell_type": "markdown",
   "metadata": {},
   "source": [
    "### Using (maschio,femmina)"
   ]
  },
  {
   "cell_type": "code",
   "execution_count": 39,
   "metadata": {},
   "outputs": [],
   "source": [
    "X = ['biologia', 'fisica', 'chimica', 'matematica', 'geologia', 'astronomia', 'ingegneria']\n",
    "Y = ['filosofia', 'umanesimo', 'arte', 'letteratura', 'italiano', 'musica', 'storia']\n",
    "\n",
    "A = ['maschio']\n",
    "B = ['femmina']"
   ]
  },
  {
   "cell_type": "code",
   "execution_count": 40,
   "metadata": {},
   "outputs": [],
   "source": [
    "S = db.s_set(E_ft, X, Y, A, B)"
   ]
  },
  {
   "cell_type": "code",
   "execution_count": 41,
   "metadata": {},
   "outputs": [],
   "source": [
    "# compute permutations\n",
    "l = X + Y\n",
    "perm = db.permutations(l)"
   ]
  },
  {
   "cell_type": "code",
   "execution_count": 42,
   "metadata": {},
   "outputs": [],
   "source": [
    "# compute p-value\n",
    "count = 0\n",
    "for p in perm:\n",
    "    s = db.s_set(E_ft, p[0], p[1], A, B)\n",
    "    if s > S:\n",
    "        count += 1\n",
    "\n",
    "p_value = count/len(perm)"
   ]
  },
  {
   "cell_type": "code",
   "execution_count": 43,
   "metadata": {},
   "outputs": [
    {
     "name": "stdout",
     "output_type": "stream",
     "text": [
      "mean_X: -0.020562678575515747\n",
      "mean_Y: -0.011966856462614877\n",
      "num: -0.00859582211290087\n",
      "den: 0.059585597848470215\n"
     ]
    }
   ],
   "source": [
    "# compute effect size\n",
    "d = db.effect_size(E_ft, X, Y, A, B)"
   ]
  },
  {
   "cell_type": "code",
   "execution_count": 44,
   "metadata": {},
   "outputs": [
    {
     "name": "stdout",
     "output_type": "stream",
     "text": [
      "d: -0.14426\n",
      "p:  0.61061\n"
     ]
    }
   ],
   "source": [
    "print('d: %8.5f' % (d))\n",
    "print('p: %8.5f' % (p_value))"
   ]
  },
  {
   "cell_type": "markdown",
   "metadata": {},
   "source": [
    "### Bonus: using English science-arts words"
   ]
  },
  {
   "cell_type": "code",
   "execution_count": 45,
   "metadata": {},
   "outputs": [],
   "source": [
    "X = ['scienza', 'tecnologia', 'fisica', 'chimica', 'Einstein', 'NASA', 'esperimento', 'astronomia']\n",
    "Y = ['poesia', 'arte', 'Shakespeare', 'danza', 'letteratura', 'romanzo', 'sinfonia', 'dramma']\n",
    "\n",
    "A = ['lui', 'uomo', 'padre', 'marito', 'fratello', 'maschio']\n",
    "B = ['lei', 'donna', 'madre', 'moglie', 'sorella', 'femmina']"
   ]
  },
  {
   "cell_type": "code",
   "execution_count": 46,
   "metadata": {},
   "outputs": [],
   "source": [
    "S = db.s_set(E_ft, X, Y, A, B)"
   ]
  },
  {
   "cell_type": "code",
   "execution_count": 47,
   "metadata": {},
   "outputs": [],
   "source": [
    "# compute permutations\n",
    "l = X + Y\n",
    "perm = db.permutations(l)"
   ]
  },
  {
   "cell_type": "code",
   "execution_count": 48,
   "metadata": {},
   "outputs": [],
   "source": [
    "# compute p-value\n",
    "count = 0\n",
    "for p in perm:\n",
    "    s = db.s_set(E_ft, p[0], p[1], A, B)\n",
    "    if s > S:\n",
    "        count += 1\n",
    "\n",
    "p_value = count/len(perm)"
   ]
  },
  {
   "cell_type": "code",
   "execution_count": 49,
   "metadata": {},
   "outputs": [
    {
     "name": "stdout",
     "output_type": "stream",
     "text": [
      "mean_X: -0.019894990643175937\n",
      "mean_Y: -0.03922694424788157\n",
      "num: 0.01933195360470563\n",
      "den: 0.07159971356103033\n"
     ]
    }
   ],
   "source": [
    "# compute effect size\n",
    "d = db.effect_size(E_ft, X, Y, A, B)"
   ]
  },
  {
   "cell_type": "code",
   "execution_count": 50,
   "metadata": {},
   "outputs": [
    {
     "name": "stdout",
     "output_type": "stream",
     "text": [
      "d:  0.27000\n",
      "p:  0.30733\n"
     ]
    }
   ],
   "source": [
    "print('d: %8.5f' % (d))\n",
    "print('p: %8.5f' % (p_value))"
   ]
  },
  {
   "cell_type": "code",
   "execution_count": null,
   "metadata": {},
   "outputs": [],
   "source": []
  },
  {
   "cell_type": "markdown",
   "metadata": {},
   "source": [
    "## Science vs Arts - inverted sets"
   ]
  },
  {
   "cell_type": "code",
   "execution_count": 51,
   "metadata": {},
   "outputs": [],
   "source": [
    "A = ['biologia', 'fisica', 'chimica', 'matematica', 'geologia', 'astronomia', 'ingegneria']\n",
    "B = ['filosofia', 'umanesimo', 'arte', 'letteratura', 'italiano', 'musica', 'storia']\n",
    "\n",
    "X = ['lui', 'uomo', 'padre', 'marito', 'fratello', 'maschio']\n",
    "Y = ['lei', 'donna', 'madre', 'moglie', 'sorella', 'femmina']"
   ]
  },
  {
   "cell_type": "code",
   "execution_count": 52,
   "metadata": {},
   "outputs": [],
   "source": [
    "S = db.s_set(E_ft, X, Y, A, B)"
   ]
  },
  {
   "cell_type": "code",
   "execution_count": 53,
   "metadata": {},
   "outputs": [],
   "source": [
    "# compute permutations\n",
    "l = X + Y\n",
    "perm = db.permutations(l)"
   ]
  },
  {
   "cell_type": "code",
   "execution_count": 54,
   "metadata": {},
   "outputs": [],
   "source": [
    "# compute p-value\n",
    "count = 0\n",
    "for p in perm:\n",
    "    s = db.s_set(E_ft, p[0], p[1], A, B)\n",
    "    if s > S:\n",
    "        count += 1\n",
    "\n",
    "p_value = count/len(perm)"
   ]
  },
  {
   "cell_type": "code",
   "execution_count": 55,
   "metadata": {},
   "outputs": [
    {
     "name": "stdout",
     "output_type": "stream",
     "text": [
      "mean_X: -0.030991522861378535\n",
      "mean_Y: -0.020270867450606248\n",
      "num: -0.010720655410772287\n",
      "den: 0.016210276343991643\n"
     ]
    }
   ],
   "source": [
    "# compute effect size\n",
    "d = db.effect_size(E_ft, X, Y, A, B)"
   ]
  },
  {
   "cell_type": "code",
   "execution_count": 56,
   "metadata": {},
   "outputs": [
    {
     "name": "stdout",
     "output_type": "stream",
     "text": [
      "d: -0.66135\n",
      "p:  0.86891\n"
     ]
    }
   ],
   "source": [
    "print('d: %8.5f' % (d))\n",
    "print('p: %8.5f' % (p_value))"
   ]
  },
  {
   "cell_type": "code",
   "execution_count": null,
   "metadata": {},
   "outputs": [],
   "source": []
  },
  {
   "cell_type": "markdown",
   "metadata": {},
   "source": [
    "# Career vs Family - WEAT"
   ]
  },
  {
   "cell_type": "markdown",
   "metadata": {},
   "source": [
    "## X=male, Y=female, A=career, B=family"
   ]
  },
  {
   "cell_type": "code",
   "execution_count": 245,
   "metadata": {},
   "outputs": [],
   "source": [
    "A = ['esecutivo', 'management', 'professionale', 'azienda', 'stipendio', 'ufficio', 'business', 'carriera']\n",
    "B = ['casa', 'genitori', 'bambini', 'famiglia', 'cugini', 'matrimonio', 'nozze', 'parenti']\n",
    "\n",
    "X = ['lui', 'uomo', 'padre', 'marito', 'fratello', 'maschio']\n",
    "Y = ['lei', 'donna', 'madre', 'moglie', 'sorella', 'femmina']"
   ]
  },
  {
   "cell_type": "code",
   "execution_count": 246,
   "metadata": {},
   "outputs": [],
   "source": [
    "S = db.s_set(E_ft, X, Y, A, B)"
   ]
  },
  {
   "cell_type": "code",
   "execution_count": 247,
   "metadata": {},
   "outputs": [],
   "source": [
    "# compute permutations\n",
    "l = X + Y\n",
    "perm = db.permutations(l)"
   ]
  },
  {
   "cell_type": "code",
   "execution_count": 248,
   "metadata": {},
   "outputs": [],
   "source": [
    "# compute p-value\n",
    "count = 0\n",
    "for p in perm:\n",
    "    s = db.s_set(E_ft, p[0], p[1], A, B)\n",
    "    if s > S:\n",
    "        count += 1\n",
    "\n",
    "p_value = count/len(perm)"
   ]
  },
  {
   "cell_type": "code",
   "execution_count": 249,
   "metadata": {},
   "outputs": [
    {
     "name": "stdout",
     "output_type": "stream",
     "text": [
      "mean_X: -0.09848074397693078\n",
      "mean_Y: -0.1522774527935932\n",
      "num: 0.05379670881666242\n",
      "den: 0.07909416534587127\n"
     ]
    }
   ],
   "source": [
    "# compute effect size\n",
    "d = db.effect_size(E_ft, X, Y, A, B)"
   ]
  },
  {
   "cell_type": "code",
   "execution_count": 250,
   "metadata": {},
   "outputs": [
    {
     "name": "stdout",
     "output_type": "stream",
     "text": [
      "d:  0.68016\n",
      "p:  0.14085\n"
     ]
    }
   ],
   "source": [
    "print('d: %8.5f' % (d))\n",
    "print('p: %8.5f' % (p_value))"
   ]
  },
  {
   "cell_type": "code",
   "execution_count": 251,
   "metadata": {},
   "outputs": [],
   "source": [
    "den1 = []\n",
    "for x in X:\n",
    "    den1.append([x, db.s_w(E_ft, x, A, B)])\n",
    "for y in Y:\n",
    "    den1.append([y, db.s_w(E_ft, y, A, B)])"
   ]
  },
  {
   "cell_type": "code",
   "execution_count": 252,
   "metadata": {},
   "outputs": [],
   "source": [
    "den1.sort(key=lambda el: el[1])"
   ]
  },
  {
   "cell_type": "code",
   "execution_count": 253,
   "metadata": {},
   "outputs": [
    {
     "data": {
      "image/png": "[encoded data removed]",
      "text/plain": [
       "<Figure size 936x648 with 1 Axes>"
      ]
     },
     "metadata": {
      "needs_background": "light"
     },
     "output_type": "display_data"
    }
   ],
   "source": [
    "y = [el[1] for el in den1]\n",
    "x = [i for i in range(len(den1))]\n",
    "fig = plt.figure(figsize=(13,9))    \n",
    "ax = fig.add_subplot(111)\n",
    "#ax.grid(linewidth=0.5)\n",
    "ax.plot(x, y, linewidth=0, marker='s', color='blue')\n",
    "xlims = plt.xlim()\n",
    "x.insert(0, xlims[0])\n",
    "x.append(xlims[1])\n",
    "y_mean = [np.mean(y) for i in range(len(x))]\n",
    "ax.plot(x, y_mean, color='red')\n",
    "plt.xlim(xlims)\n",
    "\n",
    "ax.get_xaxis().set_visible(False)\n",
    "ax.set_ylabel('c(w,A,B)')\n",
    "ax.set_ylim(-0.28, 0.11)\n",
    "#ax.set_title(\"g_diff_0\")\n",
    "#ax.legend(loc='upper left')\n",
    "\n",
    "for i in range(len(den1)):\n",
    "    plt.annotate(den1[i][0], # this is the text\n",
    "                 (i, den1[i][1]), # this is the point to label\n",
    "                 textcoords=\"offset points\", # how to position the text\n",
    "                 xytext=(0,10), # distance from text to points (x,y)\n",
    "                 ha='center') # horizontal alignment can be left, right or center    \n",
    "    \n",
    "plt.show()\n",
    "fig.savefig('car-fam-attr')"
   ]
  },
  {
   "cell_type": "code",
   "execution_count": null,
   "metadata": {},
   "outputs": [],
   "source": []
  },
  {
   "cell_type": "markdown",
   "metadata": {},
   "source": [
    "## X=career, Y=family, A=male, B=female"
   ]
  },
  {
   "cell_type": "markdown",
   "metadata": {},
   "source": [
    "### Using all words"
   ]
  },
  {
   "cell_type": "code",
   "execution_count": 254,
   "metadata": {},
   "outputs": [],
   "source": [
    "X = ['esecutivo', 'management', 'professionale', 'azienda', 'stipendio', 'ufficio', 'business', 'carriera']\n",
    "Y = ['casa', 'genitori', 'bambini', 'famiglia', 'cugini', 'matrimonio', 'nozze', 'parenti']\n",
    "\n",
    "A = ['lui', 'uomo', 'padre', 'marito', 'fratello', 'maschio']\n",
    "B = ['lei', 'donna', 'madre', 'moglie', 'sorella', 'femmina']"
   ]
  },
  {
   "cell_type": "code",
   "execution_count": 255,
   "metadata": {},
   "outputs": [],
   "source": [
    "S = db.s_set(E_ft, X, Y, A, B)"
   ]
  },
  {
   "cell_type": "code",
   "execution_count": 256,
   "metadata": {},
   "outputs": [],
   "source": [
    "# compute permutations\n",
    "l = X + Y\n",
    "perm = db.permutations(l)"
   ]
  },
  {
   "cell_type": "code",
   "execution_count": 257,
   "metadata": {},
   "outputs": [],
   "source": [
    "# compute p-value\n",
    "count = 0\n",
    "for p in perm:\n",
    "    s = db.s_set(E_ft, p[0], p[1], A, B)\n",
    "    if s > S:\n",
    "        count += 1\n",
    "\n",
    "p_value = count/len(perm)"
   ]
  },
  {
   "cell_type": "code",
   "execution_count": 258,
   "metadata": {},
   "outputs": [
    {
     "name": "stdout",
     "output_type": "stream",
     "text": [
      "mean_X: 0.02459835781094929\n",
      "mean_Y: -0.029198351005713125\n",
      "num: 0.05379670881666242\n",
      "den: 0.06420150541164076\n"
     ]
    }
   ],
   "source": [
    "# compute effect size\n",
    "d = db.effect_size(E_ft, X, Y, A, B)"
   ]
  },
  {
   "cell_type": "code",
   "execution_count": 259,
   "metadata": {},
   "outputs": [
    {
     "name": "stdout",
     "output_type": "stream",
     "text": [
      "d:  0.83794\n",
      "p:  0.05261\n"
     ]
    }
   ],
   "source": [
    "print('d: %8.5f' % (d))\n",
    "print('p: %8.5f' % (p_value))"
   ]
  },
  {
   "cell_type": "code",
   "execution_count": 260,
   "metadata": {},
   "outputs": [],
   "source": [
    "den2 = []\n",
    "for x in X:\n",
    "    den2.append([x, db.s_w(E_ft, x, A, B)])\n",
    "for y in Y:\n",
    "    den2.append([y, db.s_w(E_ft, y, A, B)])"
   ]
  },
  {
   "cell_type": "code",
   "execution_count": 261,
   "metadata": {},
   "outputs": [],
   "source": [
    "den2.sort(key=lambda el: el[1])"
   ]
  },
  {
   "cell_type": "code",
   "execution_count": 262,
   "metadata": {},
   "outputs": [
    {
     "data": {
      "image/png": "[encoded data removed]",
      "text/plain": [
       "<Figure size 936x648 with 1 Axes>"
      ]
     },
     "metadata": {
      "needs_background": "light"
     },
     "output_type": "display_data"
    }
   ],
   "source": [
    "y = [el[1] for el in den2]\n",
    "x = [i for i in range(len(den2))]\n",
    "fig = plt.figure(figsize=(13,9))    \n",
    "ax = fig.add_subplot(111)\n",
    "#ax.grid(linewidth=0.5)\n",
    "ax.plot(x, y, linewidth=0, marker='s', color='blue')\n",
    "xlims = plt.xlim()\n",
    "x.insert(0, xlims[0])\n",
    "x.append(xlims[1])\n",
    "y_mean = [np.mean(y) for i in range(len(x))]\n",
    "ax.plot(x, y_mean, color='red')\n",
    "plt.xlim(xlims)\n",
    "\n",
    "ax.get_xaxis().set_visible(False)\n",
    "ax.set_ylabel('c(w,A,B)')\n",
    "ax.set_ylim(-0.28, 0.11)\n",
    "#ax.set_title(\"g_diff_0\")\n",
    "#ax.legend(loc='upper left')\n",
    "\n",
    "for i in range(len(den2)):\n",
    "    plt.annotate(den2[i][0], # this is the text\n",
    "                 (i, den2[i][1]), # this is the point to label\n",
    "                 textcoords=\"offset points\", # how to position the text\n",
    "                 xytext=(0,10), # distance from text to points (x,y)\n",
    "                 ha='center') # horizontal alignment can be left, right or center    \n",
    "    \n",
    "plt.show()\n",
    "fig.savefig('m-f-attr')"
   ]
  },
  {
   "cell_type": "code",
   "execution_count": null,
   "metadata": {},
   "outputs": [],
   "source": []
  },
  {
   "cell_type": "code",
   "execution_count": 166,
   "metadata": {},
   "outputs": [],
   "source": [
    "# prove per ale"
   ]
  },
  {
   "cell_type": "code",
   "execution_count": 209,
   "metadata": {},
   "outputs": [],
   "source": [
    "X = ['esecutivo']\n",
    "Y = ['casa']\n",
    "\n",
    "A = ['lui']\n",
    "B = ['lei']"
   ]
  },
  {
   "cell_type": "code",
   "execution_count": 210,
   "metadata": {},
   "outputs": [],
   "source": [
    "S = db.s_set(E_ft, X, Y, A, B)"
   ]
  },
  {
   "cell_type": "code",
   "execution_count": 211,
   "metadata": {},
   "outputs": [],
   "source": [
    "# compute permutations\n",
    "l = X + Y\n",
    "perm = db.permutations(l)"
   ]
  },
  {
   "cell_type": "code",
   "execution_count": 212,
   "metadata": {},
   "outputs": [],
   "source": [
    "# compute p-value\n",
    "count = 0\n",
    "for p in perm:\n",
    "    s = db.s_set(E_ft, p[0], p[1], A, B)\n",
    "    if s > S:\n",
    "        count += 1\n",
    "\n",
    "p_value = count/len(perm)"
   ]
  },
  {
   "cell_type": "code",
   "execution_count": 213,
   "metadata": {},
   "outputs": [
    {
     "name": "stdout",
     "output_type": "stream",
     "text": [
      "mean_X: 0.03883776068687439\n",
      "mean_Y: 0.012581437826156616\n",
      "num: 0.026256322860717773\n",
      "den: 0.013128161430358887\n"
     ]
    }
   ],
   "source": [
    "# compute effect size\n",
    "d = db.effect_size(E_ft, X, Y, A, B)"
   ]
  },
  {
   "cell_type": "code",
   "execution_count": 214,
   "metadata": {},
   "outputs": [
    {
     "name": "stdout",
     "output_type": "stream",
     "text": [
      "d:  2.00000\n",
      "p:  0.00000\n"
     ]
    }
   ],
   "source": [
    "print('d: %8.5f' % (d))\n",
    "print('p: %8.5f' % (p_value))"
   ]
  },
  {
   "cell_type": "code",
   "execution_count": null,
   "metadata": {},
   "outputs": [],
   "source": []
  },
  {
   "cell_type": "code",
   "execution_count": null,
   "metadata": {},
   "outputs": [],
   "source": []
  },
  {
   "cell_type": "code",
   "execution_count": 215,
   "metadata": {},
   "outputs": [],
   "source": [
    "A = ['esecutivo']\n",
    "B = ['casa']\n",
    "\n",
    "X = ['lui']\n",
    "Y = ['lei']"
   ]
  },
  {
   "cell_type": "code",
   "execution_count": 216,
   "metadata": {},
   "outputs": [],
   "source": [
    "S = db.s_set(E_ft, X, Y, A, B)"
   ]
  },
  {
   "cell_type": "code",
   "execution_count": 217,
   "metadata": {},
   "outputs": [],
   "source": [
    "# compute permutations\n",
    "l = X + Y\n",
    "perm = db.permutations(l)"
   ]
  },
  {
   "cell_type": "code",
   "execution_count": 218,
   "metadata": {},
   "outputs": [],
   "source": [
    "# compute p-value\n",
    "count = 0\n",
    "for p in perm:\n",
    "    s = db.s_set(E_ft, p[0], p[1], A, B)\n",
    "    if s > S:\n",
    "        count += 1\n",
    "\n",
    "p_value = count/len(perm)"
   ]
  },
  {
   "cell_type": "code",
   "execution_count": 219,
   "metadata": {},
   "outputs": [
    {
     "name": "stdout",
     "output_type": "stream",
     "text": [
      "mean_X: -0.11673244833946228\n",
      "mean_Y: -0.14298877120018005\n",
      "num: 0.026256322860717773\n",
      "den: 0.013128161430358887\n"
     ]
    }
   ],
   "source": [
    "# compute effect size\n",
    "d = db.effect_size(E_ft, X, Y, A, B)"
   ]
  },
  {
   "cell_type": "code",
   "execution_count": 220,
   "metadata": {},
   "outputs": [
    {
     "name": "stdout",
     "output_type": "stream",
     "text": [
      "d:  2.00000\n",
      "p:  0.00000\n"
     ]
    }
   ],
   "source": [
    "print('d: %8.5f' % (d))\n",
    "print('p: %8.5f' % (p_value))"
   ]
  },
  {
   "cell_type": "code",
   "execution_count": null,
   "metadata": {},
   "outputs": [],
   "source": []
  },
  {
   "cell_type": "code",
   "execution_count": null,
   "metadata": {},
   "outputs": [],
   "source": []
  },
  {
   "cell_type": "code",
   "execution_count": null,
   "metadata": {},
   "outputs": [],
   "source": []
  },
  {
   "cell_type": "markdown",
   "metadata": {},
   "source": [
    "### Using (lui,lei)"
   ]
  },
  {
   "cell_type": "code",
   "execution_count": 63,
   "metadata": {},
   "outputs": [],
   "source": [
    "X = ['esecutivo', 'management', 'professionale', 'azienda', 'stipendio', 'ufficio', 'business', 'carriera']\n",
    "Y = ['casa', 'genitori', 'bambini', 'famiglia', 'cugini', 'matrimonio', 'nozze', 'parenti']\n",
    "\n",
    "A = ['lui']\n",
    "B = ['lei']"
   ]
  },
  {
   "cell_type": "code",
   "execution_count": 64,
   "metadata": {},
   "outputs": [],
   "source": [
    "S = db.s_set(E_ft, X, Y, A, B)"
   ]
  },
  {
   "cell_type": "code",
   "execution_count": 65,
   "metadata": {},
   "outputs": [],
   "source": [
    "# compute permutations\n",
    "l = X + Y\n",
    "perm = db.permutations(l)"
   ]
  },
  {
   "cell_type": "code",
   "execution_count": 66,
   "metadata": {},
   "outputs": [],
   "source": [
    "# compute p-value\n",
    "count = 0\n",
    "for p in perm:\n",
    "    s = db.s_set(E_ft, p[0], p[1], A, B)\n",
    "    if s > S:\n",
    "        count += 1\n",
    "\n",
    "p_value = count/len(perm)"
   ]
  },
  {
   "cell_type": "code",
   "execution_count": 67,
   "metadata": {},
   "outputs": [
    {
     "name": "stdout",
     "output_type": "stream",
     "text": [
      "mean_X: 0.009793780744075775\n",
      "mean_Y: -0.005588160827755928\n",
      "num: 0.015381941571831703\n",
      "den: 0.033639024199182806\n"
     ]
    }
   ],
   "source": [
    "# compute effect size\n",
    "d = db.effect_size(E_ft, X, Y, A, B)"
   ]
  },
  {
   "cell_type": "code",
   "execution_count": 68,
   "metadata": {},
   "outputs": [
    {
     "name": "stdout",
     "output_type": "stream",
     "text": [
      "d:  0.45726\n",
      "p:  0.19667\n"
     ]
    }
   ],
   "source": [
    "print('d: %8.5f' % (d))\n",
    "print('p: %8.5f' % (p_value))"
   ]
  },
  {
   "cell_type": "markdown",
   "metadata": {},
   "source": [
    "### Using (uomo,donna)"
   ]
  },
  {
   "cell_type": "code",
   "execution_count": 69,
   "metadata": {},
   "outputs": [],
   "source": [
    "X = ['esecutivo', 'management', 'professionale', 'azienda', 'stipendio', 'ufficio', 'business', 'carriera']\n",
    "Y = ['casa', 'genitori', 'bambini', 'famiglia', 'cugini', 'matrimonio', 'nozze', 'parenti']\n",
    "\n",
    "A = ['uomo']\n",
    "B = ['donna']"
   ]
  },
  {
   "cell_type": "code",
   "execution_count": 70,
   "metadata": {},
   "outputs": [],
   "source": [
    "S = db.s_set(E_ft, X, Y, A, B)"
   ]
  },
  {
   "cell_type": "code",
   "execution_count": 71,
   "metadata": {},
   "outputs": [],
   "source": [
    "# compute permutations\n",
    "l = X + Y\n",
    "perm = db.permutations(l)"
   ]
  },
  {
   "cell_type": "code",
   "execution_count": 72,
   "metadata": {},
   "outputs": [],
   "source": [
    "# compute p-value\n",
    "count = 0\n",
    "for p in perm:\n",
    "    s = db.s_set(E_ft, p[0], p[1], A, B)\n",
    "    if s > S:\n",
    "        count += 1\n",
    "\n",
    "p_value = count/len(perm)"
   ]
  },
  {
   "cell_type": "code",
   "execution_count": 73,
   "metadata": {},
   "outputs": [
    {
     "name": "stdout",
     "output_type": "stream",
     "text": [
      "mean_X: 0.02339845709502697\n",
      "mean_Y: -0.08302968926727772\n",
      "num: 0.10642814636230469\n",
      "den: 0.08415664021543616\n"
     ]
    }
   ],
   "source": [
    "# compute effect size\n",
    "d = db.effect_size(E_ft, X, Y, A, B)"
   ]
  },
  {
   "cell_type": "code",
   "execution_count": 74,
   "metadata": {},
   "outputs": [
    {
     "name": "stdout",
     "output_type": "stream",
     "text": [
      "d:  1.26464\n",
      "p:  0.00466\n"
     ]
    }
   ],
   "source": [
    "print('d: %8.5f' % (d))\n",
    "print('p: %8.5f' % (p_value))"
   ]
  },
  {
   "cell_type": "markdown",
   "metadata": {},
   "source": [
    "### Using (padre,madre)"
   ]
  },
  {
   "cell_type": "code",
   "execution_count": 75,
   "metadata": {},
   "outputs": [],
   "source": [
    "X = ['esecutivo', 'management', 'professionale', 'azienda', 'stipendio', 'ufficio', 'business', 'carriera']\n",
    "Y = ['casa', 'genitori', 'bambini', 'famiglia', 'cugini', 'matrimonio', 'nozze', 'parenti']\n",
    "\n",
    "A = ['padre']\n",
    "B = ['madre']"
   ]
  },
  {
   "cell_type": "code",
   "execution_count": 76,
   "metadata": {},
   "outputs": [],
   "source": [
    "S = db.s_set(E_ft, X, Y, A, B)"
   ]
  },
  {
   "cell_type": "code",
   "execution_count": 77,
   "metadata": {},
   "outputs": [],
   "source": [
    "# compute permutations\n",
    "l = X + Y\n",
    "perm = db.permutations(l)"
   ]
  },
  {
   "cell_type": "code",
   "execution_count": 78,
   "metadata": {},
   "outputs": [],
   "source": [
    "# compute p-value\n",
    "count = 0\n",
    "for p in perm:\n",
    "    s = db.s_set(E_ft, p[0], p[1], A, B)\n",
    "    if s > S:\n",
    "        count += 1\n",
    "\n",
    "p_value = count/len(perm)"
   ]
  },
  {
   "cell_type": "code",
   "execution_count": 79,
   "metadata": {},
   "outputs": [
    {
     "name": "stdout",
     "output_type": "stream",
     "text": [
      "mean_X: 0.03322446811944246\n",
      "mean_Y: -0.019909799098968506\n",
      "num: 0.05313426721841097\n",
      "den: 0.08647782238756689\n"
     ]
    }
   ],
   "source": [
    "# compute effect size\n",
    "d = db.effect_size(E_ft, X, Y, A, B)"
   ]
  },
  {
   "cell_type": "code",
   "execution_count": 80,
   "metadata": {},
   "outputs": [
    {
     "name": "stdout",
     "output_type": "stream",
     "text": [
      "d:  0.61443\n",
      "p:  0.12076\n"
     ]
    }
   ],
   "source": [
    "print('d: %8.5f' % (d))\n",
    "print('p: %8.5f' % (p_value))"
   ]
  },
  {
   "cell_type": "markdown",
   "metadata": {},
   "source": [
    "### Using (marito,moglie)"
   ]
  },
  {
   "cell_type": "code",
   "execution_count": 81,
   "metadata": {},
   "outputs": [],
   "source": [
    "X = ['esecutivo', 'management', 'professionale', 'azienda', 'stipendio', 'ufficio', 'business', 'carriera']\n",
    "Y = ['casa', 'genitori', 'bambini', 'famiglia', 'cugini', 'matrimonio', 'nozze', 'parenti']\n",
    "\n",
    "A = ['marito']\n",
    "B = ['moglie']"
   ]
  },
  {
   "cell_type": "code",
   "execution_count": 82,
   "metadata": {},
   "outputs": [],
   "source": [
    "S = db.s_set(E_ft, X, Y, A, B)"
   ]
  },
  {
   "cell_type": "code",
   "execution_count": 83,
   "metadata": {},
   "outputs": [],
   "source": [
    "# compute permutations\n",
    "l = X + Y\n",
    "perm = db.permutations(l)"
   ]
  },
  {
   "cell_type": "code",
   "execution_count": 84,
   "metadata": {},
   "outputs": [],
   "source": [
    "# compute p-value\n",
    "count = 0\n",
    "for p in perm:\n",
    "    s = db.s_set(E_ft, p[0], p[1], A, B)\n",
    "    if s > S:\n",
    "        count += 1\n",
    "\n",
    "p_value = count/len(perm)"
   ]
  },
  {
   "cell_type": "code",
   "execution_count": 85,
   "metadata": {},
   "outputs": [
    {
     "name": "stdout",
     "output_type": "stream",
     "text": [
      "mean_X: 0.02538270130753517\n",
      "mean_Y: -0.0003341063857078552\n",
      "num: 0.025716807693243027\n",
      "den: 0.08601524019455689\n"
     ]
    }
   ],
   "source": [
    "# compute effect size\n",
    "d = db.effect_size(E_ft, X, Y, A, B)"
   ]
  },
  {
   "cell_type": "code",
   "execution_count": 86,
   "metadata": {},
   "outputs": [
    {
     "name": "stdout",
     "output_type": "stream",
     "text": [
      "d:  0.29898\n",
      "p:  0.28743\n"
     ]
    }
   ],
   "source": [
    "print('d: %8.5f' % (d))\n",
    "print('p: %8.5f' % (p_value))"
   ]
  },
  {
   "cell_type": "markdown",
   "metadata": {},
   "source": [
    "### Using (fratello,sorella)"
   ]
  },
  {
   "cell_type": "code",
   "execution_count": 87,
   "metadata": {},
   "outputs": [],
   "source": [
    "X = ['esecutivo', 'management', 'professionale', 'azienda', 'stipendio', 'ufficio', 'business', 'carriera']\n",
    "Y = ['casa', 'genitori', 'bambini', 'famiglia', 'cugini', 'matrimonio', 'nozze', 'parenti']\n",
    "\n",
    "A = ['fratello']\n",
    "B = ['sorella']"
   ]
  },
  {
   "cell_type": "code",
   "execution_count": 88,
   "metadata": {},
   "outputs": [],
   "source": [
    "S = db.s_set(E_ft, X, Y, A, B)"
   ]
  },
  {
   "cell_type": "code",
   "execution_count": 89,
   "metadata": {},
   "outputs": [],
   "source": [
    "# compute permutations\n",
    "l = X + Y\n",
    "perm = db.permutations(l)"
   ]
  },
  {
   "cell_type": "code",
   "execution_count": 90,
   "metadata": {},
   "outputs": [],
   "source": [
    "# compute p-value\n",
    "count = 0\n",
    "for p in perm:\n",
    "    s = db.s_set(E_ft, p[0], p[1], A, B)\n",
    "    if s > S:\n",
    "        count += 1\n",
    "\n",
    "p_value = count/len(perm)"
   ]
  },
  {
   "cell_type": "code",
   "execution_count": 91,
   "metadata": {},
   "outputs": [
    {
     "name": "stdout",
     "output_type": "stream",
     "text": [
      "mean_X: 0.025106420274823904\n",
      "mean_Y: -0.05342849902808666\n",
      "num: 0.07853491930291057\n",
      "den: 0.08249629606181164\n"
     ]
    }
   ],
   "source": [
    "# compute effect size\n",
    "d = db.effect_size(E_ft, X, Y, A, B)"
   ]
  },
  {
   "cell_type": "code",
   "execution_count": 92,
   "metadata": {},
   "outputs": [
    {
     "name": "stdout",
     "output_type": "stream",
     "text": [
      "d:  0.95198\n",
      "p:  0.03209\n"
     ]
    }
   ],
   "source": [
    "print('d: %8.5f' % (d))\n",
    "print('p: %8.5f' % (p_value))"
   ]
  },
  {
   "cell_type": "markdown",
   "metadata": {},
   "source": [
    "### Using (maschio,femmina)"
   ]
  },
  {
   "cell_type": "code",
   "execution_count": 93,
   "metadata": {},
   "outputs": [],
   "source": [
    "X = ['esecutivo', 'management', 'professionale', 'azienda', 'stipendio', 'ufficio', 'business', 'carriera']\n",
    "Y = ['casa', 'genitori', 'bambini', 'famiglia', 'cugini', 'matrimonio', 'nozze', 'parenti']\n",
    "\n",
    "A = ['maschio']\n",
    "B = ['femmina']"
   ]
  },
  {
   "cell_type": "code",
   "execution_count": 94,
   "metadata": {},
   "outputs": [],
   "source": [
    "S = db.s_set(E_ft, X, Y, A, B)"
   ]
  },
  {
   "cell_type": "code",
   "execution_count": 95,
   "metadata": {},
   "outputs": [],
   "source": [
    "# compute permutations\n",
    "l = X + Y\n",
    "perm = db.permutations(l)"
   ]
  },
  {
   "cell_type": "code",
   "execution_count": 96,
   "metadata": {},
   "outputs": [],
   "source": [
    "# compute p-value\n",
    "count = 0\n",
    "for p in perm:\n",
    "    s = db.s_set(E_ft, p[0], p[1], A, B)\n",
    "    if s > S:\n",
    "        count += 1\n",
    "\n",
    "p_value = count/len(perm)"
   ]
  },
  {
   "cell_type": "code",
   "execution_count": 97,
   "metadata": {},
   "outputs": [
    {
     "name": "stdout",
     "output_type": "stream",
     "text": [
      "mean_X: 0.03068431932479143\n",
      "mean_Y: -0.0128998514264822\n",
      "num: 0.04358417075127363\n",
      "den: 0.06116695495617902\n"
     ]
    }
   ],
   "source": [
    "# compute effect size\n",
    "d = db.effect_size(E_ft, X, Y, A, B)"
   ]
  },
  {
   "cell_type": "code",
   "execution_count": 98,
   "metadata": {},
   "outputs": [
    {
     "name": "stdout",
     "output_type": "stream",
     "text": [
      "d:  0.71254\n",
      "p:  0.08656\n"
     ]
    }
   ],
   "source": [
    "print('d: %8.5f' % (d))\n",
    "print('p: %8.5f' % (p_value))"
   ]
  },
  {
   "cell_type": "markdown",
   "metadata": {},
   "source": [
    "### Bonus: using English pairs translated to Italian\n",
    "Target words: top 8 Italian names in 2018, https://www.istat.it/it/dati-analisi-e-prodotti/contenuti-interattivi/contanomi\n",
    "Attribute words: translated from English to Italian"
   ]
  },
  {
   "cell_type": "code",
   "execution_count": 99,
   "metadata": {},
   "outputs": [],
   "source": [
    "X = ['Leonardo', 'Francesco', 'Alessandro', 'Lorenzo', 'Mattia', 'Andrea', 'Gabriele', 'Riccardo']\n",
    "Y = ['Sofia', 'Giulia', 'Aurora', 'Alice', 'Ginevra', 'Emma', 'Giorgia', 'Greta']\n",
    "\n",
    "A = ['esecutivo', 'management', 'professionale', 'azienda', 'stipendio', 'ufficio', 'business', 'carriera']\n",
    "B = ['casa', 'genitori', 'bambini', 'famiglia', 'cugini', 'matrimonio', 'nozze', 'parenti']"
   ]
  },
  {
   "cell_type": "code",
   "execution_count": 100,
   "metadata": {},
   "outputs": [],
   "source": [
    "S = db.s_set(E_ft, X, Y, A, B)"
   ]
  },
  {
   "cell_type": "code",
   "execution_count": 101,
   "metadata": {},
   "outputs": [],
   "source": [
    "# compute permutations\n",
    "l = X + Y\n",
    "perm = db.permutations(l)"
   ]
  },
  {
   "cell_type": "code",
   "execution_count": 102,
   "metadata": {},
   "outputs": [],
   "source": [
    "# compute p-value\n",
    "count = 0\n",
    "for p in perm:\n",
    "    s = db.s_set(E_ft, p[0], p[1], A, B)\n",
    "    if s > S:\n",
    "        count += 1\n",
    "\n",
    "p_value = count/len(perm)"
   ]
  },
  {
   "cell_type": "code",
   "execution_count": 103,
   "metadata": {},
   "outputs": [
    {
     "name": "stdout",
     "output_type": "stream",
     "text": [
      "mean_X: -0.066521523083793\n",
      "mean_Y: -0.11574674121220596\n",
      "num: 0.04922521812841296\n",
      "den: 0.028543429206364275\n"
     ]
    }
   ],
   "source": [
    "# compute effect size\n",
    "d = db.effect_size(E_ft, X, Y, A, B)"
   ]
  },
  {
   "cell_type": "code",
   "execution_count": 104,
   "metadata": {},
   "outputs": [
    {
     "name": "stdout",
     "output_type": "stream",
     "text": [
      "d:  1.72457\n",
      "p:  0.00000\n"
     ]
    }
   ],
   "source": [
    "print('d: %8.5f' % (d))\n",
    "print('p: %8.5f' % (p_value))"
   ]
  },
  {
   "cell_type": "code",
   "execution_count": null,
   "metadata": {},
   "outputs": [],
   "source": []
  },
  {
   "cell_type": "code",
   "execution_count": null,
   "metadata": {},
   "outputs": [],
   "source": []
  },
  {
   "cell_type": "code",
   "execution_count": null,
   "metadata": {},
   "outputs": [],
   "source": []
  },
  {
   "cell_type": "code",
   "execution_count": null,
   "metadata": {},
   "outputs": [],
   "source": []
  },
  {
   "cell_type": "code",
   "execution_count": null,
   "metadata": {},
   "outputs": [],
   "source": []
  },
  {
   "cell_type": "code",
   "execution_count": null,
   "metadata": {},
   "outputs": [],
   "source": []
  },
  {
   "cell_type": "markdown",
   "metadata": {},
   "source": [
    "## Using debiased embeddings"
   ]
  },
  {
   "cell_type": "code",
   "execution_count": 105,
   "metadata": {},
   "outputs": [],
   "source": [
    "from debiaswe.debias import debias"
   ]
  },
  {
   "cell_type": "code",
   "execution_count": 106,
   "metadata": {},
   "outputs": [
    {
     "name": "stdout",
     "output_type": "stream",
     "text": [
      "485 words of dimension 300 : questo, sua, suo, prima, ..., supportivo, calzolaia, supportiva, agrotecnica\n",
      "set()\n",
      "485 words of dimension 300 : questo, sua, suo, prima, ..., supportivo, calzolaia, supportiva, agrotecnica\n"
     ]
    }
   ],
   "source": [
    "G_word = db.read('gram_def_mf.txt', 'mf')\n",
    "debias(E_ft, [], G_word, [])"
   ]
  },
  {
   "cell_type": "markdown",
   "metadata": {},
   "source": [
    "# Science vs Arts - WEAT"
   ]
  },
  {
   "cell_type": "markdown",
   "metadata": {},
   "source": [
    "### Using all words"
   ]
  },
  {
   "cell_type": "code",
   "execution_count": 107,
   "metadata": {},
   "outputs": [],
   "source": [
    "X = ['biologia', 'fisica', 'chimica', 'matematica', 'geologia', 'astronomia', 'ingegneria']\n",
    "Y = ['filosofia', 'umanesimo', 'arte', 'letteratura', 'italiano', 'musica', 'storia']\n",
    "\n",
    "A = ['lui', 'uomo', 'padre', 'marito', 'fratello', 'maschio']\n",
    "B = ['lei', 'donna', 'madre', 'moglie', 'sorella', 'femmina']"
   ]
  },
  {
   "cell_type": "code",
   "execution_count": 108,
   "metadata": {},
   "outputs": [],
   "source": [
    "S = db.s_set(E_ft, X, Y, A, B)"
   ]
  },
  {
   "cell_type": "code",
   "execution_count": 109,
   "metadata": {},
   "outputs": [],
   "source": [
    "# compute permutations\n",
    "l = X + Y\n",
    "perm = db.permutations(l)"
   ]
  },
  {
   "cell_type": "code",
   "execution_count": 110,
   "metadata": {},
   "outputs": [],
   "source": [
    "# compute p-value\n",
    "count = 0\n",
    "for p in perm:\n",
    "    s = db.s_set(E_ft, p[0], p[1], A, B)\n",
    "    if s > S:\n",
    "        count += 1\n",
    "\n",
    "p_value = count/len(perm)"
   ]
  },
  {
   "cell_type": "code",
   "execution_count": 111,
   "metadata": {},
   "outputs": [
    {
     "name": "stdout",
     "output_type": "stream",
     "text": [
      "mean_X: 0.02878000001822199\n",
      "mean_Y: 0.012028226185412641\n",
      "num: 0.016751773832809347\n",
      "den: 0.02303058665415186\n"
     ]
    }
   ],
   "source": [
    "# compute effect size\n",
    "d = db.effect_size(E_ft, X, Y, A, B)"
   ]
  },
  {
   "cell_type": "code",
   "execution_count": 112,
   "metadata": {},
   "outputs": [
    {
     "name": "stdout",
     "output_type": "stream",
     "text": [
      "d:  0.72737\n",
      "p:  0.09706\n"
     ]
    }
   ],
   "source": [
    "print('d: %8.5f' % (d))\n",
    "print('p: %8.5f' % (p_value))"
   ]
  },
  {
   "cell_type": "markdown",
   "metadata": {},
   "source": [
    "### Using (lui,lei)"
   ]
  },
  {
   "cell_type": "code",
   "execution_count": 113,
   "metadata": {},
   "outputs": [],
   "source": [
    "X = ['biologia', 'fisica', 'chimica', 'matematica', 'geologia', 'astronomia', 'ingegneria']\n",
    "Y = ['filosofia', 'umanesimo', 'arte', 'letteratura', 'italiano', 'musica', 'storia']\n",
    "\n",
    "A = ['lui']\n",
    "B = ['lei']"
   ]
  },
  {
   "cell_type": "code",
   "execution_count": 114,
   "metadata": {},
   "outputs": [],
   "source": [
    "S = db.s_set(E_ft, X, Y, A, B)"
   ]
  },
  {
   "cell_type": "code",
   "execution_count": 115,
   "metadata": {},
   "outputs": [],
   "source": [
    "# compute permutations\n",
    "l = X + Y\n",
    "perm = db.permutations(l)"
   ]
  },
  {
   "cell_type": "code",
   "execution_count": 116,
   "metadata": {},
   "outputs": [],
   "source": [
    "# compute p-value\n",
    "count = 0\n",
    "for p in perm:\n",
    "    s = db.s_set(E_ft, p[0], p[1], A, B)\n",
    "    if s > S:\n",
    "        count += 1\n",
    "\n",
    "p_value = count/len(perm)"
   ]
  },
  {
   "cell_type": "code",
   "execution_count": 117,
   "metadata": {},
   "outputs": [
    {
     "name": "stdout",
     "output_type": "stream",
     "text": [
      "mean_X: 0.02747096759932382\n",
      "mean_Y: 0.03192109933921269\n",
      "num: -0.0044501317398888685\n",
      "den: 0.02522093259303321\n"
     ]
    }
   ],
   "source": [
    "# compute effect size\n",
    "d = db.effect_size(E_ft, X, Y, A, B)"
   ]
  },
  {
   "cell_type": "code",
   "execution_count": 118,
   "metadata": {},
   "outputs": [
    {
     "name": "stdout",
     "output_type": "stream",
     "text": [
      "d: -0.17645\n",
      "p:  0.61994\n"
     ]
    }
   ],
   "source": [
    "print('d: %8.5f' % (d))\n",
    "print('p: %8.5f' % (p_value))"
   ]
  },
  {
   "cell_type": "markdown",
   "metadata": {},
   "source": [
    "### Using (uomo,donna)"
   ]
  },
  {
   "cell_type": "code",
   "execution_count": 119,
   "metadata": {},
   "outputs": [],
   "source": [
    "X = ['biologia', 'fisica', 'chimica', 'matematica', 'geologia', 'astronomia', 'ingegneria']\n",
    "Y = ['filosofia', 'umanesimo', 'arte', 'letteratura', 'italiano', 'musica', 'storia']\n",
    "\n",
    "A = ['uomo']\n",
    "B = ['donna']"
   ]
  },
  {
   "cell_type": "code",
   "execution_count": 120,
   "metadata": {},
   "outputs": [],
   "source": [
    "S = db.s_set(E_ft, X, Y, A, B)"
   ]
  },
  {
   "cell_type": "code",
   "execution_count": 121,
   "metadata": {},
   "outputs": [],
   "source": [
    "# compute permutations\n",
    "l = X + Y\n",
    "perm = db.permutations(l)"
   ]
  },
  {
   "cell_type": "code",
   "execution_count": 122,
   "metadata": {},
   "outputs": [],
   "source": [
    "# compute p-value\n",
    "count = 0\n",
    "for p in perm:\n",
    "    s = db.s_set(E_ft, p[0], p[1], A, B)\n",
    "    if s > S:\n",
    "        count += 1\n",
    "\n",
    "p_value = count/len(perm)"
   ]
  },
  {
   "cell_type": "code",
   "execution_count": 123,
   "metadata": {},
   "outputs": [
    {
     "name": "stdout",
     "output_type": "stream",
     "text": [
      "mean_X: 0.07531248671667916\n",
      "mean_Y: 0.044558899743216376\n",
      "num: 0.030753586973462782\n",
      "den: 0.05408802392223883\n"
     ]
    }
   ],
   "source": [
    "# compute effect size\n",
    "d = db.effect_size(E_ft, X, Y, A, B)"
   ]
  },
  {
   "cell_type": "code",
   "execution_count": 124,
   "metadata": {},
   "outputs": [
    {
     "name": "stdout",
     "output_type": "stream",
     "text": [
      "d:  0.56858\n",
      "p:  0.16089\n"
     ]
    }
   ],
   "source": [
    "print('d: %8.5f' % (d))\n",
    "print('p: %8.5f' % (p_value))"
   ]
  },
  {
   "cell_type": "markdown",
   "metadata": {},
   "source": [
    "### Using (padre,madre)"
   ]
  },
  {
   "cell_type": "code",
   "execution_count": 125,
   "metadata": {},
   "outputs": [],
   "source": [
    "X = ['biologia', 'fisica', 'chimica', 'matematica', 'geologia', 'astronomia', 'ingegneria']\n",
    "Y = ['filosofia', 'umanesimo', 'arte', 'letteratura', 'italiano', 'musica', 'storia']\n",
    "\n",
    "A = ['padre']\n",
    "B = ['madre']"
   ]
  },
  {
   "cell_type": "code",
   "execution_count": 126,
   "metadata": {},
   "outputs": [],
   "source": [
    "S = db.s_set(E_ft, X, Y, A, B)"
   ]
  },
  {
   "cell_type": "code",
   "execution_count": 127,
   "metadata": {},
   "outputs": [],
   "source": [
    "# compute permutations\n",
    "l = X + Y\n",
    "perm = db.permutations(l)"
   ]
  },
  {
   "cell_type": "code",
   "execution_count": 128,
   "metadata": {},
   "outputs": [],
   "source": [
    "# compute p-value\n",
    "count = 0\n",
    "for p in perm:\n",
    "    s = db.s_set(E_ft, p[0], p[1], A, B)\n",
    "    if s > S:\n",
    "        count += 1\n",
    "\n",
    "p_value = count/len(perm)"
   ]
  },
  {
   "cell_type": "code",
   "execution_count": 129,
   "metadata": {},
   "outputs": [
    {
     "name": "stdout",
     "output_type": "stream",
     "text": [
      "mean_X: -0.005937965852873666\n",
      "mean_Y: -0.008672218237604414\n",
      "num: 0.0027342523847307485\n",
      "den: 0.03520970501729062\n"
     ]
    }
   ],
   "source": [
    "# compute effect size\n",
    "d = db.effect_size(E_ft, X, Y, A, B)"
   ]
  },
  {
   "cell_type": "code",
   "execution_count": 130,
   "metadata": {},
   "outputs": [
    {
     "name": "stdout",
     "output_type": "stream",
     "text": [
      "d:  0.07766\n",
      "p:  0.44244\n"
     ]
    }
   ],
   "source": [
    "print('d: %8.5f' % (d))\n",
    "print('p: %8.5f' % (p_value))"
   ]
  },
  {
   "cell_type": "markdown",
   "metadata": {},
   "source": [
    "### Using (marito,moglie)"
   ]
  },
  {
   "cell_type": "code",
   "execution_count": 131,
   "metadata": {},
   "outputs": [],
   "source": [
    "X = ['biologia', 'fisica', 'chimica', 'matematica', 'geologia', 'astronomia', 'ingegneria']\n",
    "Y = ['filosofia', 'umanesimo', 'arte', 'letteratura', 'italiano', 'musica', 'storia']\n",
    "\n",
    "A = ['marito']\n",
    "B = ['moglie']"
   ]
  },
  {
   "cell_type": "code",
   "execution_count": 132,
   "metadata": {},
   "outputs": [],
   "source": [
    "S = db.s_set(E_ft, X, Y, A, B)"
   ]
  },
  {
   "cell_type": "code",
   "execution_count": 133,
   "metadata": {},
   "outputs": [],
   "source": [
    "# compute permutations\n",
    "l = X + Y\n",
    "perm = db.permutations(l)"
   ]
  },
  {
   "cell_type": "code",
   "execution_count": 134,
   "metadata": {},
   "outputs": [],
   "source": [
    "# compute p-value\n",
    "count = 0\n",
    "for p in perm:\n",
    "    s = db.s_set(E_ft, p[0], p[1], A, B)\n",
    "    if s > S:\n",
    "        count += 1\n",
    "\n",
    "p_value = count/len(perm)"
   ]
  },
  {
   "cell_type": "code",
   "execution_count": 135,
   "metadata": {},
   "outputs": [
    {
     "name": "stdout",
     "output_type": "stream",
     "text": [
      "mean_X: 0.00015084764787128994\n",
      "mean_Y: -0.02850241107600076\n",
      "num: 0.02865325872387205\n",
      "den: 0.02819050699047468\n"
     ]
    }
   ],
   "source": [
    "# compute effect size\n",
    "d = db.effect_size(E_ft, X, Y, A, B)"
   ]
  },
  {
   "cell_type": "code",
   "execution_count": 136,
   "metadata": {},
   "outputs": [
    {
     "name": "stdout",
     "output_type": "stream",
     "text": [
      "d:  1.01642\n",
      "p:  0.03148\n"
     ]
    }
   ],
   "source": [
    "print('d: %8.5f' % (d))\n",
    "print('p: %8.5f' % (p_value))"
   ]
  },
  {
   "cell_type": "markdown",
   "metadata": {},
   "source": [
    "### Using (fratello,sorella)"
   ]
  },
  {
   "cell_type": "code",
   "execution_count": 137,
   "metadata": {},
   "outputs": [],
   "source": [
    "X = ['biologia', 'fisica', 'chimica', 'matematica', 'geologia', 'astronomia', 'ingegneria']\n",
    "Y = ['filosofia', 'umanesimo', 'arte', 'letteratura', 'italiano', 'musica', 'storia']\n",
    "\n",
    "A = ['fratello']\n",
    "B = ['sorella']"
   ]
  },
  {
   "cell_type": "code",
   "execution_count": 138,
   "metadata": {},
   "outputs": [],
   "source": [
    "S = db.s_set(E_ft, X, Y, A, B)"
   ]
  },
  {
   "cell_type": "code",
   "execution_count": 139,
   "metadata": {},
   "outputs": [],
   "source": [
    "# compute permutations\n",
    "l = X + Y\n",
    "perm = db.permutations(l)"
   ]
  },
  {
   "cell_type": "code",
   "execution_count": 140,
   "metadata": {},
   "outputs": [],
   "source": [
    "# compute p-value\n",
    "count = 0\n",
    "for p in perm:\n",
    "    s = db.s_set(E_ft, p[0], p[1], A, B)\n",
    "    if s > S:\n",
    "        count += 1\n",
    "\n",
    "p_value = count/len(perm)"
   ]
  },
  {
   "cell_type": "code",
   "execution_count": 141,
   "metadata": {},
   "outputs": [
    {
     "name": "stdout",
     "output_type": "stream",
     "text": [
      "mean_X: 0.02968227118253708\n",
      "mean_Y: 0.005058214068412781\n",
      "num: 0.024624057114124298\n",
      "den: 0.026106519631737376\n"
     ]
    }
   ],
   "source": [
    "# compute effect size\n",
    "d = db.effect_size(E_ft, X, Y, A, B)"
   ]
  },
  {
   "cell_type": "code",
   "execution_count": 142,
   "metadata": {},
   "outputs": [
    {
     "name": "stdout",
     "output_type": "stream",
     "text": [
      "d:  0.94321\n",
      "p:  0.04518\n"
     ]
    }
   ],
   "source": [
    "print('d: %8.5f' % (d))\n",
    "print('p: %8.5f' % (p_value))"
   ]
  },
  {
   "cell_type": "markdown",
   "metadata": {},
   "source": [
    "### Using (maschio,femmina)"
   ]
  },
  {
   "cell_type": "code",
   "execution_count": 143,
   "metadata": {},
   "outputs": [],
   "source": [
    "X = ['biologia', 'fisica', 'chimica', 'matematica', 'geologia', 'astronomia', 'ingegneria']\n",
    "Y = ['filosofia', 'umanesimo', 'arte', 'letteratura', 'italiano', 'musica', 'storia']\n",
    "\n",
    "A = ['maschio']\n",
    "B = ['femmina']"
   ]
  },
  {
   "cell_type": "code",
   "execution_count": 144,
   "metadata": {},
   "outputs": [],
   "source": [
    "S = db.s_set(E_ft, X, Y, A, B)"
   ]
  },
  {
   "cell_type": "code",
   "execution_count": 145,
   "metadata": {},
   "outputs": [],
   "source": [
    "# compute permutations\n",
    "l = X + Y\n",
    "perm = db.permutations(l)"
   ]
  },
  {
   "cell_type": "code",
   "execution_count": 146,
   "metadata": {},
   "outputs": [],
   "source": [
    "# compute p-value\n",
    "count = 0\n",
    "for p in perm:\n",
    "    s = db.s_set(E_ft, p[0], p[1], A, B)\n",
    "    if s > S:\n",
    "        count += 1\n",
    "\n",
    "p_value = count/len(perm)"
   ]
  },
  {
   "cell_type": "code",
   "execution_count": 147,
   "metadata": {},
   "outputs": [
    {
     "name": "stdout",
     "output_type": "stream",
     "text": [
      "mean_X: 0.04600139281579426\n",
      "mean_Y: 0.027805773275239126\n",
      "num: 0.018195619540555135\n",
      "den: 0.0236628463700441\n"
     ]
    }
   ],
   "source": [
    "# compute effect size\n",
    "d = db.effect_size(E_ft, X, Y, A, B)"
   ]
  },
  {
   "cell_type": "code",
   "execution_count": 148,
   "metadata": {},
   "outputs": [
    {
     "name": "stdout",
     "output_type": "stream",
     "text": [
      "d:  0.76895\n",
      "p:  0.08773\n"
     ]
    }
   ],
   "source": [
    "print('d: %8.5f' % (d))\n",
    "print('p: %8.5f' % (p_value))"
   ]
  },
  {
   "cell_type": "markdown",
   "metadata": {},
   "source": [
    "### Bonus: using English science-arts words"
   ]
  },
  {
   "cell_type": "code",
   "execution_count": 149,
   "metadata": {},
   "outputs": [],
   "source": [
    "X = ['scienza', 'tecnologia', 'fisica', 'chimica', 'Einstein', 'NASA', 'esperimento', 'astronomia']\n",
    "Y = ['poesia', 'arte', 'Shakespeare', 'danza', 'letteratura', 'romanzo', 'sinfonia', 'dramma']\n",
    "\n",
    "A = ['lui', 'uomo', 'padre', 'marito', 'fratello', 'maschio']\n",
    "B = ['lei', 'donna', 'madre', 'moglie', 'sorella', 'femmina']"
   ]
  },
  {
   "cell_type": "code",
   "execution_count": 150,
   "metadata": {},
   "outputs": [],
   "source": [
    "S = db.s_set(E_ft, X, Y, A, B)"
   ]
  },
  {
   "cell_type": "code",
   "execution_count": 151,
   "metadata": {},
   "outputs": [],
   "source": [
    "# compute permutations\n",
    "l = X + Y\n",
    "perm = db.permutations(l)"
   ]
  },
  {
   "cell_type": "code",
   "execution_count": 152,
   "metadata": {},
   "outputs": [],
   "source": [
    "# compute p-value\n",
    "count = 0\n",
    "for p in perm:\n",
    "    s = db.s_set(E_ft, p[0], p[1], A, B)\n",
    "    if s > S:\n",
    "        count += 1\n",
    "\n",
    "p_value = count/len(perm)"
   ]
  },
  {
   "cell_type": "code",
   "execution_count": 153,
   "metadata": {},
   "outputs": [
    {
     "name": "stdout",
     "output_type": "stream",
     "text": [
      "mean_X: 0.023720417482157544\n",
      "mean_Y: -0.010227437907208998\n",
      "num: 0.03394785538936654\n",
      "den: 0.02709258354672737\n"
     ]
    }
   ],
   "source": [
    "# compute effect size\n",
    "d = db.effect_size(E_ft, X, Y, A, B)"
   ]
  },
  {
   "cell_type": "code",
   "execution_count": 154,
   "metadata": {},
   "outputs": [
    {
     "name": "stdout",
     "output_type": "stream",
     "text": [
      "d:  1.25303\n",
      "p:  0.00521\n"
     ]
    }
   ],
   "source": [
    "print('d: %8.5f' % (d))\n",
    "print('p: %8.5f' % (p_value))"
   ]
  },
  {
   "cell_type": "code",
   "execution_count": null,
   "metadata": {},
   "outputs": [],
   "source": []
  },
  {
   "cell_type": "code",
   "execution_count": null,
   "metadata": {},
   "outputs": [],
   "source": []
  },
  {
   "cell_type": "code",
   "execution_count": null,
   "metadata": {},
   "outputs": [],
   "source": []
  },
  {
   "cell_type": "code",
   "execution_count": null,
   "metadata": {},
   "outputs": [],
   "source": []
  },
  {
   "cell_type": "code",
   "execution_count": null,
   "metadata": {},
   "outputs": [],
   "source": []
  },
  {
   "cell_type": "code",
   "execution_count": null,
   "metadata": {},
   "outputs": [],
   "source": []
  },
  {
   "cell_type": "markdown",
   "metadata": {},
   "source": [
    "# Career vs Family - WEAT"
   ]
  },
  {
   "cell_type": "markdown",
   "metadata": {},
   "source": [
    "## X=male, Y=female, A=career, B=family"
   ]
  },
  {
   "cell_type": "code",
   "execution_count": 155,
   "metadata": {},
   "outputs": [],
   "source": [
    "A = ['esecutivo', 'management', 'professionale', 'azienda', 'stipendio', 'ufficio', 'business', 'carriera']\n",
    "B = ['casa', 'genitori', 'bambini', 'famiglia', 'cugini', 'matrimonio', 'nozze', 'parenti']\n",
    "\n",
    "X = ['lui', 'uomo', 'padre', 'marito', 'fratello', 'maschio']\n",
    "Y = ['lei', 'donna', 'madre', 'moglie', 'sorella', 'femmina']"
   ]
  },
  {
   "cell_type": "code",
   "execution_count": 156,
   "metadata": {},
   "outputs": [],
   "source": [
    "S = db.s_set(E_ft, X, Y, A, B)"
   ]
  },
  {
   "cell_type": "code",
   "execution_count": 157,
   "metadata": {},
   "outputs": [],
   "source": [
    "# compute permutations\n",
    "l = X + Y\n",
    "perm = db.permutations(l)"
   ]
  },
  {
   "cell_type": "code",
   "execution_count": 158,
   "metadata": {},
   "outputs": [],
   "source": [
    "# compute p-value\n",
    "count = 0\n",
    "for p in perm:\n",
    "    s = db.s_set(E_ft, p[0], p[1], A, B)\n",
    "    if s > S:\n",
    "        count += 1\n",
    "\n",
    "p_value = count/len(perm)"
   ]
  },
  {
   "cell_type": "code",
   "execution_count": 159,
   "metadata": {},
   "outputs": [
    {
     "name": "stdout",
     "output_type": "stream",
     "text": [
      "mean_X: -0.11623561087374885\n",
      "mean_Y: -0.13960065552964807\n",
      "num: 0.02336504465589921\n",
      "den: 0.07777921183956836\n"
     ]
    }
   ],
   "source": [
    "# compute effect size\n",
    "d = db.effect_size(E_ft, X, Y, A, B)"
   ]
  },
  {
   "cell_type": "code",
   "execution_count": 160,
   "metadata": {},
   "outputs": [
    {
     "name": "stdout",
     "output_type": "stream",
     "text": [
      "d:  0.30040\n",
      "p:  0.32286\n"
     ]
    }
   ],
   "source": [
    "print('d: %8.5f' % (d))\n",
    "print('p: %8.5f' % (p_value))"
   ]
  },
  {
   "cell_type": "markdown",
   "metadata": {},
   "source": [
    "## X=career, Y=family, A=male, B=female"
   ]
  },
  {
   "cell_type": "markdown",
   "metadata": {},
   "source": [
    "### Using all words"
   ]
  },
  {
   "cell_type": "code",
   "execution_count": 161,
   "metadata": {},
   "outputs": [],
   "source": [
    "X = ['esecutivo', 'management', 'professionale', 'azienda', 'stipendio', 'ufficio', 'business', 'carriera']\n",
    "Y = ['casa', 'genitori', 'bambini', 'famiglia', 'cugini', 'matrimonio', 'nozze', 'parenti']\n",
    "\n",
    "A = ['lui', 'uomo', 'padre', 'marito', 'fratello', 'maschio']\n",
    "B = ['lei', 'donna', 'madre', 'moglie', 'sorella', 'femmina']"
   ]
  },
  {
   "cell_type": "code",
   "execution_count": 162,
   "metadata": {},
   "outputs": [],
   "source": [
    "S = db.s_set(E_ft, X, Y, A, B)"
   ]
  },
  {
   "cell_type": "code",
   "execution_count": 163,
   "metadata": {},
   "outputs": [],
   "source": [
    "# compute permutations\n",
    "l = X + Y\n",
    "perm = db.permutations(l)"
   ]
  },
  {
   "cell_type": "code",
   "execution_count": 164,
   "metadata": {},
   "outputs": [],
   "source": [
    "# compute p-value\n",
    "count = 0\n",
    "for p in perm:\n",
    "    s = db.s_set(E_ft, p[0], p[1], A, B)\n",
    "    if s > S:\n",
    "        count += 1\n",
    "\n",
    "p_value = count/len(perm)"
   ]
  },
  {
   "cell_type": "code",
   "execution_count": 165,
   "metadata": {},
   "outputs": [
    {
     "name": "stdout",
     "output_type": "stream",
     "text": [
      "mean_X: 0.006460805733998624\n",
      "mean_Y: -0.01690423892190059\n",
      "num: 0.02336504465589921\n",
      "den: 0.01925803548003147\n"
     ]
    }
   ],
   "source": [
    "# compute effect size\n",
    "d = db.effect_size(E_ft, X, Y, A, B)"
   ]
  },
  {
   "cell_type": "code",
   "execution_count": 166,
   "metadata": {},
   "outputs": [
    {
     "name": "stdout",
     "output_type": "stream",
     "text": [
      "d:  1.21326\n",
      "p:  0.00622\n"
     ]
    }
   ],
   "source": [
    "print('d: %8.5f' % (d))\n",
    "print('p: %8.5f' % (p_value))"
   ]
  },
  {
   "cell_type": "markdown",
   "metadata": {},
   "source": [
    "### Using (lui,lei)"
   ]
  },
  {
   "cell_type": "code",
   "execution_count": 167,
   "metadata": {},
   "outputs": [],
   "source": [
    "X = ['esecutivo', 'management', 'professionale', 'azienda', 'stipendio', 'ufficio', 'business', 'carriera']\n",
    "Y = ['casa', 'genitori', 'bambini', 'famiglia', 'cugini', 'matrimonio', 'nozze', 'parenti']\n",
    "\n",
    "A = ['lui']\n",
    "B = ['lei']"
   ]
  },
  {
   "cell_type": "code",
   "execution_count": 168,
   "metadata": {},
   "outputs": [],
   "source": [
    "S = db.s_set(E_ft, X, Y, A, B)"
   ]
  },
  {
   "cell_type": "code",
   "execution_count": 169,
   "metadata": {},
   "outputs": [],
   "source": [
    "# compute permutations\n",
    "l = X + Y\n",
    "perm = db.permutations(l)"
   ]
  },
  {
   "cell_type": "code",
   "execution_count": 170,
   "metadata": {},
   "outputs": [],
   "source": [
    "# compute p-value\n",
    "count = 0\n",
    "for p in perm:\n",
    "    s = db.s_set(E_ft, p[0], p[1], A, B)\n",
    "    if s > S:\n",
    "        count += 1\n",
    "\n",
    "p_value = count/len(perm)"
   ]
  },
  {
   "cell_type": "code",
   "execution_count": 171,
   "metadata": {},
   "outputs": [
    {
     "name": "stdout",
     "output_type": "stream",
     "text": [
      "mean_X: 0.002726379781961441\n",
      "mean_Y: 0.0019969940185546875\n",
      "num: 0.0007293857634067535\n",
      "den: 0.03863786854986903\n"
     ]
    }
   ],
   "source": [
    "# compute effect size\n",
    "d = db.effect_size(E_ft, X, Y, A, B)"
   ]
  },
  {
   "cell_type": "code",
   "execution_count": 172,
   "metadata": {},
   "outputs": [
    {
     "name": "stdout",
     "output_type": "stream",
     "text": [
      "d:  0.01888\n",
      "p:  0.48660\n"
     ]
    }
   ],
   "source": [
    "print('d: %8.5f' % (d))\n",
    "print('p: %8.5f' % (p_value))"
   ]
  },
  {
   "cell_type": "markdown",
   "metadata": {},
   "source": [
    "### Using (uomo,donna)"
   ]
  },
  {
   "cell_type": "code",
   "execution_count": 173,
   "metadata": {},
   "outputs": [],
   "source": [
    "X = ['esecutivo', 'management', 'professionale', 'azienda', 'stipendio', 'ufficio', 'business', 'carriera']\n",
    "Y = ['casa', 'genitori', 'bambini', 'famiglia', 'cugini', 'matrimonio', 'nozze', 'parenti']\n",
    "\n",
    "A = ['uomo']\n",
    "B = ['donna']"
   ]
  },
  {
   "cell_type": "code",
   "execution_count": 174,
   "metadata": {},
   "outputs": [],
   "source": [
    "S = db.s_set(E_ft, X, Y, A, B)"
   ]
  },
  {
   "cell_type": "code",
   "execution_count": 175,
   "metadata": {},
   "outputs": [],
   "source": [
    "# compute permutations\n",
    "l = X + Y\n",
    "perm = db.permutations(l)"
   ]
  },
  {
   "cell_type": "code",
   "execution_count": 176,
   "metadata": {},
   "outputs": [],
   "source": [
    "# compute p-value\n",
    "count = 0\n",
    "for p in perm:\n",
    "    s = db.s_set(E_ft, p[0], p[1], A, B)\n",
    "    if s > S:\n",
    "        count += 1\n",
    "\n",
    "p_value = count/len(perm)"
   ]
  },
  {
   "cell_type": "code",
   "execution_count": 177,
   "metadata": {},
   "outputs": [
    {
     "name": "stdout",
     "output_type": "stream",
     "text": [
      "mean_X: -0.0012884307652711868\n",
      "mean_Y: -0.07444448582828045\n",
      "num: 0.07315605506300926\n",
      "den: 0.05695168334657461\n"
     ]
    }
   ],
   "source": [
    "# compute effect size\n",
    "d = db.effect_size(E_ft, X, Y, A, B)"
   ]
  },
  {
   "cell_type": "code",
   "execution_count": 178,
   "metadata": {},
   "outputs": [
    {
     "name": "stdout",
     "output_type": "stream",
     "text": [
      "d:  1.28453\n",
      "p:  0.00466\n"
     ]
    }
   ],
   "source": [
    "print('d: %8.5f' % (d))\n",
    "print('p: %8.5f' % (p_value))"
   ]
  },
  {
   "cell_type": "markdown",
   "metadata": {},
   "source": [
    "### Using (padre,madre)"
   ]
  },
  {
   "cell_type": "code",
   "execution_count": 179,
   "metadata": {},
   "outputs": [],
   "source": [
    "X = ['esecutivo', 'management', 'professionale', 'azienda', 'stipendio', 'ufficio', 'business', 'carriera']\n",
    "Y = ['casa', 'genitori', 'bambini', 'famiglia', 'cugini', 'matrimonio', 'nozze', 'parenti']\n",
    "\n",
    "A = ['padre']\n",
    "B = ['madre']"
   ]
  },
  {
   "cell_type": "code",
   "execution_count": 180,
   "metadata": {},
   "outputs": [],
   "source": [
    "S = db.s_set(E_ft, X, Y, A, B)"
   ]
  },
  {
   "cell_type": "code",
   "execution_count": 181,
   "metadata": {},
   "outputs": [],
   "source": [
    "# compute permutations\n",
    "l = X + Y\n",
    "perm = db.permutations(l)"
   ]
  },
  {
   "cell_type": "code",
   "execution_count": 182,
   "metadata": {},
   "outputs": [],
   "source": [
    "# compute p-value\n",
    "count = 0\n",
    "for p in perm:\n",
    "    s = db.s_set(E_ft, p[0], p[1], A, B)\n",
    "    if s > S:\n",
    "        count += 1\n",
    "\n",
    "p_value = count/len(perm)"
   ]
  },
  {
   "cell_type": "code",
   "execution_count": 183,
   "metadata": {},
   "outputs": [
    {
     "name": "stdout",
     "output_type": "stream",
     "text": [
      "mean_X: 0.01124608051031828\n",
      "mean_Y: -0.0073036327958106995\n",
      "num: 0.01854971330612898\n",
      "den: 0.03311986138686242\n"
     ]
    }
   ],
   "source": [
    "# compute effect size\n",
    "d = db.effect_size(E_ft, X, Y, A, B)"
   ]
  },
  {
   "cell_type": "code",
   "execution_count": 184,
   "metadata": {},
   "outputs": [
    {
     "name": "stdout",
     "output_type": "stream",
     "text": [
      "d:  0.56008\n",
      "p:  0.15254\n"
     ]
    }
   ],
   "source": [
    "print('d: %8.5f' % (d))\n",
    "print('p: %8.5f' % (p_value))"
   ]
  },
  {
   "cell_type": "markdown",
   "metadata": {},
   "source": [
    "### Using (marito,moglie)"
   ]
  },
  {
   "cell_type": "code",
   "execution_count": 185,
   "metadata": {},
   "outputs": [],
   "source": [
    "X = ['esecutivo', 'management', 'professionale', 'azienda', 'stipendio', 'ufficio', 'business', 'carriera']\n",
    "Y = ['casa', 'genitori', 'bambini', 'famiglia', 'cugini', 'matrimonio', 'nozze', 'parenti']\n",
    "\n",
    "A = ['marito']\n",
    "B = ['moglie']"
   ]
  },
  {
   "cell_type": "code",
   "execution_count": 186,
   "metadata": {},
   "outputs": [],
   "source": [
    "S = db.s_set(E_ft, X, Y, A, B)"
   ]
  },
  {
   "cell_type": "code",
   "execution_count": 187,
   "metadata": {},
   "outputs": [],
   "source": [
    "# compute permutations\n",
    "l = X + Y\n",
    "perm = db.permutations(l)"
   ]
  },
  {
   "cell_type": "code",
   "execution_count": 188,
   "metadata": {},
   "outputs": [],
   "source": [
    "# compute p-value\n",
    "count = 0\n",
    "for p in perm:\n",
    "    s = db.s_set(E_ft, p[0], p[1], A, B)\n",
    "    if s > S:\n",
    "        count += 1\n",
    "\n",
    "p_value = count/len(perm)"
   ]
  },
  {
   "cell_type": "code",
   "execution_count": 189,
   "metadata": {},
   "outputs": [
    {
     "name": "stdout",
     "output_type": "stream",
     "text": [
      "mean_X: 0.007225727662444115\n",
      "mean_Y: 0.01342201977968216\n",
      "num: -0.006196292117238045\n",
      "den: 0.037336994270910265\n"
     ]
    }
   ],
   "source": [
    "# compute effect size\n",
    "d = db.effect_size(E_ft, X, Y, A, B)"
   ]
  },
  {
   "cell_type": "code",
   "execution_count": 190,
   "metadata": {},
   "outputs": [
    {
     "name": "stdout",
     "output_type": "stream",
     "text": [
      "d: -0.16596\n",
      "p:  0.61738\n"
     ]
    }
   ],
   "source": [
    "print('d: %8.5f' % (d))\n",
    "print('p: %8.5f' % (p_value))"
   ]
  },
  {
   "cell_type": "markdown",
   "metadata": {},
   "source": [
    "### Using (fratello,sorella)"
   ]
  },
  {
   "cell_type": "code",
   "execution_count": 191,
   "metadata": {},
   "outputs": [],
   "source": [
    "X = ['esecutivo', 'management', 'professionale', 'azienda', 'stipendio', 'ufficio', 'business', 'carriera']\n",
    "Y = ['casa', 'genitori', 'bambini', 'famiglia', 'cugini', 'matrimonio', 'nozze', 'parenti']\n",
    "\n",
    "A = ['fratello']\n",
    "B = ['sorella']"
   ]
  },
  {
   "cell_type": "code",
   "execution_count": 192,
   "metadata": {},
   "outputs": [],
   "source": [
    "S = db.s_set(E_ft, X, Y, A, B)"
   ]
  },
  {
   "cell_type": "code",
   "execution_count": 193,
   "metadata": {},
   "outputs": [],
   "source": [
    "# compute permutations\n",
    "l = X + Y\n",
    "perm = db.permutations(l)"
   ]
  },
  {
   "cell_type": "code",
   "execution_count": 194,
   "metadata": {},
   "outputs": [],
   "source": [
    "# compute p-value\n",
    "count = 0\n",
    "for p in perm:\n",
    "    s = db.s_set(E_ft, p[0], p[1], A, B)\n",
    "    if s > S:\n",
    "        count += 1\n",
    "\n",
    "p_value = count/len(perm)"
   ]
  },
  {
   "cell_type": "code",
   "execution_count": 195,
   "metadata": {},
   "outputs": [
    {
     "name": "stdout",
     "output_type": "stream",
     "text": [
      "mean_X: 0.0036489050835371017\n",
      "mean_Y: -0.03857000544667244\n",
      "num: 0.04221891053020954\n",
      "den: 0.03174803693798099\n"
     ]
    }
   ],
   "source": [
    "# compute effect size\n",
    "d = db.effect_size(E_ft, X, Y, A, B)"
   ]
  },
  {
   "cell_type": "code",
   "execution_count": 196,
   "metadata": {},
   "outputs": [
    {
     "name": "stdout",
     "output_type": "stream",
     "text": [
      "d:  1.32981\n",
      "p:  0.00303\n"
     ]
    }
   ],
   "source": [
    "print('d: %8.5f' % (d))\n",
    "print('p: %8.5f' % (p_value))"
   ]
  },
  {
   "cell_type": "markdown",
   "metadata": {},
   "source": [
    "### Using (maschio,femmina)"
   ]
  },
  {
   "cell_type": "code",
   "execution_count": 197,
   "metadata": {},
   "outputs": [],
   "source": [
    "X = ['esecutivo', 'management', 'professionale', 'azienda', 'stipendio', 'ufficio', 'business', 'carriera']\n",
    "Y = ['casa', 'genitori', 'bambini', 'famiglia', 'cugini', 'matrimonio', 'nozze', 'parenti']\n",
    "\n",
    "A = ['maschio']\n",
    "B = ['femmina']"
   ]
  },
  {
   "cell_type": "code",
   "execution_count": 198,
   "metadata": {},
   "outputs": [],
   "source": [
    "S = db.s_set(E_ft, X, Y, A, B)"
   ]
  },
  {
   "cell_type": "code",
   "execution_count": 199,
   "metadata": {},
   "outputs": [],
   "source": [
    "# compute permutations\n",
    "l = X + Y\n",
    "perm = db.permutations(l)"
   ]
  },
  {
   "cell_type": "code",
   "execution_count": 200,
   "metadata": {},
   "outputs": [],
   "source": [
    "# compute p-value\n",
    "count = 0\n",
    "for p in perm:\n",
    "    s = db.s_set(E_ft, p[0], p[1], A, B)\n",
    "    if s > S:\n",
    "        count += 1\n",
    "\n",
    "p_value = count/len(perm)"
   ]
  },
  {
   "cell_type": "code",
   "execution_count": 201,
   "metadata": {},
   "outputs": [
    {
     "name": "stdout",
     "output_type": "stream",
     "text": [
      "mean_X: 0.01520617213100195\n",
      "mean_Y: 0.0034736767411231995\n",
      "num: 0.01173249538987875\n",
      "den: 0.017827178708806554\n"
     ]
    }
   ],
   "source": [
    "# compute effect size\n",
    "d = db.effect_size(E_ft, X, Y, A, B)"
   ]
  },
  {
   "cell_type": "code",
   "execution_count": 202,
   "metadata": {},
   "outputs": [
    {
     "name": "stdout",
     "output_type": "stream",
     "text": [
      "d:  0.65812\n",
      "p:  0.10529\n"
     ]
    }
   ],
   "source": [
    "print('d: %8.5f' % (d))\n",
    "print('p: %8.5f' % (p_value))"
   ]
  },
  {
   "cell_type": "markdown",
   "metadata": {},
   "source": [
    "### Bonus: using English pairs translated to Italian\n",
    "Target words: top 8 Italian names in 2018, https://www.istat.it/it/dati-analisi-e-prodotti/contenuti-interattivi/contanomi\n",
    "Attribute words: translated from English to Italian"
   ]
  },
  {
   "cell_type": "code",
   "execution_count": 203,
   "metadata": {},
   "outputs": [],
   "source": [
    "X = ['Leonardo', 'Francesco', 'Alessandro', 'Lorenzo', 'Mattia', 'Andrea', 'Gabriele', 'Riccardo']\n",
    "Y = ['Sofia', 'Giulia', 'Aurora', 'Alice', 'Ginevra', 'Emma', 'Giorgia', 'Greta']\n",
    "\n",
    "A = ['esecutivo', 'management', 'professionale', 'azienda', 'stipendio', 'ufficio', 'business', 'carriera']\n",
    "B = ['casa', 'genitori', 'bambini', 'famiglia', 'cugini', 'matrimonio', 'nozze', 'parenti']"
   ]
  },
  {
   "cell_type": "code",
   "execution_count": 204,
   "metadata": {},
   "outputs": [],
   "source": [
    "S = db.s_set(E_ft, X, Y, A, B)"
   ]
  },
  {
   "cell_type": "code",
   "execution_count": 205,
   "metadata": {},
   "outputs": [],
   "source": [
    "# compute permutations\n",
    "l = X + Y\n",
    "perm = db.permutations(l)"
   ]
  },
  {
   "cell_type": "code",
   "execution_count": 206,
   "metadata": {},
   "outputs": [],
   "source": [
    "# compute p-value\n",
    "count = 0\n",
    "for p in perm:\n",
    "    s = db.s_set(E_ft, p[0], p[1], A, B)\n",
    "    if s > S:\n",
    "        count += 1\n",
    "\n",
    "p_value = count/len(perm)"
   ]
  },
  {
   "cell_type": "code",
   "execution_count": 207,
   "metadata": {},
   "outputs": [
    {
     "name": "stdout",
     "output_type": "stream",
     "text": [
      "mean_X: -0.07292371714720502\n",
      "mean_Y: -0.10705586394760758\n",
      "num: 0.03413214680040255\n",
      "den: 0.02234919379595666\n"
     ]
    }
   ],
   "source": [
    "# compute effect size\n",
    "d = db.effect_size(E_ft, X, Y, A, B)"
   ]
  },
  {
   "cell_type": "code",
   "execution_count": 208,
   "metadata": {},
   "outputs": [
    {
     "name": "stdout",
     "output_type": "stream",
     "text": [
      "d:  1.52722\n",
      "p:  0.00023\n"
     ]
    }
   ],
   "source": [
    "print('d: %8.5f' % (d))\n",
    "print('p: %8.5f' % (p_value))"
   ]
  },
  {
   "cell_type": "code",
   "execution_count": null,
   "metadata": {},
   "outputs": [],
   "source": []
  }
 ],
 "metadata": {
  "kernelspec": {
   "display_name": "Python 3",
   "language": "python",
   "name": "python3"
  },
  "language_info": {
   "codemirror_mode": {
    "name": "ipython",
    "version": 3
   },
   "file_extension": ".py",
   "mimetype": "text/x-python",
   "name": "python",
   "nbconvert_exporter": "python",
   "pygments_lexer": "ipython3",
   "version": "3.7.3"
  }
 },
 "nbformat": 4,
 "nbformat_minor": 2
}
