{
 "cells": [
  {
   "cell_type": "markdown",
   "metadata": {},
   "source": [
    "# Science vs Arts - WEAT"
   ]
  },
  {
   "cell_type": "code",
   "execution_count": 1,
   "metadata": {},
   "outputs": [],
   "source": [
    "# general\n",
    "#import pandas as pd\n",
    "#import numpy as np\n",
    "#import scipy.stats\n",
    "#import codecs\n",
    "#from matplotlib import pyplot as plt\n",
    "#from numpy import linalg as LA\n",
    "\n",
    "# bolukbasi's\n",
    "import debiaswe as dwe\n",
    "import debiaswe.we as we\n",
    "from debiaswe.we import WordEmbedding\n",
    "\n",
    "# mine\n",
    "import db_functions as db"
   ]
  },
  {
   "cell_type": "markdown",
   "metadata": {},
   "source": [
    "## Using Common Crawl embeddings"
   ]
  },
  {
   "cell_type": "code",
   "execution_count": 2,
   "metadata": {},
   "outputs": [
    {
     "name": "stdout",
     "output_type": "stream",
     "text": [
      "*** Reading data from ../embedding/fast-text/cc.en.300.reduced.vec\n",
      "(143, 300)\n",
      "143 words of dimension 300 : he, his, her, she, ..., broadminded, hardhearted, achievement-oriented, comunicative\n",
      "143 words of dimension 300 : he, his, her, she, ..., broadminded, hardhearted, achievement-oriented, comunicative\n"
     ]
    }
   ],
   "source": [
    "# load FastText's emdeddings\n",
    "E_ft =  WordEmbedding('../embedding/fast-text/cc.en.300.reduced.vec', 'ft')"
   ]
  },
  {
   "cell_type": "markdown",
   "metadata": {},
   "source": [
    "### Using all words"
   ]
  },
  {
   "cell_type": "code",
   "execution_count": 3,
   "metadata": {},
   "outputs": [],
   "source": [
    "X = ['science', 'technology', 'physics', 'chemistry', 'Einstein', 'NASA', 'experiment', 'astronomy']\n",
    "Y = ['poetry', 'art', 'Shakespeare', 'dance', 'literature', 'novel', 'symphony', 'drama']\n",
    "\n",
    "A = ['brother', 'father', 'uncle', 'grandfather', 'son', 'he', 'his', 'him']\n",
    "B = ['sister', 'mother', 'aunt', 'grandmother', 'daughter', 'she', 'hers', 'her']"
   ]
  },
  {
   "cell_type": "code",
   "execution_count": 4,
   "metadata": {},
   "outputs": [],
   "source": [
    "S = db.s_set(E_ft, X, Y, A, B)"
   ]
  },
  {
   "cell_type": "code",
   "execution_count": 5,
   "metadata": {},
   "outputs": [],
   "source": [
    "# compute permutations\n",
    "l = X + Y\n",
    "perm = db.permutations(l)"
   ]
  },
  {
   "cell_type": "code",
   "execution_count": 6,
   "metadata": {},
   "outputs": [],
   "source": [
    "# compute p-value\n",
    "count = 0\n",
    "for p in perm:\n",
    "    s = db.s_set(E_ft, p[0], p[1], A, B)\n",
    "    if s > S:\n",
    "        count += 1\n",
    "\n",
    "p_value = count/len(perm)"
   ]
  },
  {
   "cell_type": "code",
   "execution_count": 7,
   "metadata": {},
   "outputs": [
    {
     "name": "stdout",
     "output_type": "stream",
     "text": [
      "mean_X: 0.03113521367777139\n",
      "mean_Y: -0.029574353524367325\n",
      "num: 0.060709567202138714\n",
      "den: 0.04275480303472447\n"
     ]
    }
   ],
   "source": [
    "# compute effect size\n",
    "d = db.effect_size(E_ft, X, Y, A, B)"
   ]
  },
  {
   "cell_type": "code",
   "execution_count": 8,
   "metadata": {},
   "outputs": [
    {
     "name": "stdout",
     "output_type": "stream",
     "text": [
      "d:  1.41995\n",
      "p:  0.00148\n"
     ]
    }
   ],
   "source": [
    "print('d: %8.5f' % (d))\n",
    "print('p: %8.5f' % (p_value))"
   ]
  },
  {
   "cell_type": "code",
   "execution_count": null,
   "metadata": {},
   "outputs": [],
   "source": []
  },
  {
   "cell_type": "code",
   "execution_count": null,
   "metadata": {},
   "outputs": [],
   "source": []
  },
  {
   "cell_type": "markdown",
   "metadata": {},
   "source": [
    "# Career vs Family - WEAT"
   ]
  },
  {
   "cell_type": "markdown",
   "metadata": {},
   "source": [
    "## X=male, Y=female, A=career, B=family"
   ]
  },
  {
   "cell_type": "code",
   "execution_count": 9,
   "metadata": {},
   "outputs": [],
   "source": [
    "X = ['John', 'Paul', 'Mike', 'Kevin', 'Steve', 'Greg', 'Jeff', 'Bill']\n",
    "Y = ['Amy', 'Joan', 'Lisa', 'Sarah', 'Diana', 'Kate', 'Ann', 'Donna']\n",
    "\n",
    "A = ['executive', 'management', 'professional', 'corporation', 'salary', 'office', 'business', 'career']\n",
    "B = ['home', 'parents', 'children', 'family', 'cousins', 'marriage', 'wedding', 'relatives']"
   ]
  },
  {
   "cell_type": "code",
   "execution_count": 10,
   "metadata": {},
   "outputs": [],
   "source": [
    "S = db.s_set(E_ft, X, Y, A, B)"
   ]
  },
  {
   "cell_type": "code",
   "execution_count": 11,
   "metadata": {},
   "outputs": [],
   "source": [
    "# compute permutations\n",
    "l = X + Y\n",
    "perm = db.permutations(l)"
   ]
  },
  {
   "cell_type": "code",
   "execution_count": 12,
   "metadata": {},
   "outputs": [],
   "source": [
    "# compute p-value\n",
    "count = 0\n",
    "for p in perm:\n",
    "    s = db.s_set(E_ft, p[0], p[1], A, B)\n",
    "    if s > S:\n",
    "        count += 1\n",
    "\n",
    "p_value = count/len(perm)"
   ]
  },
  {
   "cell_type": "code",
   "execution_count": 13,
   "metadata": {},
   "outputs": [
    {
     "name": "stdout",
     "output_type": "stream",
     "text": [
      "mean_X: -0.005585675404290669\n",
      "mean_Y: -0.09605159654165618\n",
      "num: 0.09046592113736551\n",
      "den: 0.04959543650298312\n"
     ]
    }
   ],
   "source": [
    "# compute effect size\n",
    "d = db.effect_size(E_ft, X, Y, A, B)"
   ]
  },
  {
   "cell_type": "code",
   "execution_count": 14,
   "metadata": {},
   "outputs": [
    {
     "name": "stdout",
     "output_type": "stream",
     "text": [
      "d:  1.82408\n",
      "p:  0.00000\n"
     ]
    }
   ],
   "source": [
    "print('d: %8.5f' % (d))\n",
    "print('p: %8.5f' % (p_value))"
   ]
  },
  {
   "cell_type": "markdown",
   "metadata": {},
   "source": [
    "## X=career, Y=family, A=male, B=female"
   ]
  },
  {
   "cell_type": "markdown",
   "metadata": {},
   "source": [
    "### Using all words"
   ]
  },
  {
   "cell_type": "code",
   "execution_count": 15,
   "metadata": {},
   "outputs": [],
   "source": [
    "A = ['John', 'Paul', 'Mike', 'Kevin', 'Steve', 'Greg', 'Jeff', 'Bill']\n",
    "B = ['Amy', 'Joan', 'Lisa', 'Sarah', 'Diana', 'Kate', 'Ann', 'Donna']\n",
    "\n",
    "X = ['executive', 'management', 'professional', 'corporation', 'salary', 'office', 'business', 'career']\n",
    "Y = ['home', 'parents', 'children', 'family', 'cousins', 'marriage', 'wedding', 'relatives']"
   ]
  },
  {
   "cell_type": "code",
   "execution_count": 16,
   "metadata": {},
   "outputs": [],
   "source": [
    "S = db.s_set(E_ft, X, Y, A, B)"
   ]
  },
  {
   "cell_type": "code",
   "execution_count": 17,
   "metadata": {},
   "outputs": [],
   "source": [
    "# compute permutations\n",
    "l = X + Y\n",
    "perm = db.permutations(l)"
   ]
  },
  {
   "cell_type": "code",
   "execution_count": 18,
   "metadata": {},
   "outputs": [],
   "source": [
    "# compute p-value\n",
    "count = 0\n",
    "for p in perm:\n",
    "    s = db.s_set(E_ft, p[0], p[1], A, B)\n",
    "    if s > S:\n",
    "        count += 1\n",
    "\n",
    "p_value = count/len(perm)"
   ]
  },
  {
   "cell_type": "code",
   "execution_count": 19,
   "metadata": {},
   "outputs": [
    {
     "name": "stdout",
     "output_type": "stream",
     "text": [
      "mean_X: 0.018388461190625094\n",
      "mean_Y: -0.07207745994674042\n",
      "num: 0.09046592113736551\n",
      "den: 0.04814968371037364\n"
     ]
    }
   ],
   "source": [
    "# compute effect size\n",
    "d = db.effect_size(E_ft, X, Y, A, B)"
   ]
  },
  {
   "cell_type": "code",
   "execution_count": 20,
   "metadata": {},
   "outputs": [
    {
     "name": "stdout",
     "output_type": "stream",
     "text": [
      "d:  1.87885\n",
      "p:  0.00000\n"
     ]
    }
   ],
   "source": [
    "print('d: %8.5f' % (d))\n",
    "print('p: %8.5f' % (p_value))"
   ]
  },
  {
   "cell_type": "code",
   "execution_count": null,
   "metadata": {},
   "outputs": [],
   "source": []
  }
 ],
 "metadata": {
  "kernelspec": {
   "display_name": "Python 3",
   "language": "python",
   "name": "python3"
  },
  "language_info": {
   "codemirror_mode": {
    "name": "ipython",
    "version": 3
   },
   "file_extension": ".py",
   "mimetype": "text/x-python",
   "name": "python",
   "nbconvert_exporter": "python",
   "pygments_lexer": "ipython3",
   "version": "3.7.3"
  }
 },
 "nbformat": 4,
 "nbformat_minor": 2
}
