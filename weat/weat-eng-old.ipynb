{
 "cells": [
  {
   "cell_type": "markdown",
   "metadata": {},
   "source": [
    "# Science vs Arts - WEAT (English)"
   ]
  },
  {
   "cell_type": "code",
   "execution_count": 2,
   "metadata": {},
   "outputs": [],
   "source": [
    "# general\n",
    "#import pandas as pd\n",
    "#import numpy as np\n",
    "#import scipy.stats\n",
    "#import codecs\n",
    "#from matplotlib import pyplot as plt\n",
    "#from numpy import linalg as LA\n",
    "\n",
    "# bolukbasi's\n",
    "import debiaswe as dwe\n",
    "import debiaswe.we as we\n",
    "from debiaswe.we import WordEmbedding\n",
    "\n",
    "# mine\n",
    "import db_functions as db"
   ]
  },
  {
   "cell_type": "code",
   "execution_count": 3,
   "metadata": {},
   "outputs": [
    {
     "name": "stdout",
     "output_type": "stream",
     "text": [
      "*** Reading data from ../embedding/fast-text/cc.en.300.reduced.vec\n",
      "(143, 300)\n",
      "143 words of dimension 300 : he, his, her, she, ..., broadminded, hardhearted, achievement-oriented, comunicative\n",
      "143 words of dimension 300 : he, his, her, she, ..., broadminded, hardhearted, achievement-oriented, comunicative\n",
      "*** Reading data from ../embedding/word2vec/google.news.reduced.vec\n",
      "(136, 300)\n",
      "136 words of dimension 300 : he, his, her, she, ..., egoistic, mary, broadminded, hardhearted\n",
      "136 words of dimension 300 : he, his, her, she, ..., egoistic, mary, broadminded, hardhearted\n"
     ]
    }
   ],
   "source": [
    "# load emdeddings\n",
    "E_ft =  WordEmbedding('../embedding/fast-text/cc.en.300.reduced.vec', 'ft')\n",
    "E_w2v =  WordEmbedding('../embedding/word2vec/google.news.reduced.vec', 'ft')"
   ]
  },
  {
   "cell_type": "code",
   "execution_count": 4,
   "metadata": {},
   "outputs": [],
   "source": [
    "X = ['science', 'technology', 'physics', 'chemistry', 'Einstein', 'NASA', 'experiment', 'astronomy']\n",
    "Y = ['poetry', 'art', 'Shakespeare', 'dance', 'literature', 'novel', 'symphony', 'drama']\n",
    "\n",
    "A = ['brother', 'father', 'uncle', 'grandfather', 'son', 'he', 'his', 'him']\n",
    "B = ['sister', 'mother', 'aunt', 'grandmother', 'daughter', 'she', 'hers', 'her']"
   ]
  },
  {
   "cell_type": "markdown",
   "metadata": {},
   "source": [
    "### Working with FastText emdeddings"
   ]
  },
  {
   "cell_type": "code",
   "execution_count": 5,
   "metadata": {},
   "outputs": [],
   "source": [
    "S = db.s_set(E_ft, X, Y, A, B)"
   ]
  },
  {
   "cell_type": "code",
   "execution_count": 6,
   "metadata": {},
   "outputs": [],
   "source": [
    "# compute permutations\n",
    "l = X + Y\n",
    "perm = db.permutations(l)"
   ]
  },
  {
   "cell_type": "code",
   "execution_count": 7,
   "metadata": {},
   "outputs": [],
   "source": [
    "# compute p-value\n",
    "count = 0\n",
    "for p in perm:\n",
    "    s = db.s_set(E_ft, p[0], p[1], A, B)\n",
    "    if s > S:\n",
    "        count += 1\n",
    "\n",
    "p_value = count/len(perm)"
   ]
  },
  {
   "cell_type": "code",
   "execution_count": 8,
   "metadata": {},
   "outputs": [
    {
     "name": "stdout",
     "output_type": "stream",
     "text": [
      "mean_X: 0.03113521367777139\n",
      "mean_Y: -0.029574353524367325\n"
     ]
    }
   ],
   "source": [
    "# compute effect size\n",
    "d = db.effect_size(E_ft, X, Y, A, B)"
   ]
  },
  {
   "cell_type": "code",
   "execution_count": 9,
   "metadata": {},
   "outputs": [
    {
     "name": "stdout",
     "output_type": "stream",
     "text": [
      "d: 1.41995\n",
      "p: 0.00148\n"
     ]
    }
   ],
   "source": [
    "print('d: %7.5f' % (d))\n",
    "print('p: %7.5f' % (p_value))"
   ]
  },
  {
   "cell_type": "markdown",
   "metadata": {},
   "source": [
    "### Working with word2vec emdeddings"
   ]
  },
  {
   "cell_type": "code",
   "execution_count": 10,
   "metadata": {},
   "outputs": [],
   "source": [
    "S = db.s_set(E_w2v, X, Y, A, B)"
   ]
  },
  {
   "cell_type": "code",
   "execution_count": 11,
   "metadata": {},
   "outputs": [],
   "source": [
    "# compute permutations\n",
    "l = X + Y\n",
    "perm = db.permutations(l)"
   ]
  },
  {
   "cell_type": "code",
   "execution_count": 12,
   "metadata": {},
   "outputs": [],
   "source": [
    "# compute p-value\n",
    "count = 0\n",
    "for p in perm:\n",
    "    s = db.s_set(E_w2v, p[0], p[1], A, B)\n",
    "    if s > S:\n",
    "        count += 1\n",
    "\n",
    "p_value = count/len(perm)"
   ]
  },
  {
   "cell_type": "code",
   "execution_count": 13,
   "metadata": {},
   "outputs": [
    {
     "name": "stdout",
     "output_type": "stream",
     "text": [
      "mean_X: -0.0013586570057668723\n",
      "mean_Y: -0.04600695686531253\n"
     ]
    }
   ],
   "source": [
    "# compute effect size\n",
    "d = db.effect_size(E_w2v, X, Y, A, B)"
   ]
  },
  {
   "cell_type": "code",
   "execution_count": 14,
   "metadata": {},
   "outputs": [
    {
     "name": "stdout",
     "output_type": "stream",
     "text": [
      "d: 1.28465   (paper: 1.24)\n",
      "p: 0.00396   (paper: 10^-2)\n"
     ]
    }
   ],
   "source": [
    "print('d: %7.5f   (paper: 1.24)' % (d))\n",
    "print('p: %7.5f   (paper: 10^-2)' % (p_value))"
   ]
  },
  {
   "cell_type": "markdown",
   "metadata": {},
   "source": [
    "# Career vs Family - WEAT (English)"
   ]
  },
  {
   "cell_type": "code",
   "execution_count": 15,
   "metadata": {},
   "outputs": [],
   "source": [
    "X = ['John', 'Paul', 'Mike', 'Kevin', 'Steve', 'Greg', 'Jeff', 'Bill']\n",
    "Y = ['Amy', 'Joan', 'Lisa', 'Sarah', 'Diana', 'Kate', 'Ann', 'Donna']\n",
    "\n",
    "A = ['executive', 'management', 'professional', 'corporation', 'salary', 'office', 'business', 'career']\n",
    "B = ['home', 'parents', 'children', 'family', 'cousins', 'marriage', 'wedding', 'relatives']"
   ]
  },
  {
   "cell_type": "markdown",
   "metadata": {},
   "source": [
    "### Working with FastText emdeddings"
   ]
  },
  {
   "cell_type": "code",
   "execution_count": 16,
   "metadata": {},
   "outputs": [],
   "source": [
    "S = db.s_set(E_ft, X, Y, A, B)"
   ]
  },
  {
   "cell_type": "code",
   "execution_count": 17,
   "metadata": {},
   "outputs": [],
   "source": [
    "# compute permutations\n",
    "l = X + Y\n",
    "perm = db.permutations(l)"
   ]
  },
  {
   "cell_type": "code",
   "execution_count": 18,
   "metadata": {},
   "outputs": [],
   "source": [
    "# compute p-value\n",
    "count = 0\n",
    "for p in perm:\n",
    "    s = db.s_set(E_ft, p[0], p[1], A, B)\n",
    "    if s > S:\n",
    "        count += 1\n",
    "p_value = count/len(perm)"
   ]
  },
  {
   "cell_type": "code",
   "execution_count": 19,
   "metadata": {},
   "outputs": [
    {
     "name": "stdout",
     "output_type": "stream",
     "text": [
      "mean_X: -0.005585675404290669\n",
      "mean_Y: -0.09605159654165618\n"
     ]
    }
   ],
   "source": [
    "# compute effect size\n",
    "d = db.effect_size(E_ft, X, Y, A, B)"
   ]
  },
  {
   "cell_type": "code",
   "execution_count": 20,
   "metadata": {},
   "outputs": [
    {
     "name": "stdout",
     "output_type": "stream",
     "text": [
      "d: 1.82408\n",
      "p: 0.00000\n"
     ]
    }
   ],
   "source": [
    "print('d: %7.5f' % (d))\n",
    "print('p: %7.5f' % (p_value))"
   ]
  },
  {
   "cell_type": "markdown",
   "metadata": {},
   "source": [
    "### Working with word2vec emdeddings"
   ]
  },
  {
   "cell_type": "code",
   "execution_count": 21,
   "metadata": {},
   "outputs": [],
   "source": [
    "S = db.s_set(E_w2v, X, Y, A, B)"
   ]
  },
  {
   "cell_type": "code",
   "execution_count": 22,
   "metadata": {},
   "outputs": [],
   "source": [
    "# compute permutations\n",
    "l = X + Y\n",
    "perm = db.permutations(l)"
   ]
  },
  {
   "cell_type": "code",
   "execution_count": 23,
   "metadata": {},
   "outputs": [],
   "source": [
    "# compute p-value\n",
    "count = 0\n",
    "for p in perm:\n",
    "    s = db.s_set(E_w2v, p[0], p[1], A, B)\n",
    "    if s > S:\n",
    "        count += 1\n",
    "\n",
    "p_value = count/len(perm)"
   ]
  },
  {
   "cell_type": "code",
   "execution_count": 24,
   "metadata": {},
   "outputs": [
    {
     "name": "stdout",
     "output_type": "stream",
     "text": [
      "mean_X: 0.09203060247091344\n",
      "mean_Y: -0.06442062187124975\n"
     ]
    }
   ],
   "source": [
    "# compute effect size\n",
    "d = db.effect_size(E_w2v, X, Y, A, B)"
   ]
  },
  {
   "cell_type": "code",
   "execution_count": 25,
   "metadata": {},
   "outputs": [
    {
     "name": "stdout",
     "output_type": "stream",
     "text": [
      "d: 1.95185   (paper: 1.89)\n",
      "p: 0.00000   (paper: 10^-4)\n"
     ]
    }
   ],
   "source": [
    "print('d: %7.5f   (paper: 1.89)' % (d))\n",
    "print('p: %7.5f   (paper: 10^-4)' % (p_value))"
   ]
  },
  {
   "cell_type": "code",
   "execution_count": null,
   "metadata": {},
   "outputs": [],
   "source": []
  }
 ],
 "metadata": {
  "kernelspec": {
   "display_name": "Python 3",
   "language": "python",
   "name": "python3"
  },
  "language_info": {
   "codemirror_mode": {
    "name": "ipython",
    "version": 3
   },
   "file_extension": ".py",
   "mimetype": "text/x-python",
   "name": "python",
   "nbconvert_exporter": "python",
   "pygments_lexer": "ipython3",
   "version": "3.7.3"
  }
 },
 "nbformat": 4,
 "nbformat_minor": 2
}
