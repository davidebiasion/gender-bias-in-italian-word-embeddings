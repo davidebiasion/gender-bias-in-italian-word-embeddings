{
 "cells": [
  {
   "cell_type": "markdown",
   "metadata": {},
   "source": [
    "# Science vs Arts - WEAT"
   ]
  },
  {
   "cell_type": "code",
   "execution_count": 1,
   "metadata": {},
   "outputs": [],
   "source": [
    "# general\n",
    "#import pandas as pd\n",
    "#import numpy as np\n",
    "#import scipy.stats\n",
    "#import codecs\n",
    "#from matplotlib import pyplot as plt\n",
    "#from numpy import linalg as LA\n",
    "\n",
    "# bolukbasi's\n",
    "import debiaswe as dwe\n",
    "import debiaswe.we as we\n",
    "from debiaswe.we import WordEmbedding\n",
    "\n",
    "# mine\n",
    "import db_functions as db"
   ]
  },
  {
   "cell_type": "markdown",
   "metadata": {},
   "source": [
    "## Using Wikipedia embeddings"
   ]
  },
  {
   "cell_type": "code",
   "execution_count": 2,
   "metadata": {},
   "outputs": [
    {
     "name": "stdout",
     "output_type": "stream",
     "text": [
      "*** Reading data from ../embedding/fast-text/wiki.en.reduced.vec\n",
      "(135, 300)\n",
      "135 words of dimension 300 : he, his, her, she, ..., boastful, egoistic, broadminded, hardhearted\n",
      "135 words of dimension 300 : he, his, her, she, ..., boastful, egoistic, broadminded, hardhearted\n"
     ]
    }
   ],
   "source": [
    "# load FastText's emdeddings\n",
    "E_ft =  WordEmbedding('../embedding/fast-text/wiki.en.reduced.vec', 'ft')"
   ]
  },
  {
   "cell_type": "markdown",
   "metadata": {},
   "source": [
    "### Using all words"
   ]
  },
  {
   "cell_type": "code",
   "execution_count": 3,
   "metadata": {},
   "outputs": [],
   "source": [
    "X = ['science', 'technology', 'physics', 'chemistry', 'einstein', 'nasa', 'experiment', 'astronomy']\n",
    "Y = ['poetry', 'art', 'shakespeare', 'dance', 'literature', 'novel', 'symphony', 'drama']\n",
    "\n",
    "A = ['brother', 'father', 'uncle', 'grandfather', 'son', 'he', 'his', 'him']\n",
    "B = ['sister', 'mother', 'aunt', 'grandmother', 'daughter', 'she', 'hers', 'her']"
   ]
  },
  {
   "cell_type": "code",
   "execution_count": 4,
   "metadata": {},
   "outputs": [],
   "source": [
    "S = db.s_set(E_ft, X, Y, A, B)"
   ]
  },
  {
   "cell_type": "code",
   "execution_count": 5,
   "metadata": {},
   "outputs": [],
   "source": [
    "# compute permutations\n",
    "l = X + Y\n",
    "perm = db.permutations(l)"
   ]
  },
  {
   "cell_type": "code",
   "execution_count": 6,
   "metadata": {},
   "outputs": [],
   "source": [
    "# compute p-value\n",
    "count = 0\n",
    "for p in perm:\n",
    "    s = db.s_set(E_ft, p[0], p[1], A, B)\n",
    "    if s > S:\n",
    "        count += 1\n",
    "\n",
    "p_value = count/len(perm)"
   ]
  },
  {
   "cell_type": "code",
   "execution_count": 7,
   "metadata": {},
   "outputs": [
    {
     "name": "stdout",
     "output_type": "stream",
     "text": [
      "mean_X: 0.006609021336771548\n",
      "mean_Y: -0.02575563231948763\n",
      "num: 0.03236465365625918\n",
      "den: 0.024826186020849877\n"
     ]
    }
   ],
   "source": [
    "# compute effect size\n",
    "d = db.effect_size(E_ft, X, Y, A, B)"
   ]
  },
  {
   "cell_type": "code",
   "execution_count": 8,
   "metadata": {},
   "outputs": [
    {
     "name": "stdout",
     "output_type": "stream",
     "text": [
      "d:  1.30365\n",
      "p:  0.00319\n"
     ]
    }
   ],
   "source": [
    "print('d: %8.5f' % (d))\n",
    "print('p: %8.5f' % (p_value))"
   ]
  },
  {
   "cell_type": "code",
   "execution_count": null,
   "metadata": {},
   "outputs": [],
   "source": []
  },
  {
   "cell_type": "code",
   "execution_count": null,
   "metadata": {},
   "outputs": [],
   "source": []
  },
  {
   "cell_type": "markdown",
   "metadata": {},
   "source": [
    "# Career vs Family - WEAT"
   ]
  },
  {
   "cell_type": "markdown",
   "metadata": {},
   "source": [
    "## X=male, Y=female, A=career, B=family"
   ]
  },
  {
   "cell_type": "code",
   "execution_count": 9,
   "metadata": {},
   "outputs": [],
   "source": [
    "X = ['john', 'paul', 'mike', 'kevin', 'steve', 'greg', 'jeff', 'bill']\n",
    "Y = ['amy', 'joan', 'lisa', 'sarah', 'diana', 'kate', 'ann', 'donna']\n",
    "\n",
    "A = ['executive', 'management', 'professional', 'corporation', 'salary', 'office', 'business', 'career']\n",
    "B = ['home', 'parents', 'children', 'family', 'cousins', 'marriage', 'wedding', 'relatives']"
   ]
  },
  {
   "cell_type": "code",
   "execution_count": 10,
   "metadata": {},
   "outputs": [],
   "source": [
    "S = db.s_set(E_ft, X, Y, A, B)"
   ]
  },
  {
   "cell_type": "code",
   "execution_count": 11,
   "metadata": {},
   "outputs": [],
   "source": [
    "# compute permutations\n",
    "l = X + Y\n",
    "perm = db.permutations(l)"
   ]
  },
  {
   "cell_type": "code",
   "execution_count": 12,
   "metadata": {},
   "outputs": [],
   "source": [
    "# compute p-value\n",
    "count = 0\n",
    "for p in perm:\n",
    "    s = db.s_set(E_ft, p[0], p[1], A, B)\n",
    "    if s > S:\n",
    "        count += 1\n",
    "\n",
    "p_value = count/len(perm)"
   ]
  },
  {
   "cell_type": "code",
   "execution_count": 13,
   "metadata": {},
   "outputs": [
    {
     "name": "stdout",
     "output_type": "stream",
     "text": [
      "mean_X: 0.024217476486228406\n",
      "mean_Y: -0.08166777843143791\n",
      "num: 0.10588525491766632\n",
      "den: 0.05771540774736266\n"
     ]
    }
   ],
   "source": [
    "# compute effect size\n",
    "d = db.effect_size(E_ft, X, Y, A, B)"
   ]
  },
  {
   "cell_type": "code",
   "execution_count": 14,
   "metadata": {},
   "outputs": [
    {
     "name": "stdout",
     "output_type": "stream",
     "text": [
      "d:  1.83461\n",
      "p:  0.00000\n"
     ]
    }
   ],
   "source": [
    "print('d: %8.5f' % (d))\n",
    "print('p: %8.5f' % (p_value))"
   ]
  },
  {
   "cell_type": "markdown",
   "metadata": {},
   "source": [
    "## X=career, Y=family, A=male, B=female"
   ]
  },
  {
   "cell_type": "markdown",
   "metadata": {},
   "source": [
    "### Using all words"
   ]
  },
  {
   "cell_type": "code",
   "execution_count": 17,
   "metadata": {},
   "outputs": [],
   "source": [
    "A = ['john', 'paul', 'mike', 'kevin', 'steve', 'greg', 'jeff', 'bill']\n",
    "B = ['amy', 'joan', 'lisa', 'sarah', 'diana', 'kate', 'ann', 'donna']\n",
    "\n",
    "X = ['executive', 'management', 'professional', 'corporation', 'salary', 'office', 'business', 'career']\n",
    "Y = ['home', 'parents', 'children', 'family', 'cousins', 'marriage', 'wedding', 'relatives']"
   ]
  },
  {
   "cell_type": "code",
   "execution_count": 18,
   "metadata": {},
   "outputs": [],
   "source": [
    "S = db.s_set(E_ft, X, Y, A, B)"
   ]
  },
  {
   "cell_type": "code",
   "execution_count": 19,
   "metadata": {},
   "outputs": [],
   "source": [
    "# compute permutations\n",
    "l = X + Y\n",
    "perm = db.permutations(l)"
   ]
  },
  {
   "cell_type": "code",
   "execution_count": 20,
   "metadata": {},
   "outputs": [],
   "source": [
    "# compute p-value\n",
    "count = 0\n",
    "for p in perm:\n",
    "    s = db.s_set(E_ft, p[0], p[1], A, B)\n",
    "    if s > S:\n",
    "        count += 1\n",
    "\n",
    "p_value = count/len(perm)"
   ]
  },
  {
   "cell_type": "code",
   "execution_count": 21,
   "metadata": {},
   "outputs": [
    {
     "name": "stdout",
     "output_type": "stream",
     "text": [
      "mean_X: 0.02593607467133552\n",
      "mean_Y: -0.0799491802463308\n",
      "num: 0.10588525491766632\n",
      "den: 0.06753393669943766\n"
     ]
    }
   ],
   "source": [
    "# compute effect size\n",
    "d = db.effect_size(E_ft, X, Y, A, B)"
   ]
  },
  {
   "cell_type": "code",
   "execution_count": 22,
   "metadata": {},
   "outputs": [
    {
     "name": "stdout",
     "output_type": "stream",
     "text": [
      "d:  1.56788\n",
      "p:  0.00023\n"
     ]
    }
   ],
   "source": [
    "print('d: %8.5f' % (d))\n",
    "print('p: %8.5f' % (p_value))"
   ]
  },
  {
   "cell_type": "code",
   "execution_count": null,
   "metadata": {},
   "outputs": [],
   "source": []
  }
 ],
 "metadata": {
  "kernelspec": {
   "display_name": "Python 3",
   "language": "python",
   "name": "python3"
  },
  "language_info": {
   "codemirror_mode": {
    "name": "ipython",
    "version": 3
   },
   "file_extension": ".py",
   "mimetype": "text/x-python",
   "name": "python",
   "nbconvert_exporter": "python",
   "pygments_lexer": "ipython3",
   "version": "3.7.3"
  }
 },
 "nbformat": 4,
 "nbformat_minor": 2
}
