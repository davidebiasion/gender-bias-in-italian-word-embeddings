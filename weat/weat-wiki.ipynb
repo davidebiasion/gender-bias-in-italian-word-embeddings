{
 "cells": [
  {
   "cell_type": "markdown",
   "metadata": {},
   "source": [
    "# Science vs Arts - WEAT"
   ]
  },
  {
   "cell_type": "code",
   "execution_count": 1,
   "metadata": {},
   "outputs": [],
   "source": [
    "# general\n",
    "#import pandas as pd\n",
    "#import numpy as np\n",
    "#import scipy.stats\n",
    "#import codecs\n",
    "#from matplotlib import pyplot as plt\n",
    "#from numpy import linalg as LA\n",
    "\n",
    "# bolukbasi's\n",
    "import debiaswe as dwe\n",
    "import debiaswe.we as we\n",
    "from debiaswe.we import WordEmbedding\n",
    "\n",
    "# mine\n",
    "import db_functions as db"
   ]
  },
  {
   "cell_type": "markdown",
   "metadata": {},
   "source": [
    "## Using Wikipedia embeddings"
   ]
  },
  {
   "cell_type": "code",
   "execution_count": 2,
   "metadata": {},
   "outputs": [
    {
     "name": "stdout",
     "output_type": "stream",
     "text": [
      "*** Reading data from ../embedding/fast-text/wiki.it.reduced.vec\n",
      "(465, 300)\n",
      "465 words of dimension 300 : sua, suo, prima, italiano, ..., credulona, calzolaia, supportivo, agrotecnica\n",
      "465 words of dimension 300 : sua, suo, prima, italiano, ..., credulona, calzolaia, supportivo, agrotecnica\n"
     ]
    }
   ],
   "source": [
    "# load FastText's emdeddings\n",
    "E_ft =  WordEmbedding('../embedding/fast-text/wiki.it.reduced.vec', 'ft')"
   ]
  },
  {
   "cell_type": "markdown",
   "metadata": {},
   "source": [
    "### Using all words"
   ]
  },
  {
   "cell_type": "code",
   "execution_count": 3,
   "metadata": {},
   "outputs": [],
   "source": [
    "X = ['biologia', 'fisica', 'chimica', 'matematica', 'geologia', 'astronomia', 'ingegneria']\n",
    "Y = ['filosofia', 'umanesimo', 'arte', 'letteratura', 'italiano', 'musica', 'storia']\n",
    "\n",
    "A = ['lui', 'uomo', 'padre', 'marito', 'fratello', 'maschio']\n",
    "B = ['lei', 'donna', 'madre', 'moglie', 'sorella', 'femmina']"
   ]
  },
  {
   "cell_type": "code",
   "execution_count": 4,
   "metadata": {},
   "outputs": [],
   "source": [
    "S = db.s_set(E_ft, X, Y, A, B)"
   ]
  },
  {
   "cell_type": "code",
   "execution_count": 5,
   "metadata": {},
   "outputs": [],
   "source": [
    "# compute permutations\n",
    "l = X + Y\n",
    "perm = db.permutations(l)"
   ]
  },
  {
   "cell_type": "code",
   "execution_count": 6,
   "metadata": {},
   "outputs": [],
   "source": [
    "# compute p-value\n",
    "count = 0\n",
    "for p in perm:\n",
    "    s = db.s_set(E_ft, p[0], p[1], A, B)\n",
    "    if s > S:\n",
    "        count += 1\n",
    "\n",
    "p_value = count/len(perm)"
   ]
  },
  {
   "cell_type": "code",
   "execution_count": 7,
   "metadata": {},
   "outputs": [
    {
     "name": "stdout",
     "output_type": "stream",
     "text": [
      "mean_X: 0.00797724989908082\n",
      "mean_Y: 0.012520536070778259\n",
      "num: -0.004543286171697438\n",
      "den: 0.032450865592680164\n"
     ]
    }
   ],
   "source": [
    "# compute effect size\n",
    "d = db.effect_size(E_ft, X, Y, A, B)"
   ]
  },
  {
   "cell_type": "code",
   "execution_count": 8,
   "metadata": {},
   "outputs": [
    {
     "name": "stdout",
     "output_type": "stream",
     "text": [
      "d: -0.14001\n",
      "p:  0.59283\n"
     ]
    }
   ],
   "source": [
    "print('d: %8.5f' % (d))\n",
    "print('p: %8.5f' % (p_value))"
   ]
  },
  {
   "cell_type": "markdown",
   "metadata": {},
   "source": [
    "### Using (lui,lei)"
   ]
  },
  {
   "cell_type": "code",
   "execution_count": 9,
   "metadata": {},
   "outputs": [],
   "source": [
    "X = ['biologia', 'fisica', 'chimica', 'matematica', 'geologia', 'astronomia', 'ingegneria']\n",
    "Y = ['filosofia', 'umanesimo', 'arte', 'letteratura', 'italiano', 'musica', 'storia']\n",
    "\n",
    "A = ['lui']\n",
    "B = ['lei']"
   ]
  },
  {
   "cell_type": "code",
   "execution_count": 10,
   "metadata": {},
   "outputs": [],
   "source": [
    "S = db.s_set(E_ft, X, Y, A, B)"
   ]
  },
  {
   "cell_type": "code",
   "execution_count": 11,
   "metadata": {},
   "outputs": [],
   "source": [
    "# compute permutations\n",
    "l = X + Y\n",
    "perm = db.permutations(l)"
   ]
  },
  {
   "cell_type": "code",
   "execution_count": 12,
   "metadata": {},
   "outputs": [],
   "source": [
    "# compute p-value\n",
    "count = 0\n",
    "for p in perm:\n",
    "    s = db.s_set(E_ft, p[0], p[1], A, B)\n",
    "    if s > S:\n",
    "        count += 1\n",
    "\n",
    "p_value = count/len(perm)"
   ]
  },
  {
   "cell_type": "code",
   "execution_count": 13,
   "metadata": {},
   "outputs": [
    {
     "name": "stdout",
     "output_type": "stream",
     "text": [
      "mean_X: 0.014629476836749486\n",
      "mean_Y: 0.026111137654100145\n",
      "num: -0.011481660817350659\n",
      "den: 0.02897048286672428\n"
     ]
    }
   ],
   "source": [
    "# compute effect size\n",
    "d = db.effect_size(E_ft, X, Y, A, B)"
   ]
  },
  {
   "cell_type": "code",
   "execution_count": 14,
   "metadata": {},
   "outputs": [
    {
     "name": "stdout",
     "output_type": "stream",
     "text": [
      "d: -0.39632\n",
      "p:  0.75080\n"
     ]
    }
   ],
   "source": [
    "print('d: %8.5f' % (d))\n",
    "print('p: %8.5f' % (p_value))"
   ]
  },
  {
   "cell_type": "markdown",
   "metadata": {},
   "source": [
    "### Using (uomo,donna)"
   ]
  },
  {
   "cell_type": "code",
   "execution_count": 15,
   "metadata": {},
   "outputs": [],
   "source": [
    "X = ['biologia', 'fisica', 'chimica', 'matematica', 'geologia', 'astronomia', 'ingegneria']\n",
    "Y = ['filosofia', 'umanesimo', 'arte', 'letteratura', 'italiano', 'musica', 'storia']\n",
    "\n",
    "A = ['uomo']\n",
    "B = ['donna']"
   ]
  },
  {
   "cell_type": "code",
   "execution_count": 16,
   "metadata": {},
   "outputs": [],
   "source": [
    "S = db.s_set(E_ft, X, Y, A, B)"
   ]
  },
  {
   "cell_type": "code",
   "execution_count": 17,
   "metadata": {},
   "outputs": [],
   "source": [
    "# compute permutations\n",
    "l = X + Y\n",
    "perm = db.permutations(l)"
   ]
  },
  {
   "cell_type": "code",
   "execution_count": 18,
   "metadata": {},
   "outputs": [],
   "source": [
    "# compute p-value\n",
    "count = 0\n",
    "for p in perm:\n",
    "    s = db.s_set(E_ft, p[0], p[1], A, B)\n",
    "    if s > S:\n",
    "        count += 1\n",
    "\n",
    "p_value = count/len(perm)"
   ]
  },
  {
   "cell_type": "code",
   "execution_count": 19,
   "metadata": {},
   "outputs": [
    {
     "name": "stdout",
     "output_type": "stream",
     "text": [
      "mean_X: 0.010728201695850917\n",
      "mean_Y: 0.015465712973049708\n",
      "num: -0.0047375112771987915\n",
      "den: 0.07444019442580106\n"
     ]
    }
   ],
   "source": [
    "# compute effect size\n",
    "d = db.effect_size(E_ft, X, Y, A, B)"
   ]
  },
  {
   "cell_type": "code",
   "execution_count": 20,
   "metadata": {},
   "outputs": [
    {
     "name": "stdout",
     "output_type": "stream",
     "text": [
      "d: -0.06364\n",
      "p:  0.53774\n"
     ]
    }
   ],
   "source": [
    "print('d: %8.5f' % (d))\n",
    "print('p: %8.5f' % (p_value))"
   ]
  },
  {
   "cell_type": "markdown",
   "metadata": {},
   "source": [
    "### Using (padre,madre)"
   ]
  },
  {
   "cell_type": "code",
   "execution_count": 21,
   "metadata": {},
   "outputs": [],
   "source": [
    "X = ['biologia', 'fisica', 'chimica', 'matematica', 'geologia', 'astronomia', 'ingegneria']\n",
    "Y = ['filosofia', 'umanesimo', 'arte', 'letteratura', 'italiano', 'musica', 'storia']\n",
    "\n",
    "A = ['padre']\n",
    "B = ['madre']"
   ]
  },
  {
   "cell_type": "code",
   "execution_count": 22,
   "metadata": {},
   "outputs": [],
   "source": [
    "S = db.s_set(E_ft, X, Y, A, B)"
   ]
  },
  {
   "cell_type": "code",
   "execution_count": 23,
   "metadata": {},
   "outputs": [],
   "source": [
    "# compute permutations\n",
    "l = X + Y\n",
    "perm = db.permutations(l)"
   ]
  },
  {
   "cell_type": "code",
   "execution_count": 24,
   "metadata": {},
   "outputs": [],
   "source": [
    "# compute p-value\n",
    "count = 0\n",
    "for p in perm:\n",
    "    s = db.s_set(E_ft, p[0], p[1], A, B)\n",
    "    if s > S:\n",
    "        count += 1\n",
    "\n",
    "p_value = count/len(perm)"
   ]
  },
  {
   "cell_type": "code",
   "execution_count": 25,
   "metadata": {},
   "outputs": [
    {
     "name": "stdout",
     "output_type": "stream",
     "text": [
      "mean_X: 0.010664986712591988\n",
      "mean_Y: 0.015630008918898448\n",
      "num: -0.004965022206306459\n",
      "den: 0.03274501876070882\n"
     ]
    }
   ],
   "source": [
    "# compute effect size\n",
    "d = db.effect_size(E_ft, X, Y, A, B)"
   ]
  },
  {
   "cell_type": "code",
   "execution_count": 26,
   "metadata": {},
   "outputs": [
    {
     "name": "stdout",
     "output_type": "stream",
     "text": [
      "d: -0.15163\n",
      "p:  0.60653\n"
     ]
    }
   ],
   "source": [
    "print('d: %8.5f' % (d))\n",
    "print('p: %8.5f' % (p_value))"
   ]
  },
  {
   "cell_type": "markdown",
   "metadata": {},
   "source": [
    "### Using (marito,moglie)"
   ]
  },
  {
   "cell_type": "code",
   "execution_count": 27,
   "metadata": {},
   "outputs": [],
   "source": [
    "X = ['biologia', 'fisica', 'chimica', 'matematica', 'geologia', 'astronomia', 'ingegneria']\n",
    "Y = ['filosofia', 'umanesimo', 'arte', 'letteratura', 'italiano', 'musica', 'storia']\n",
    "\n",
    "A = ['marito']\n",
    "B = ['moglie']"
   ]
  },
  {
   "cell_type": "code",
   "execution_count": 28,
   "metadata": {},
   "outputs": [],
   "source": [
    "S = db.s_set(E_ft, X, Y, A, B)"
   ]
  },
  {
   "cell_type": "code",
   "execution_count": 29,
   "metadata": {},
   "outputs": [],
   "source": [
    "# compute permutations\n",
    "l = X + Y\n",
    "perm = db.permutations(l)"
   ]
  },
  {
   "cell_type": "code",
   "execution_count": 30,
   "metadata": {},
   "outputs": [],
   "source": [
    "# compute p-value\n",
    "count = 0\n",
    "for p in perm:\n",
    "    s = db.s_set(E_ft, p[0], p[1], A, B)\n",
    "    if s > S:\n",
    "        count += 1\n",
    "\n",
    "p_value = count/len(perm)"
   ]
  },
  {
   "cell_type": "code",
   "execution_count": 31,
   "metadata": {},
   "outputs": [
    {
     "name": "stdout",
     "output_type": "stream",
     "text": [
      "mean_X: -0.010007766740662711\n",
      "mean_Y: -0.016611320631844655\n",
      "num: 0.006603553891181944\n",
      "den: 0.024391209138630656\n"
     ]
    }
   ],
   "source": [
    "# compute effect size\n",
    "d = db.effect_size(E_ft, X, Y, A, B)"
   ]
  },
  {
   "cell_type": "code",
   "execution_count": 32,
   "metadata": {},
   "outputs": [
    {
     "name": "stdout",
     "output_type": "stream",
     "text": [
      "d:  0.27073\n",
      "p:  0.32848\n"
     ]
    }
   ],
   "source": [
    "print('d: %8.5f' % (d))\n",
    "print('p: %8.5f' % (p_value))"
   ]
  },
  {
   "cell_type": "markdown",
   "metadata": {},
   "source": [
    "### Using (fratello,sorella)"
   ]
  },
  {
   "cell_type": "code",
   "execution_count": 33,
   "metadata": {},
   "outputs": [],
   "source": [
    "X = ['biologia', 'fisica', 'chimica', 'matematica', 'geologia', 'astronomia', 'ingegneria']\n",
    "Y = ['filosofia', 'umanesimo', 'arte', 'letteratura', 'italiano', 'musica', 'storia']\n",
    "\n",
    "A = ['fratello']\n",
    "B = ['sorella']"
   ]
  },
  {
   "cell_type": "code",
   "execution_count": 34,
   "metadata": {},
   "outputs": [],
   "source": [
    "S = db.s_set(E_ft, X, Y, A, B)"
   ]
  },
  {
   "cell_type": "code",
   "execution_count": 35,
   "metadata": {},
   "outputs": [],
   "source": [
    "# compute permutations\n",
    "l = X + Y\n",
    "perm = db.permutations(l)"
   ]
  },
  {
   "cell_type": "code",
   "execution_count": 36,
   "metadata": {},
   "outputs": [],
   "source": [
    "# compute p-value\n",
    "count = 0\n",
    "for p in perm:\n",
    "    s = db.s_set(E_ft, p[0], p[1], A, B)\n",
    "    if s > S:\n",
    "        count += 1\n",
    "\n",
    "p_value = count/len(perm)"
   ]
  },
  {
   "cell_type": "code",
   "execution_count": 37,
   "metadata": {},
   "outputs": [
    {
     "name": "stdout",
     "output_type": "stream",
     "text": [
      "mean_X: -0.0065403346504483905\n",
      "mean_Y: 0.0006534318838800703\n",
      "num: -0.007193766534328461\n",
      "den: 0.04140562885161203\n"
     ]
    }
   ],
   "source": [
    "# compute effect size\n",
    "d = db.effect_size(E_ft, X, Y, A, B)"
   ]
  },
  {
   "cell_type": "code",
   "execution_count": 38,
   "metadata": {},
   "outputs": [
    {
     "name": "stdout",
     "output_type": "stream",
     "text": [
      "d: -0.17374\n",
      "p:  0.61877\n"
     ]
    }
   ],
   "source": [
    "print('d: %8.5f' % (d))\n",
    "print('p: %8.5f' % (p_value))"
   ]
  },
  {
   "cell_type": "markdown",
   "metadata": {},
   "source": [
    "### Using (maschio,femmina)"
   ]
  },
  {
   "cell_type": "code",
   "execution_count": 39,
   "metadata": {},
   "outputs": [],
   "source": [
    "X = ['biologia', 'fisica', 'chimica', 'matematica', 'geologia', 'astronomia', 'ingegneria']\n",
    "Y = ['filosofia', 'umanesimo', 'arte', 'letteratura', 'italiano', 'musica', 'storia']\n",
    "\n",
    "A = ['maschio']\n",
    "B = ['femmina']"
   ]
  },
  {
   "cell_type": "code",
   "execution_count": 40,
   "metadata": {},
   "outputs": [],
   "source": [
    "S = db.s_set(E_ft, X, Y, A, B)"
   ]
  },
  {
   "cell_type": "code",
   "execution_count": 41,
   "metadata": {},
   "outputs": [],
   "source": [
    "# compute permutations\n",
    "l = X + Y\n",
    "perm = db.permutations(l)"
   ]
  },
  {
   "cell_type": "code",
   "execution_count": 42,
   "metadata": {},
   "outputs": [],
   "source": [
    "# compute p-value\n",
    "count = 0\n",
    "for p in perm:\n",
    "    s = db.s_set(E_ft, p[0], p[1], A, B)\n",
    "    if s > S:\n",
    "        count += 1\n",
    "\n",
    "p_value = count/len(perm)"
   ]
  },
  {
   "cell_type": "code",
   "execution_count": 43,
   "metadata": {},
   "outputs": [
    {
     "name": "stdout",
     "output_type": "stream",
     "text": [
      "mean_X: 0.02838893554040364\n",
      "mean_Y: 0.03387424562658582\n",
      "num: -0.005485310086182183\n",
      "den: 0.028193108506388117\n"
     ]
    }
   ],
   "source": [
    "# compute effect size\n",
    "d = db.effect_size(E_ft, X, Y, A, B)"
   ]
  },
  {
   "cell_type": "code",
   "execution_count": 44,
   "metadata": {},
   "outputs": [
    {
     "name": "stdout",
     "output_type": "stream",
     "text": [
      "d: -0.19456\n",
      "p:  0.62781\n"
     ]
    }
   ],
   "source": [
    "print('d: %8.5f' % (d))\n",
    "print('p: %8.5f' % (p_value))"
   ]
  },
  {
   "cell_type": "markdown",
   "metadata": {},
   "source": [
    "### Bonus: using English science-arts words"
   ]
  },
  {
   "cell_type": "code",
   "execution_count": 45,
   "metadata": {},
   "outputs": [
    {
     "data": {
      "text/plain": [
       "\"\\nX = ['scienza', 'tecnologia', 'fisica', 'chimica', 'Einstein', 'NASA', 'esperimento', 'astronomia']\\nY = ['poesia', 'arte', 'Shakespeare', 'danza', 'letteratura', 'romanzo', 'sinfonia', 'dramma']\\n\\nA = ['lui', 'uomo', 'padre', 'marito', 'fratello', 'maschio']\\nB = ['lei', 'donna', 'madre', 'moglie', 'sorella', 'femmina']\\n\""
      ]
     },
     "execution_count": 45,
     "metadata": {},
     "output_type": "execute_result"
    }
   ],
   "source": [
    "'''\n",
    "X = ['scienza', 'tecnologia', 'fisica', 'chimica', 'Einstein', 'NASA', 'esperimento', 'astronomia']\n",
    "Y = ['poesia', 'arte', 'Shakespeare', 'danza', 'letteratura', 'romanzo', 'sinfonia', 'dramma']\n",
    "\n",
    "A = ['lui', 'uomo', 'padre', 'marito', 'fratello', 'maschio']\n",
    "B = ['lei', 'donna', 'madre', 'moglie', 'sorella', 'femmina']\n",
    "'''"
   ]
  },
  {
   "cell_type": "code",
   "execution_count": 46,
   "metadata": {},
   "outputs": [],
   "source": [
    "#S = db.s_set(E_ft, X, Y, A, B)"
   ]
  },
  {
   "cell_type": "code",
   "execution_count": 47,
   "metadata": {},
   "outputs": [],
   "source": [
    "# compute permutations\n",
    "#l = X + Y\n",
    "#perm = db.permutations(l)"
   ]
  },
  {
   "cell_type": "code",
   "execution_count": 48,
   "metadata": {},
   "outputs": [
    {
     "data": {
      "text/plain": [
       "'\\ncount = 0\\nfor p in perm:\\n    s = db.s_set(E_ft, p[0], p[1], A, B)\\n    if s > S:\\n        count += 1\\n\\np_value = count/len(perm)\\n'"
      ]
     },
     "execution_count": 48,
     "metadata": {},
     "output_type": "execute_result"
    }
   ],
   "source": [
    "# compute p-value\n",
    "'''\n",
    "count = 0\n",
    "for p in perm:\n",
    "    s = db.s_set(E_ft, p[0], p[1], A, B)\n",
    "    if s > S:\n",
    "        count += 1\n",
    "\n",
    "p_value = count/len(perm)\n",
    "'''"
   ]
  },
  {
   "cell_type": "code",
   "execution_count": 49,
   "metadata": {},
   "outputs": [],
   "source": [
    "# compute effect size\n",
    "#d = db.effect_size(E_ft, X, Y, A, B)"
   ]
  },
  {
   "cell_type": "code",
   "execution_count": 50,
   "metadata": {},
   "outputs": [],
   "source": [
    "#print('d: %8.5f' % (d))\n",
    "#print('p: %8.5f' % (p_value))"
   ]
  },
  {
   "cell_type": "code",
   "execution_count": null,
   "metadata": {},
   "outputs": [],
   "source": []
  },
  {
   "cell_type": "code",
   "execution_count": null,
   "metadata": {},
   "outputs": [],
   "source": []
  },
  {
   "cell_type": "code",
   "execution_count": null,
   "metadata": {},
   "outputs": [],
   "source": []
  },
  {
   "cell_type": "markdown",
   "metadata": {},
   "source": [
    "# Career vs Family - WEAT"
   ]
  },
  {
   "cell_type": "markdown",
   "metadata": {},
   "source": [
    "## X=male, Y=female, A=career, B=family"
   ]
  },
  {
   "cell_type": "code",
   "execution_count": 51,
   "metadata": {},
   "outputs": [],
   "source": [
    "A = ['esecutivo', 'management', 'professionale', 'azienda', 'stipendio', 'ufficio', 'business', 'carriera']\n",
    "B = ['casa', 'genitori', 'bambini', 'famiglia', 'cugini', 'matrimonio', 'nozze', 'parenti']\n",
    "\n",
    "X = ['lui', 'uomo', 'padre', 'marito', 'fratello', 'maschio']\n",
    "Y = ['lei', 'donna', 'madre', 'moglie', 'sorella', 'femmina']"
   ]
  },
  {
   "cell_type": "code",
   "execution_count": 52,
   "metadata": {},
   "outputs": [],
   "source": [
    "S = db.s_set(E_ft, X, Y, A, B)"
   ]
  },
  {
   "cell_type": "code",
   "execution_count": 53,
   "metadata": {},
   "outputs": [],
   "source": [
    "# compute permutations\n",
    "l = X + Y\n",
    "perm = db.permutations(l)"
   ]
  },
  {
   "cell_type": "code",
   "execution_count": 54,
   "metadata": {},
   "outputs": [],
   "source": [
    "# compute p-value\n",
    "count = 0\n",
    "for p in perm:\n",
    "    s = db.s_set(E_ft, p[0], p[1], A, B)\n",
    "    if s > S:\n",
    "        count += 1\n",
    "\n",
    "p_value = count/len(perm)"
   ]
  },
  {
   "cell_type": "code",
   "execution_count": 55,
   "metadata": {},
   "outputs": [
    {
     "name": "stdout",
     "output_type": "stream",
     "text": [
      "mean_X: -0.1685335710644722\n",
      "mean_Y: -0.21632108146635196\n",
      "num: 0.04778751040187976\n",
      "den: 0.06901375570335856\n"
     ]
    }
   ],
   "source": [
    "# compute effect size\n",
    "d = db.effect_size(E_ft, X, Y, A, B)"
   ]
  },
  {
   "cell_type": "code",
   "execution_count": 56,
   "metadata": {},
   "outputs": [
    {
     "name": "stdout",
     "output_type": "stream",
     "text": [
      "d:  0.69243\n",
      "p:  0.13759\n"
     ]
    }
   ],
   "source": [
    "print('d: %8.5f' % (d))\n",
    "print('p: %8.5f' % (p_value))"
   ]
  },
  {
   "cell_type": "markdown",
   "metadata": {},
   "source": [
    "## X=career, Y=family, A=male, B=female"
   ]
  },
  {
   "cell_type": "markdown",
   "metadata": {},
   "source": [
    "### Using all words"
   ]
  },
  {
   "cell_type": "code",
   "execution_count": 57,
   "metadata": {},
   "outputs": [],
   "source": [
    "X = ['esecutivo', 'management', 'professionale', 'azienda', 'stipendio', 'ufficio', 'business', 'carriera']\n",
    "Y = ['casa', 'genitori', 'bambini', 'famiglia', 'cugini', 'matrimonio', 'nozze', 'parenti']\n",
    "\n",
    "A = ['lui', 'uomo', 'padre', 'marito', 'fratello', 'maschio']\n",
    "B = ['lei', 'donna', 'madre', 'moglie', 'sorella', 'femmina']"
   ]
  },
  {
   "cell_type": "code",
   "execution_count": 58,
   "metadata": {},
   "outputs": [],
   "source": [
    "S = db.s_set(E_ft, X, Y, A, B)"
   ]
  },
  {
   "cell_type": "code",
   "execution_count": 59,
   "metadata": {},
   "outputs": [],
   "source": [
    "# compute permutations\n",
    "l = X + Y\n",
    "perm = db.permutations(l)"
   ]
  },
  {
   "cell_type": "code",
   "execution_count": 60,
   "metadata": {},
   "outputs": [],
   "source": [
    "# compute p-value\n",
    "count = 0\n",
    "for p in perm:\n",
    "    s = db.s_set(E_ft, p[0], p[1], A, B)\n",
    "    if s > S:\n",
    "        count += 1\n",
    "\n",
    "p_value = count/len(perm)"
   ]
  },
  {
   "cell_type": "code",
   "execution_count": 61,
   "metadata": {},
   "outputs": [
    {
     "name": "stdout",
     "output_type": "stream",
     "text": [
      "mean_X: 0.014272679652397834\n",
      "mean_Y: -0.03351483074948192\n",
      "num: 0.04778751040187976\n",
      "den: 0.035373869407607846\n"
     ]
    }
   ],
   "source": [
    "# compute effect size\n",
    "d = db.effect_size(E_ft, X, Y, A, B)"
   ]
  },
  {
   "cell_type": "code",
   "execution_count": 62,
   "metadata": {},
   "outputs": [
    {
     "name": "stdout",
     "output_type": "stream",
     "text": [
      "d:  1.35093\n",
      "p:  0.00272\n"
     ]
    }
   ],
   "source": [
    "print('d: %8.5f' % (d))\n",
    "print('p: %8.5f' % (p_value))"
   ]
  },
  {
   "cell_type": "markdown",
   "metadata": {},
   "source": [
    "### Using (lui,lei)"
   ]
  },
  {
   "cell_type": "code",
   "execution_count": 63,
   "metadata": {},
   "outputs": [],
   "source": [
    "X = ['esecutivo', 'management', 'professionale', 'azienda', 'stipendio', 'ufficio', 'business', 'carriera']\n",
    "Y = ['casa', 'genitori', 'bambini', 'famiglia', 'cugini', 'matrimonio', 'nozze', 'parenti']\n",
    "\n",
    "A = ['lui']\n",
    "B = ['lei']"
   ]
  },
  {
   "cell_type": "code",
   "execution_count": 64,
   "metadata": {},
   "outputs": [],
   "source": [
    "S = db.s_set(E_ft, X, Y, A, B)"
   ]
  },
  {
   "cell_type": "code",
   "execution_count": 65,
   "metadata": {},
   "outputs": [],
   "source": [
    "# compute permutations\n",
    "l = X + Y\n",
    "perm = db.permutations(l)"
   ]
  },
  {
   "cell_type": "code",
   "execution_count": 66,
   "metadata": {},
   "outputs": [],
   "source": [
    "# compute p-value\n",
    "count = 0\n",
    "for p in perm:\n",
    "    s = db.s_set(E_ft, p[0], p[1], A, B)\n",
    "    if s > S:\n",
    "        count += 1\n",
    "\n",
    "p_value = count/len(perm)"
   ]
  },
  {
   "cell_type": "code",
   "execution_count": 67,
   "metadata": {},
   "outputs": [
    {
     "name": "stdout",
     "output_type": "stream",
     "text": [
      "mean_X: 0.009361897595226765\n",
      "mean_Y: -0.06180383823812008\n",
      "num: 0.07116573583334684\n",
      "den: 0.060717361333781264\n"
     ]
    }
   ],
   "source": [
    "# compute effect size\n",
    "d = db.effect_size(E_ft, X, Y, A, B)"
   ]
  },
  {
   "cell_type": "code",
   "execution_count": 68,
   "metadata": {},
   "outputs": [
    {
     "name": "stdout",
     "output_type": "stream",
     "text": [
      "d:  1.17208\n",
      "p:  0.00870\n"
     ]
    }
   ],
   "source": [
    "print('d: %8.5f' % (d))\n",
    "print('p: %8.5f' % (p_value))"
   ]
  },
  {
   "cell_type": "markdown",
   "metadata": {},
   "source": [
    "### Using (uomo,donna)"
   ]
  },
  {
   "cell_type": "code",
   "execution_count": 69,
   "metadata": {},
   "outputs": [],
   "source": [
    "X = ['esecutivo', 'management', 'professionale', 'azienda', 'stipendio', 'ufficio', 'business', 'carriera']\n",
    "Y = ['casa', 'genitori', 'bambini', 'famiglia', 'cugini', 'matrimonio', 'nozze', 'parenti']\n",
    "\n",
    "A = ['uomo']\n",
    "B = ['donna']"
   ]
  },
  {
   "cell_type": "code",
   "execution_count": 70,
   "metadata": {},
   "outputs": [],
   "source": [
    "S = db.s_set(E_ft, X, Y, A, B)"
   ]
  },
  {
   "cell_type": "code",
   "execution_count": 71,
   "metadata": {},
   "outputs": [],
   "source": [
    "# compute permutations\n",
    "l = X + Y\n",
    "perm = db.permutations(l)"
   ]
  },
  {
   "cell_type": "code",
   "execution_count": 72,
   "metadata": {},
   "outputs": [],
   "source": [
    "# compute p-value\n",
    "count = 0\n",
    "for p in perm:\n",
    "    s = db.s_set(E_ft, p[0], p[1], A, B)\n",
    "    if s > S:\n",
    "        count += 1\n",
    "\n",
    "p_value = count/len(perm)"
   ]
  },
  {
   "cell_type": "code",
   "execution_count": 73,
   "metadata": {},
   "outputs": [
    {
     "name": "stdout",
     "output_type": "stream",
     "text": [
      "mean_X: 0.0015252046287059784\n",
      "mean_Y: -0.09153831843286753\n",
      "num: 0.0930635230615735\n",
      "den: 0.06153805623915847\n"
     ]
    }
   ],
   "source": [
    "# compute effect size\n",
    "d = db.effect_size(E_ft, X, Y, A, B)"
   ]
  },
  {
   "cell_type": "code",
   "execution_count": 74,
   "metadata": {},
   "outputs": [
    {
     "name": "stdout",
     "output_type": "stream",
     "text": [
      "d:  1.51229\n",
      "p:  0.00054\n"
     ]
    }
   ],
   "source": [
    "print('d: %8.5f' % (d))\n",
    "print('p: %8.5f' % (p_value))"
   ]
  },
  {
   "cell_type": "markdown",
   "metadata": {},
   "source": [
    "### Using (padre,madre)"
   ]
  },
  {
   "cell_type": "code",
   "execution_count": 75,
   "metadata": {},
   "outputs": [],
   "source": [
    "X = ['esecutivo', 'management', 'professionale', 'azienda', 'stipendio', 'ufficio', 'business', 'carriera']\n",
    "Y = ['casa', 'genitori', 'bambini', 'famiglia', 'cugini', 'matrimonio', 'nozze', 'parenti']\n",
    "\n",
    "A = ['padre']\n",
    "B = ['madre']"
   ]
  },
  {
   "cell_type": "code",
   "execution_count": 76,
   "metadata": {},
   "outputs": [],
   "source": [
    "S = db.s_set(E_ft, X, Y, A, B)"
   ]
  },
  {
   "cell_type": "code",
   "execution_count": 77,
   "metadata": {},
   "outputs": [],
   "source": [
    "# compute permutations\n",
    "l = X + Y\n",
    "perm = db.permutations(l)"
   ]
  },
  {
   "cell_type": "code",
   "execution_count": 78,
   "metadata": {},
   "outputs": [],
   "source": [
    "# compute p-value\n",
    "count = 0\n",
    "for p in perm:\n",
    "    s = db.s_set(E_ft, p[0], p[1], A, B)\n",
    "    if s > S:\n",
    "        count += 1\n",
    "\n",
    "p_value = count/len(perm)"
   ]
  },
  {
   "cell_type": "code",
   "execution_count": 79,
   "metadata": {},
   "outputs": [
    {
     "name": "stdout",
     "output_type": "stream",
     "text": [
      "mean_X: 0.03407259564846754\n",
      "mean_Y: -0.024259746074676514\n",
      "num: 0.058332341723144054\n",
      "den: 0.049391163613176865\n"
     ]
    }
   ],
   "source": [
    "# compute effect size\n",
    "d = db.effect_size(E_ft, X, Y, A, B)"
   ]
  },
  {
   "cell_type": "code",
   "execution_count": 80,
   "metadata": {},
   "outputs": [
    {
     "name": "stdout",
     "output_type": "stream",
     "text": [
      "d:  1.18103\n",
      "p:  0.00831\n"
     ]
    }
   ],
   "source": [
    "print('d: %8.5f' % (d))\n",
    "print('p: %8.5f' % (p_value))"
   ]
  },
  {
   "cell_type": "markdown",
   "metadata": {},
   "source": [
    "### Using (marito,moglie)"
   ]
  },
  {
   "cell_type": "code",
   "execution_count": 81,
   "metadata": {},
   "outputs": [],
   "source": [
    "X = ['esecutivo', 'management', 'professionale', 'azienda', 'stipendio', 'ufficio', 'business', 'carriera']\n",
    "Y = ['casa', 'genitori', 'bambini', 'famiglia', 'cugini', 'matrimonio', 'nozze', 'parenti']\n",
    "\n",
    "A = ['marito']\n",
    "B = ['moglie']"
   ]
  },
  {
   "cell_type": "code",
   "execution_count": 82,
   "metadata": {},
   "outputs": [],
   "source": [
    "S = db.s_set(E_ft, X, Y, A, B)"
   ]
  },
  {
   "cell_type": "code",
   "execution_count": 83,
   "metadata": {},
   "outputs": [],
   "source": [
    "# compute permutations\n",
    "l = X + Y\n",
    "perm = db.permutations(l)"
   ]
  },
  {
   "cell_type": "code",
   "execution_count": 84,
   "metadata": {},
   "outputs": [],
   "source": [
    "# compute p-value\n",
    "count = 0\n",
    "for p in perm:\n",
    "    s = db.s_set(E_ft, p[0], p[1], A, B)\n",
    "    if s > S:\n",
    "        count += 1\n",
    "\n",
    "p_value = count/len(perm)"
   ]
  },
  {
   "cell_type": "code",
   "execution_count": 85,
   "metadata": {},
   "outputs": [
    {
     "name": "stdout",
     "output_type": "stream",
     "text": [
      "mean_X: 0.022281914949417114\n",
      "mean_Y: -0.008981730788946152\n",
      "num: 0.031263645738363266\n",
      "den: 0.03568574815474129\n"
     ]
    }
   ],
   "source": [
    "# compute effect size\n",
    "d = db.effect_size(E_ft, X, Y, A, B)"
   ]
  },
  {
   "cell_type": "code",
   "execution_count": 86,
   "metadata": {},
   "outputs": [
    {
     "name": "stdout",
     "output_type": "stream",
     "text": [
      "d:  0.87608\n",
      "p:  0.04406\n"
     ]
    }
   ],
   "source": [
    "print('d: %8.5f' % (d))\n",
    "print('p: %8.5f' % (p_value))"
   ]
  },
  {
   "cell_type": "markdown",
   "metadata": {},
   "source": [
    "### Using (fratello,sorella)"
   ]
  },
  {
   "cell_type": "code",
   "execution_count": 87,
   "metadata": {},
   "outputs": [],
   "source": [
    "X = ['esecutivo', 'management', 'professionale', 'azienda', 'stipendio', 'ufficio', 'business', 'carriera']\n",
    "Y = ['casa', 'genitori', 'bambini', 'famiglia', 'cugini', 'matrimonio', 'nozze', 'parenti']\n",
    "\n",
    "A = ['fratello']\n",
    "B = ['sorella']"
   ]
  },
  {
   "cell_type": "code",
   "execution_count": 88,
   "metadata": {},
   "outputs": [],
   "source": [
    "S = db.s_set(E_ft, X, Y, A, B)"
   ]
  },
  {
   "cell_type": "code",
   "execution_count": 89,
   "metadata": {},
   "outputs": [],
   "source": [
    "# compute permutations\n",
    "l = X + Y\n",
    "perm = db.permutations(l)"
   ]
  },
  {
   "cell_type": "code",
   "execution_count": 90,
   "metadata": {},
   "outputs": [],
   "source": [
    "# compute p-value\n",
    "count = 0\n",
    "for p in perm:\n",
    "    s = db.s_set(E_ft, p[0], p[1], A, B)\n",
    "    if s > S:\n",
    "        count += 1\n",
    "\n",
    "p_value = count/len(perm)"
   ]
  },
  {
   "cell_type": "code",
   "execution_count": 91,
   "metadata": {},
   "outputs": [
    {
     "name": "stdout",
     "output_type": "stream",
     "text": [
      "mean_X: 0.013468937948346138\n",
      "mean_Y: -0.037298329174518585\n",
      "num: 0.05076726712286472\n",
      "den: 0.0565563786310613\n"
     ]
    }
   ],
   "source": [
    "# compute effect size\n",
    "d = db.effect_size(E_ft, X, Y, A, B)"
   ]
  },
  {
   "cell_type": "code",
   "execution_count": 92,
   "metadata": {},
   "outputs": [
    {
     "name": "stdout",
     "output_type": "stream",
     "text": [
      "d:  0.89764\n",
      "p:  0.04181\n"
     ]
    }
   ],
   "source": [
    "print('d: %8.5f' % (d))\n",
    "print('p: %8.5f' % (p_value))"
   ]
  },
  {
   "cell_type": "markdown",
   "metadata": {},
   "source": [
    "### Using (maschio,femmina)"
   ]
  },
  {
   "cell_type": "code",
   "execution_count": 93,
   "metadata": {},
   "outputs": [],
   "source": [
    "X = ['esecutivo', 'management', 'professionale', 'azienda', 'stipendio', 'ufficio', 'business', 'carriera']\n",
    "Y = ['casa', 'genitori', 'bambini', 'famiglia', 'cugini', 'matrimonio', 'nozze', 'parenti']\n",
    "\n",
    "A = ['maschio']\n",
    "B = ['femmina']"
   ]
  },
  {
   "cell_type": "code",
   "execution_count": 94,
   "metadata": {},
   "outputs": [],
   "source": [
    "S = db.s_set(E_ft, X, Y, A, B)"
   ]
  },
  {
   "cell_type": "code",
   "execution_count": 95,
   "metadata": {},
   "outputs": [],
   "source": [
    "# compute permutations\n",
    "l = X + Y\n",
    "perm = db.permutations(l)"
   ]
  },
  {
   "cell_type": "code",
   "execution_count": 96,
   "metadata": {},
   "outputs": [],
   "source": [
    "# compute p-value\n",
    "count = 0\n",
    "for p in perm:\n",
    "    s = db.s_set(E_ft, p[0], p[1], A, B)\n",
    "    if s > S:\n",
    "        count += 1\n",
    "\n",
    "p_value = count/len(perm)"
   ]
  },
  {
   "cell_type": "code",
   "execution_count": 97,
   "metadata": {},
   "outputs": [
    {
     "name": "stdout",
     "output_type": "stream",
     "text": [
      "mean_X: 0.004925527144223452\n",
      "mean_Y: 0.022792978212237358\n",
      "num: -0.017867451068013906\n",
      "den: 0.03157400189368041\n"
     ]
    }
   ],
   "source": [
    "# compute effect size\n",
    "d = db.effect_size(E_ft, X, Y, A, B)"
   ]
  },
  {
   "cell_type": "code",
   "execution_count": 98,
   "metadata": {},
   "outputs": [
    {
     "name": "stdout",
     "output_type": "stream",
     "text": [
      "d: -0.56589\n",
      "p:  0.85671\n"
     ]
    }
   ],
   "source": [
    "print('d: %8.5f' % (d))\n",
    "print('p: %8.5f' % (p_value))"
   ]
  },
  {
   "cell_type": "markdown",
   "metadata": {},
   "source": [
    "### Bonus: using English pairs translated to Italian\n",
    "Target words: top 8 Italian names in 2018, https://www.istat.it/it/dati-analisi-e-prodotti/contenuti-interattivi/contanomi\n",
    "Attribute words: translated from English to Italian"
   ]
  },
  {
   "cell_type": "code",
   "execution_count": 99,
   "metadata": {},
   "outputs": [
    {
     "data": {
      "text/plain": [
       "\"\\nX = ['Leonardo', 'Francesco', 'Alessandro', 'Lorenzo', 'Mattia', 'Andrea', 'Gabriele', 'Riccardo']\\nY = ['Sofia', 'Giulia', 'Aurora', 'Alice', 'Ginevra', 'Emma', 'Giorgia', 'Greta']\\n\\nA = ['esecutivo', 'management', 'professionale', 'azienda', 'stipendio', 'ufficio', 'business', 'carriera']\\nB = ['casa', 'genitori', 'bambini', 'famiglia', 'cugini', 'matrimonio', 'nozze', 'parenti']\\n\""
      ]
     },
     "execution_count": 99,
     "metadata": {},
     "output_type": "execute_result"
    }
   ],
   "source": [
    "'''\n",
    "X = ['Leonardo', 'Francesco', 'Alessandro', 'Lorenzo', 'Mattia', 'Andrea', 'Gabriele', 'Riccardo']\n",
    "Y = ['Sofia', 'Giulia', 'Aurora', 'Alice', 'Ginevra', 'Emma', 'Giorgia', 'Greta']\n",
    "\n",
    "A = ['esecutivo', 'management', 'professionale', 'azienda', 'stipendio', 'ufficio', 'business', 'carriera']\n",
    "B = ['casa', 'genitori', 'bambini', 'famiglia', 'cugini', 'matrimonio', 'nozze', 'parenti']\n",
    "'''"
   ]
  },
  {
   "cell_type": "code",
   "execution_count": 100,
   "metadata": {},
   "outputs": [],
   "source": [
    "#S = db.s_set(E_ft, X, Y, A, B)"
   ]
  },
  {
   "cell_type": "code",
   "execution_count": 101,
   "metadata": {},
   "outputs": [],
   "source": [
    "# compute permutations\n",
    "#l = X + Y\n",
    "#perm = db.permutations(l)"
   ]
  },
  {
   "cell_type": "code",
   "execution_count": 102,
   "metadata": {},
   "outputs": [
    {
     "data": {
      "text/plain": [
       "'\\ncount = 0\\nfor p in perm:\\n    s = db.s_set(E_ft, p[0], p[1], A, B)\\n    if s > S:\\n        count += 1\\n\\np_value = count/len(perm)\\n'"
      ]
     },
     "execution_count": 102,
     "metadata": {},
     "output_type": "execute_result"
    }
   ],
   "source": [
    "# compute p-value\n",
    "'''\n",
    "count = 0\n",
    "for p in perm:\n",
    "    s = db.s_set(E_ft, p[0], p[1], A, B)\n",
    "    if s > S:\n",
    "        count += 1\n",
    "\n",
    "p_value = count/len(perm)\n",
    "'''"
   ]
  },
  {
   "cell_type": "code",
   "execution_count": 103,
   "metadata": {},
   "outputs": [],
   "source": [
    "# compute effect size\n",
    "#d = db.effect_size(E_ft, X, Y, A, B)"
   ]
  },
  {
   "cell_type": "code",
   "execution_count": 104,
   "metadata": {},
   "outputs": [],
   "source": [
    "#print('d: %8.5f' % (d))\n",
    "#print('p: %8.5f' % (p_value))"
   ]
  },
  {
   "cell_type": "code",
   "execution_count": null,
   "metadata": {},
   "outputs": [],
   "source": []
  },
  {
   "cell_type": "code",
   "execution_count": null,
   "metadata": {},
   "outputs": [],
   "source": []
  },
  {
   "cell_type": "code",
   "execution_count": null,
   "metadata": {},
   "outputs": [],
   "source": []
  },
  {
   "cell_type": "code",
   "execution_count": null,
   "metadata": {},
   "outputs": [],
   "source": []
  },
  {
   "cell_type": "markdown",
   "metadata": {},
   "source": [
    "## Using debiased embeddings"
   ]
  },
  {
   "cell_type": "code",
   "execution_count": 105,
   "metadata": {},
   "outputs": [],
   "source": [
    "from debiaswe.debias import debias"
   ]
  },
  {
   "cell_type": "code",
   "execution_count": 106,
   "metadata": {},
   "outputs": [
    {
     "name": "stdout",
     "output_type": "stream",
     "text": [
      "465 words of dimension 300 : sua, suo, prima, italiano, ..., credulona, calzolaia, supportivo, agrotecnica\n",
      "set()\n",
      "465 words of dimension 300 : sua, suo, prima, italiano, ..., credulona, calzolaia, supportivo, agrotecnica\n"
     ]
    }
   ],
   "source": [
    "G_word = db.read('gram_def_mf.txt', 'mf')\n",
    "debias(E_ft, [], G_word, [])"
   ]
  },
  {
   "cell_type": "markdown",
   "metadata": {},
   "source": [
    "# Science vs Arts - WEAT"
   ]
  },
  {
   "cell_type": "markdown",
   "metadata": {},
   "source": [
    "### Using all words"
   ]
  },
  {
   "cell_type": "code",
   "execution_count": 107,
   "metadata": {},
   "outputs": [],
   "source": [
    "X = ['biologia', 'fisica', 'chimica', 'matematica', 'geologia', 'astronomia', 'ingegneria']\n",
    "Y = ['filosofia', 'umanesimo', 'arte', 'letteratura', 'italiano', 'musica', 'storia']\n",
    "\n",
    "A = ['lui', 'uomo', 'padre', 'marito', 'fratello', 'maschio']\n",
    "B = ['lei', 'donna', 'madre', 'moglie', 'sorella', 'femmina']"
   ]
  },
  {
   "cell_type": "code",
   "execution_count": 108,
   "metadata": {},
   "outputs": [],
   "source": [
    "S = db.s_set(E_ft, X, Y, A, B)"
   ]
  },
  {
   "cell_type": "code",
   "execution_count": 109,
   "metadata": {},
   "outputs": [],
   "source": [
    "# compute permutations\n",
    "l = X + Y\n",
    "perm = db.permutations(l)"
   ]
  },
  {
   "cell_type": "code",
   "execution_count": 110,
   "metadata": {},
   "outputs": [],
   "source": [
    "# compute p-value\n",
    "count = 0\n",
    "for p in perm:\n",
    "    s = db.s_set(E_ft, p[0], p[1], A, B)\n",
    "    if s > S:\n",
    "        count += 1\n",
    "\n",
    "p_value = count/len(perm)"
   ]
  },
  {
   "cell_type": "code",
   "execution_count": 111,
   "metadata": {},
   "outputs": [
    {
     "name": "stdout",
     "output_type": "stream",
     "text": [
      "mean_X: 0.017894217123587918\n",
      "mean_Y: 0.012864979250090459\n",
      "num: 0.005029237873497459\n",
      "den: 0.024385825423233705\n"
     ]
    }
   ],
   "source": [
    "# compute effect size\n",
    "d = db.effect_size(E_ft, X, Y, A, B)"
   ]
  },
  {
   "cell_type": "code",
   "execution_count": 112,
   "metadata": {},
   "outputs": [
    {
     "name": "stdout",
     "output_type": "stream",
     "text": [
      "d:  0.20624\n",
      "p:  0.36403\n"
     ]
    }
   ],
   "source": [
    "print('d: %8.5f' % (d))\n",
    "print('p: %8.5f' % (p_value))"
   ]
  },
  {
   "cell_type": "markdown",
   "metadata": {},
   "source": [
    "### Using (lui,lei)"
   ]
  },
  {
   "cell_type": "code",
   "execution_count": 113,
   "metadata": {},
   "outputs": [],
   "source": [
    "X = ['biologia', 'fisica', 'chimica', 'matematica', 'geologia', 'astronomia', 'ingegneria']\n",
    "Y = ['filosofia', 'umanesimo', 'arte', 'letteratura', 'italiano', 'musica', 'storia']\n",
    "\n",
    "A = ['lui']\n",
    "B = ['lei']"
   ]
  },
  {
   "cell_type": "code",
   "execution_count": 114,
   "metadata": {},
   "outputs": [],
   "source": [
    "S = db.s_set(E_ft, X, Y, A, B)"
   ]
  },
  {
   "cell_type": "code",
   "execution_count": 115,
   "metadata": {},
   "outputs": [],
   "source": [
    "# compute permutations\n",
    "l = X + Y\n",
    "perm = db.permutations(l)"
   ]
  },
  {
   "cell_type": "code",
   "execution_count": 116,
   "metadata": {},
   "outputs": [],
   "source": [
    "# compute p-value\n",
    "count = 0\n",
    "for p in perm:\n",
    "    s = db.s_set(E_ft, p[0], p[1], A, B)\n",
    "    if s > S:\n",
    "        count += 1\n",
    "\n",
    "p_value = count/len(perm)"
   ]
  },
  {
   "cell_type": "code",
   "execution_count": 117,
   "metadata": {},
   "outputs": [
    {
     "name": "stdout",
     "output_type": "stream",
     "text": [
      "mean_X: 0.022234808121408735\n",
      "mean_Y: 0.02705111780336925\n",
      "num: -0.004816309681960514\n",
      "den: 0.025498919077379178\n"
     ]
    }
   ],
   "source": [
    "# compute effect size\n",
    "d = db.effect_size(E_ft, X, Y, A, B)"
   ]
  },
  {
   "cell_type": "code",
   "execution_count": 118,
   "metadata": {},
   "outputs": [
    {
     "name": "stdout",
     "output_type": "stream",
     "text": [
      "d: -0.18888\n",
      "p:  0.62343\n"
     ]
    }
   ],
   "source": [
    "print('d: %8.5f' % (d))\n",
    "print('p: %8.5f' % (p_value))"
   ]
  },
  {
   "cell_type": "markdown",
   "metadata": {},
   "source": [
    "### Using (uomo,donna)"
   ]
  },
  {
   "cell_type": "code",
   "execution_count": 119,
   "metadata": {},
   "outputs": [],
   "source": [
    "X = ['biologia', 'fisica', 'chimica', 'matematica', 'geologia', 'astronomia', 'ingegneria']\n",
    "Y = ['filosofia', 'umanesimo', 'arte', 'letteratura', 'italiano', 'musica', 'storia']\n",
    "\n",
    "A = ['uomo']\n",
    "B = ['donna']"
   ]
  },
  {
   "cell_type": "code",
   "execution_count": 120,
   "metadata": {},
   "outputs": [],
   "source": [
    "S = db.s_set(E_ft, X, Y, A, B)"
   ]
  },
  {
   "cell_type": "code",
   "execution_count": 121,
   "metadata": {},
   "outputs": [],
   "source": [
    "# compute permutations\n",
    "l = X + Y\n",
    "perm = db.permutations(l)"
   ]
  },
  {
   "cell_type": "code",
   "execution_count": 122,
   "metadata": {},
   "outputs": [],
   "source": [
    "# compute p-value\n",
    "count = 0\n",
    "for p in perm:\n",
    "    s = db.s_set(E_ft, p[0], p[1], A, B)\n",
    "    if s > S:\n",
    "        count += 1\n",
    "\n",
    "p_value = count/len(perm)"
   ]
  },
  {
   "cell_type": "code",
   "execution_count": 123,
   "metadata": {},
   "outputs": [
    {
     "name": "stdout",
     "output_type": "stream",
     "text": [
      "mean_X: 0.023871859269482747\n",
      "mean_Y: 0.01489230990409851\n",
      "num: 0.008979549365384237\n",
      "den: 0.06508778929326088\n"
     ]
    }
   ],
   "source": [
    "# compute effect size\n",
    "d = db.effect_size(E_ft, X, Y, A, B)"
   ]
  },
  {
   "cell_type": "code",
   "execution_count": 124,
   "metadata": {},
   "outputs": [
    {
     "name": "stdout",
     "output_type": "stream",
     "text": [
      "d:  0.13796\n",
      "p:  0.41737\n"
     ]
    }
   ],
   "source": [
    "print('d: %8.5f' % (d))\n",
    "print('p: %8.5f' % (p_value))"
   ]
  },
  {
   "cell_type": "markdown",
   "metadata": {},
   "source": [
    "### Using (padre,madre)"
   ]
  },
  {
   "cell_type": "code",
   "execution_count": 125,
   "metadata": {},
   "outputs": [],
   "source": [
    "X = ['biologia', 'fisica', 'chimica', 'matematica', 'geologia', 'astronomia', 'ingegneria']\n",
    "Y = ['filosofia', 'umanesimo', 'arte', 'letteratura', 'italiano', 'musica', 'storia']\n",
    "\n",
    "A = ['padre']\n",
    "B = ['madre']"
   ]
  },
  {
   "cell_type": "code",
   "execution_count": 126,
   "metadata": {},
   "outputs": [],
   "source": [
    "S = db.s_set(E_ft, X, Y, A, B)"
   ]
  },
  {
   "cell_type": "code",
   "execution_count": 127,
   "metadata": {},
   "outputs": [],
   "source": [
    "# compute permutations\n",
    "l = X + Y\n",
    "perm = db.permutations(l)"
   ]
  },
  {
   "cell_type": "code",
   "execution_count": 128,
   "metadata": {},
   "outputs": [],
   "source": [
    "# compute p-value\n",
    "count = 0\n",
    "for p in perm:\n",
    "    s = db.s_set(E_ft, p[0], p[1], A, B)\n",
    "    if s > S:\n",
    "        count += 1\n",
    "\n",
    "p_value = count/len(perm)"
   ]
  },
  {
   "cell_type": "code",
   "execution_count": 129,
   "metadata": {},
   "outputs": [
    {
     "name": "stdout",
     "output_type": "stream",
     "text": [
      "mean_X: 0.023663175957543508\n",
      "mean_Y: 0.01584420140300478\n",
      "num: 0.007818974554538727\n",
      "den: 0.023978055018288275\n"
     ]
    }
   ],
   "source": [
    "# compute effect size\n",
    "d = db.effect_size(E_ft, X, Y, A, B)"
   ]
  },
  {
   "cell_type": "code",
   "execution_count": 130,
   "metadata": {},
   "outputs": [
    {
     "name": "stdout",
     "output_type": "stream",
     "text": [
      "d:  0.32609\n",
      "p:  0.28651\n"
     ]
    }
   ],
   "source": [
    "print('d: %8.5f' % (d))\n",
    "print('p: %8.5f' % (p_value))"
   ]
  },
  {
   "cell_type": "markdown",
   "metadata": {},
   "source": [
    "### Using (marito,moglie)"
   ]
  },
  {
   "cell_type": "code",
   "execution_count": 131,
   "metadata": {},
   "outputs": [],
   "source": [
    "X = ['biologia', 'fisica', 'chimica', 'matematica', 'geologia', 'astronomia', 'ingegneria']\n",
    "Y = ['filosofia', 'umanesimo', 'arte', 'letteratura', 'italiano', 'musica', 'storia']\n",
    "\n",
    "A = ['marito']\n",
    "B = ['moglie']"
   ]
  },
  {
   "cell_type": "code",
   "execution_count": 132,
   "metadata": {},
   "outputs": [],
   "source": [
    "S = db.s_set(E_ft, X, Y, A, B)"
   ]
  },
  {
   "cell_type": "code",
   "execution_count": 133,
   "metadata": {},
   "outputs": [],
   "source": [
    "# compute permutations\n",
    "l = X + Y\n",
    "perm = db.permutations(l)"
   ]
  },
  {
   "cell_type": "code",
   "execution_count": 134,
   "metadata": {},
   "outputs": [],
   "source": [
    "# compute p-value\n",
    "count = 0\n",
    "for p in perm:\n",
    "    s = db.s_set(E_ft, p[0], p[1], A, B)\n",
    "    if s > S:\n",
    "        count += 1\n",
    "\n",
    "p_value = count/len(perm)"
   ]
  },
  {
   "cell_type": "code",
   "execution_count": 135,
   "metadata": {},
   "outputs": [
    {
     "name": "stdout",
     "output_type": "stream",
     "text": [
      "mean_X: -0.00679420360497066\n",
      "mean_Y: -0.01706931846482413\n",
      "num: 0.010275114859853472\n",
      "den: 0.02250423589673393\n"
     ]
    }
   ],
   "source": [
    "# compute effect size\n",
    "d = db.effect_size(E_ft, X, Y, A, B)"
   ]
  },
  {
   "cell_type": "code",
   "execution_count": 136,
   "metadata": {},
   "outputs": [
    {
     "name": "stdout",
     "output_type": "stream",
     "text": [
      "d:  0.45659\n",
      "p:  0.22734\n"
     ]
    }
   ],
   "source": [
    "print('d: %8.5f' % (d))\n",
    "print('p: %8.5f' % (p_value))"
   ]
  },
  {
   "cell_type": "markdown",
   "metadata": {},
   "source": [
    "### Using (fratello,sorella)"
   ]
  },
  {
   "cell_type": "code",
   "execution_count": 137,
   "metadata": {},
   "outputs": [],
   "source": [
    "X = ['biologia', 'fisica', 'chimica', 'matematica', 'geologia', 'astronomia', 'ingegneria']\n",
    "Y = ['filosofia', 'umanesimo', 'arte', 'letteratura', 'italiano', 'musica', 'storia']\n",
    "\n",
    "A = ['fratello']\n",
    "B = ['sorella']"
   ]
  },
  {
   "cell_type": "code",
   "execution_count": 138,
   "metadata": {},
   "outputs": [],
   "source": [
    "S = db.s_set(E_ft, X, Y, A, B)"
   ]
  },
  {
   "cell_type": "code",
   "execution_count": 139,
   "metadata": {},
   "outputs": [],
   "source": [
    "# compute permutations\n",
    "l = X + Y\n",
    "perm = db.permutations(l)"
   ]
  },
  {
   "cell_type": "code",
   "execution_count": 140,
   "metadata": {},
   "outputs": [],
   "source": [
    "# compute p-value\n",
    "count = 0\n",
    "for p in perm:\n",
    "    s = db.s_set(E_ft, p[0], p[1], A, B)\n",
    "    if s > S:\n",
    "        count += 1\n",
    "\n",
    "p_value = count/len(perm)"
   ]
  },
  {
   "cell_type": "code",
   "execution_count": 141,
   "metadata": {},
   "outputs": [
    {
     "name": "stdout",
     "output_type": "stream",
     "text": [
      "mean_X: 0.00792193306343896\n",
      "mean_Y: 0.0017637802021844046\n",
      "num: 0.006158152861254556\n",
      "den: 0.030271557910397363\n"
     ]
    }
   ],
   "source": [
    "# compute effect size\n",
    "d = db.effect_size(E_ft, X, Y, A, B)"
   ]
  },
  {
   "cell_type": "code",
   "execution_count": 142,
   "metadata": {},
   "outputs": [
    {
     "name": "stdout",
     "output_type": "stream",
     "text": [
      "d:  0.20343\n",
      "p:  0.36578\n"
     ]
    }
   ],
   "source": [
    "print('d: %8.5f' % (d))\n",
    "print('p: %8.5f' % (p_value))"
   ]
  },
  {
   "cell_type": "markdown",
   "metadata": {},
   "source": [
    "### Using (maschio,femmina)"
   ]
  },
  {
   "cell_type": "code",
   "execution_count": 143,
   "metadata": {},
   "outputs": [],
   "source": [
    "X = ['biologia', 'fisica', 'chimica', 'matematica', 'geologia', 'astronomia', 'ingegneria']\n",
    "Y = ['filosofia', 'umanesimo', 'arte', 'letteratura', 'italiano', 'musica', 'storia']\n",
    "\n",
    "A = ['maschio']\n",
    "B = ['femmina']"
   ]
  },
  {
   "cell_type": "code",
   "execution_count": 144,
   "metadata": {},
   "outputs": [],
   "source": [
    "S = db.s_set(E_ft, X, Y, A, B)"
   ]
  },
  {
   "cell_type": "code",
   "execution_count": 145,
   "metadata": {},
   "outputs": [],
   "source": [
    "# compute permutations\n",
    "l = X + Y\n",
    "perm = db.permutations(l)"
   ]
  },
  {
   "cell_type": "code",
   "execution_count": 146,
   "metadata": {},
   "outputs": [],
   "source": [
    "# compute p-value\n",
    "count = 0\n",
    "for p in perm:\n",
    "    s = db.s_set(E_ft, p[0], p[1], A, B)\n",
    "    if s > S:\n",
    "        count += 1\n",
    "\n",
    "p_value = count/len(perm)"
   ]
  },
  {
   "cell_type": "code",
   "execution_count": 147,
   "metadata": {},
   "outputs": [
    {
     "name": "stdout",
     "output_type": "stream",
     "text": [
      "mean_X: 0.036467729934624264\n",
      "mean_Y: 0.03470778465270996\n",
      "num: 0.0017599452819143033\n",
      "den: 0.023301191179813035\n"
     ]
    }
   ],
   "source": [
    "# compute effect size\n",
    "d = db.effect_size(E_ft, X, Y, A, B)"
   ]
  },
  {
   "cell_type": "code",
   "execution_count": 148,
   "metadata": {},
   "outputs": [
    {
     "name": "stdout",
     "output_type": "stream",
     "text": [
      "d:  0.07553\n",
      "p:  0.44710\n"
     ]
    }
   ],
   "source": [
    "print('d: %8.5f' % (d))\n",
    "print('p: %8.5f' % (p_value))"
   ]
  },
  {
   "cell_type": "code",
   "execution_count": null,
   "metadata": {},
   "outputs": [],
   "source": []
  },
  {
   "cell_type": "code",
   "execution_count": null,
   "metadata": {},
   "outputs": [],
   "source": []
  },
  {
   "cell_type": "code",
   "execution_count": null,
   "metadata": {},
   "outputs": [],
   "source": []
  },
  {
   "cell_type": "markdown",
   "metadata": {},
   "source": [
    "# Career vs Family - WEAT"
   ]
  },
  {
   "cell_type": "markdown",
   "metadata": {},
   "source": [
    "## X=male, Y=female, A=career, B=family"
   ]
  },
  {
   "cell_type": "code",
   "execution_count": 149,
   "metadata": {},
   "outputs": [],
   "source": [
    "A = ['esecutivo', 'management', 'professionale', 'azienda', 'stipendio', 'ufficio', 'business', 'carriera']\n",
    "B = ['casa', 'genitori', 'bambini', 'famiglia', 'cugini', 'matrimonio', 'nozze', 'parenti']\n",
    "\n",
    "X = ['lui', 'uomo', 'padre', 'marito', 'fratello', 'maschio']\n",
    "Y = ['lei', 'donna', 'madre', 'moglie', 'sorella', 'femmina']"
   ]
  },
  {
   "cell_type": "code",
   "execution_count": 150,
   "metadata": {},
   "outputs": [],
   "source": [
    "S = db.s_set(E_ft, X, Y, A, B)"
   ]
  },
  {
   "cell_type": "code",
   "execution_count": 151,
   "metadata": {},
   "outputs": [],
   "source": [
    "# compute permutations\n",
    "l = X + Y\n",
    "perm = db.permutations(l)"
   ]
  },
  {
   "cell_type": "code",
   "execution_count": 152,
   "metadata": {},
   "outputs": [],
   "source": [
    "# compute p-value\n",
    "count = 0\n",
    "for p in perm:\n",
    "    s = db.s_set(E_ft, p[0], p[1], A, B)\n",
    "    if s > S:\n",
    "        count += 1\n",
    "\n",
    "p_value = count/len(perm)"
   ]
  },
  {
   "cell_type": "code",
   "execution_count": 153,
   "metadata": {},
   "outputs": [
    {
     "name": "stdout",
     "output_type": "stream",
     "text": [
      "mean_X: -0.17153854218001166\n",
      "mean_Y: -0.21458284774174294\n",
      "num: 0.04304430556173128\n",
      "den: 0.06838970743367778\n"
     ]
    }
   ],
   "source": [
    "# compute effect size\n",
    "d = db.effect_size(E_ft, X, Y, A, B)"
   ]
  },
  {
   "cell_type": "code",
   "execution_count": 154,
   "metadata": {},
   "outputs": [
    {
     "name": "stdout",
     "output_type": "stream",
     "text": [
      "d:  0.62940\n",
      "p:  0.16251\n"
     ]
    }
   ],
   "source": [
    "print('d: %8.5f' % (d))\n",
    "print('p: %8.5f' % (p_value))"
   ]
  },
  {
   "cell_type": "markdown",
   "metadata": {},
   "source": [
    "## X=career, Y=family, A=male, B=female"
   ]
  },
  {
   "cell_type": "markdown",
   "metadata": {},
   "source": [
    "### Using all words"
   ]
  },
  {
   "cell_type": "code",
   "execution_count": 155,
   "metadata": {},
   "outputs": [],
   "source": [
    "X = ['esecutivo', 'management', 'professionale', 'azienda', 'stipendio', 'ufficio', 'business', 'carriera']\n",
    "Y = ['casa', 'genitori', 'bambini', 'famiglia', 'cugini', 'matrimonio', 'nozze', 'parenti']\n",
    "\n",
    "A = ['lui', 'uomo', 'padre', 'marito', 'fratello', 'maschio']\n",
    "B = ['lei', 'donna', 'madre', 'moglie', 'sorella', 'femmina']"
   ]
  },
  {
   "cell_type": "code",
   "execution_count": 156,
   "metadata": {},
   "outputs": [],
   "source": [
    "S = db.s_set(E_ft, X, Y, A, B)"
   ]
  },
  {
   "cell_type": "code",
   "execution_count": 157,
   "metadata": {},
   "outputs": [],
   "source": [
    "# compute permutations\n",
    "l = X + Y\n",
    "perm = db.permutations(l)"
   ]
  },
  {
   "cell_type": "code",
   "execution_count": 158,
   "metadata": {},
   "outputs": [],
   "source": [
    "# compute p-value\n",
    "count = 0\n",
    "for p in perm:\n",
    "    s = db.s_set(E_ft, p[0], p[1], A, B)\n",
    "    if s > S:\n",
    "        count += 1\n",
    "\n",
    "p_value = count/len(perm)"
   ]
  },
  {
   "cell_type": "code",
   "execution_count": 159,
   "metadata": {},
   "outputs": [
    {
     "name": "stdout",
     "output_type": "stream",
     "text": [
      "mean_X: 0.011972369005282719\n",
      "mean_Y: -0.031071936556448528\n",
      "num: 0.04304430556173125\n",
      "den: 0.030665121870621665\n"
     ]
    }
   ],
   "source": [
    "# compute effect size\n",
    "d = db.effect_size(E_ft, X, Y, A, B)"
   ]
  },
  {
   "cell_type": "code",
   "execution_count": 160,
   "metadata": {},
   "outputs": [
    {
     "name": "stdout",
     "output_type": "stream",
     "text": [
      "d:  1.40369\n",
      "p:  0.00163\n"
     ]
    }
   ],
   "source": [
    "print('d: %8.5f' % (d))\n",
    "print('p: %8.5f' % (p_value))"
   ]
  },
  {
   "cell_type": "markdown",
   "metadata": {},
   "source": [
    "### Using (lui,lei)"
   ]
  },
  {
   "cell_type": "code",
   "execution_count": 161,
   "metadata": {},
   "outputs": [],
   "source": [
    "X = ['esecutivo', 'management', 'professionale', 'azienda', 'stipendio', 'ufficio', 'business', 'carriera']\n",
    "Y = ['casa', 'genitori', 'bambini', 'famiglia', 'cugini', 'matrimonio', 'nozze', 'parenti']\n",
    "\n",
    "A = ['lui']\n",
    "B = ['lei']"
   ]
  },
  {
   "cell_type": "code",
   "execution_count": 162,
   "metadata": {},
   "outputs": [],
   "source": [
    "S = db.s_set(E_ft, X, Y, A, B)"
   ]
  },
  {
   "cell_type": "code",
   "execution_count": 163,
   "metadata": {},
   "outputs": [],
   "source": [
    "# compute permutations\n",
    "l = X + Y\n",
    "perm = db.permutations(l)"
   ]
  },
  {
   "cell_type": "code",
   "execution_count": 164,
   "metadata": {},
   "outputs": [],
   "source": [
    "# compute p-value\n",
    "count = 0\n",
    "for p in perm:\n",
    "    s = db.s_set(E_ft, p[0], p[1], A, B)\n",
    "    if s > S:\n",
    "        count += 1\n",
    "\n",
    "p_value = count/len(perm)"
   ]
  },
  {
   "cell_type": "code",
   "execution_count": 165,
   "metadata": {},
   "outputs": [
    {
     "name": "stdout",
     "output_type": "stream",
     "text": [
      "mean_X: 0.00830879807472229\n",
      "mean_Y: -0.05900522321462631\n",
      "num: 0.0673140212893486\n",
      "den: 0.05953933827899979\n"
     ]
    }
   ],
   "source": [
    "# compute effect size\n",
    "d = db.effect_size(E_ft, X, Y, A, B)"
   ]
  },
  {
   "cell_type": "code",
   "execution_count": 166,
   "metadata": {},
   "outputs": [
    {
     "name": "stdout",
     "output_type": "stream",
     "text": [
      "d:  1.13058\n",
      "p:  0.01103\n"
     ]
    }
   ],
   "source": [
    "print('d: %8.5f' % (d))\n",
    "print('p: %8.5f' % (p_value))"
   ]
  },
  {
   "cell_type": "markdown",
   "metadata": {},
   "source": [
    "### Using (uomo,donna)"
   ]
  },
  {
   "cell_type": "code",
   "execution_count": 167,
   "metadata": {},
   "outputs": [],
   "source": [
    "X = ['esecutivo', 'management', 'professionale', 'azienda', 'stipendio', 'ufficio', 'business', 'carriera']\n",
    "Y = ['casa', 'genitori', 'bambini', 'famiglia', 'cugini', 'matrimonio', 'nozze', 'parenti']\n",
    "\n",
    "A = ['uomo']\n",
    "B = ['donna']"
   ]
  },
  {
   "cell_type": "code",
   "execution_count": 168,
   "metadata": {},
   "outputs": [],
   "source": [
    "S = db.s_set(E_ft, X, Y, A, B)"
   ]
  },
  {
   "cell_type": "code",
   "execution_count": 169,
   "metadata": {},
   "outputs": [],
   "source": [
    "# compute permutations\n",
    "l = X + Y\n",
    "perm = db.permutations(l)"
   ]
  },
  {
   "cell_type": "code",
   "execution_count": 170,
   "metadata": {},
   "outputs": [],
   "source": [
    "# compute p-value\n",
    "count = 0\n",
    "for p in perm:\n",
    "    s = db.s_set(E_ft, p[0], p[1], A, B)\n",
    "    if s > S:\n",
    "        count += 1\n",
    "\n",
    "p_value = count/len(perm)"
   ]
  },
  {
   "cell_type": "code",
   "execution_count": 171,
   "metadata": {},
   "outputs": [
    {
     "name": "stdout",
     "output_type": "stream",
     "text": [
      "mean_X: -0.002751043066382408\n",
      "mean_Y: -0.08966718334704638\n",
      "num: 0.08691614028066397\n",
      "den: 0.05924947600333991\n"
     ]
    }
   ],
   "source": [
    "# compute effect size\n",
    "d = db.effect_size(E_ft, X, Y, A, B)"
   ]
  },
  {
   "cell_type": "code",
   "execution_count": 172,
   "metadata": {},
   "outputs": [
    {
     "name": "stdout",
     "output_type": "stream",
     "text": [
      "d:  1.46695\n",
      "p:  0.00109\n"
     ]
    }
   ],
   "source": [
    "print('d: %8.5f' % (d))\n",
    "print('p: %8.5f' % (p_value))"
   ]
  },
  {
   "cell_type": "markdown",
   "metadata": {},
   "source": [
    "### Using (padre,madre)"
   ]
  },
  {
   "cell_type": "code",
   "execution_count": 173,
   "metadata": {},
   "outputs": [],
   "source": [
    "X = ['esecutivo', 'management', 'professionale', 'azienda', 'stipendio', 'ufficio', 'business', 'carriera']\n",
    "Y = ['casa', 'genitori', 'bambini', 'famiglia', 'cugini', 'matrimonio', 'nozze', 'parenti']\n",
    "\n",
    "A = ['padre']\n",
    "B = ['madre']"
   ]
  },
  {
   "cell_type": "code",
   "execution_count": 174,
   "metadata": {},
   "outputs": [],
   "source": [
    "S = db.s_set(E_ft, X, Y, A, B)"
   ]
  },
  {
   "cell_type": "code",
   "execution_count": 175,
   "metadata": {},
   "outputs": [],
   "source": [
    "# compute permutations\n",
    "l = X + Y\n",
    "perm = db.permutations(l)"
   ]
  },
  {
   "cell_type": "code",
   "execution_count": 176,
   "metadata": {},
   "outputs": [],
   "source": [
    "# compute p-value\n",
    "count = 0\n",
    "for p in perm:\n",
    "    s = db.s_set(E_ft, p[0], p[1], A, B)\n",
    "    if s > S:\n",
    "        count += 1\n",
    "\n",
    "p_value = count/len(perm)"
   ]
  },
  {
   "cell_type": "code",
   "execution_count": 177,
   "metadata": {},
   "outputs": [
    {
     "name": "stdout",
     "output_type": "stream",
     "text": [
      "mean_X: 0.030954028479754925\n",
      "mean_Y: -0.02170802280306816\n",
      "num: 0.052662051282823086\n",
      "den: 0.04205471312164896\n"
     ]
    }
   ],
   "source": [
    "# compute effect size\n",
    "d = db.effect_size(E_ft, X, Y, A, B)"
   ]
  },
  {
   "cell_type": "code",
   "execution_count": 178,
   "metadata": {},
   "outputs": [
    {
     "name": "stdout",
     "output_type": "stream",
     "text": [
      "d:  1.25223\n",
      "p:  0.00521\n"
     ]
    }
   ],
   "source": [
    "print('d: %8.5f' % (d))\n",
    "print('p: %8.5f' % (p_value))"
   ]
  },
  {
   "cell_type": "markdown",
   "metadata": {},
   "source": [
    "### Using (marito,moglie)"
   ]
  },
  {
   "cell_type": "code",
   "execution_count": 179,
   "metadata": {},
   "outputs": [],
   "source": [
    "X = ['esecutivo', 'management', 'professionale', 'azienda', 'stipendio', 'ufficio', 'business', 'carriera']\n",
    "Y = ['casa', 'genitori', 'bambini', 'famiglia', 'cugini', 'matrimonio', 'nozze', 'parenti']\n",
    "\n",
    "A = ['marito']\n",
    "B = ['moglie']"
   ]
  },
  {
   "cell_type": "code",
   "execution_count": 180,
   "metadata": {},
   "outputs": [],
   "source": [
    "S = db.s_set(E_ft, X, Y, A, B)"
   ]
  },
  {
   "cell_type": "code",
   "execution_count": 181,
   "metadata": {},
   "outputs": [],
   "source": [
    "# compute permutations\n",
    "l = X + Y\n",
    "perm = db.permutations(l)"
   ]
  },
  {
   "cell_type": "code",
   "execution_count": 182,
   "metadata": {},
   "outputs": [],
   "source": [
    "# compute p-value\n",
    "count = 0\n",
    "for p in perm:\n",
    "    s = db.s_set(E_ft, p[0], p[1], A, B)\n",
    "    if s > S:\n",
    "        count += 1\n",
    "\n",
    "p_value = count/len(perm)"
   ]
  },
  {
   "cell_type": "code",
   "execution_count": 183,
   "metadata": {},
   "outputs": [
    {
     "name": "stdout",
     "output_type": "stream",
     "text": [
      "mean_X: 0.020848888903856277\n",
      "mean_Y: -0.009473312646150589\n",
      "num: 0.030322201550006866\n",
      "den: 0.03446228048000668\n"
     ]
    }
   ],
   "source": [
    "# compute effect size\n",
    "d = db.effect_size(E_ft, X, Y, A, B)"
   ]
  },
  {
   "cell_type": "code",
   "execution_count": 184,
   "metadata": {},
   "outputs": [
    {
     "name": "stdout",
     "output_type": "stream",
     "text": [
      "d:  0.87987\n",
      "p:  0.04390\n"
     ]
    }
   ],
   "source": [
    "print('d: %8.5f' % (d))\n",
    "print('p: %8.5f' % (p_value))"
   ]
  },
  {
   "cell_type": "markdown",
   "metadata": {},
   "source": [
    "### Using (fratello,sorella)"
   ]
  },
  {
   "cell_type": "code",
   "execution_count": 185,
   "metadata": {},
   "outputs": [],
   "source": [
    "X = ['esecutivo', 'management', 'professionale', 'azienda', 'stipendio', 'ufficio', 'business', 'carriera']\n",
    "Y = ['casa', 'genitori', 'bambini', 'famiglia', 'cugini', 'matrimonio', 'nozze', 'parenti']\n",
    "\n",
    "A = ['fratello']\n",
    "B = ['sorella']"
   ]
  },
  {
   "cell_type": "code",
   "execution_count": 186,
   "metadata": {},
   "outputs": [],
   "source": [
    "S = db.s_set(E_ft, X, Y, A, B)"
   ]
  },
  {
   "cell_type": "code",
   "execution_count": 187,
   "metadata": {},
   "outputs": [],
   "source": [
    "# compute permutations\n",
    "l = X + Y\n",
    "perm = db.permutations(l)"
   ]
  },
  {
   "cell_type": "code",
   "execution_count": 188,
   "metadata": {},
   "outputs": [],
   "source": [
    "# compute p-value\n",
    "count = 0\n",
    "for p in perm:\n",
    "    s = db.s_set(E_ft, p[0], p[1], A, B)\n",
    "    if s > S:\n",
    "        count += 1\n",
    "\n",
    "p_value = count/len(perm)"
   ]
  },
  {
   "cell_type": "code",
   "execution_count": 189,
   "metadata": {},
   "outputs": [
    {
     "name": "stdout",
     "output_type": "stream",
     "text": [
      "mean_X: 0.010957040823996067\n",
      "mean_Y: -0.032361336052417755\n",
      "num: 0.04331837687641382\n",
      "den: 0.04956310995699763\n"
     ]
    }
   ],
   "source": [
    "# compute effect size\n",
    "d = db.effect_size(E_ft, X, Y, A, B)"
   ]
  },
  {
   "cell_type": "code",
   "execution_count": 190,
   "metadata": {},
   "outputs": [
    {
     "name": "stdout",
     "output_type": "stream",
     "text": [
      "d:  0.87400\n",
      "p:  0.04530\n"
     ]
    }
   ],
   "source": [
    "print('d: %8.5f' % (d))\n",
    "print('p: %8.5f' % (p_value))"
   ]
  },
  {
   "cell_type": "markdown",
   "metadata": {},
   "source": [
    "### Using (maschio,femmina)"
   ]
  },
  {
   "cell_type": "code",
   "execution_count": 191,
   "metadata": {},
   "outputs": [],
   "source": [
    "X = ['esecutivo', 'management', 'professionale', 'azienda', 'stipendio', 'ufficio', 'business', 'carriera']\n",
    "Y = ['casa', 'genitori', 'bambini', 'famiglia', 'cugini', 'matrimonio', 'nozze', 'parenti']\n",
    "\n",
    "A = ['maschio']\n",
    "B = ['femmina']"
   ]
  },
  {
   "cell_type": "code",
   "execution_count": 192,
   "metadata": {},
   "outputs": [],
   "source": [
    "S = db.s_set(E_ft, X, Y, A, B)"
   ]
  },
  {
   "cell_type": "code",
   "execution_count": 193,
   "metadata": {},
   "outputs": [],
   "source": [
    "# compute permutations\n",
    "l = X + Y\n",
    "perm = db.permutations(l)"
   ]
  },
  {
   "cell_type": "code",
   "execution_count": 194,
   "metadata": {},
   "outputs": [],
   "source": [
    "# compute p-value\n",
    "count = 0\n",
    "for p in perm:\n",
    "    s = db.s_set(E_ft, p[0], p[1], A, B)\n",
    "    if s > S:\n",
    "        count += 1\n",
    "\n",
    "p_value = count/len(perm)"
   ]
  },
  {
   "cell_type": "code",
   "execution_count": 195,
   "metadata": {},
   "outputs": [
    {
     "name": "stdout",
     "output_type": "stream",
     "text": [
      "mean_X: 0.0035165008157491684\n",
      "mean_Y: 0.025783458724617958\n",
      "num: -0.02226695790886879\n",
      "den: 0.030182908253270208\n"
     ]
    }
   ],
   "source": [
    "# compute effect size\n",
    "d = db.effect_size(E_ft, X, Y, A, B)"
   ]
  },
  {
   "cell_type": "code",
   "execution_count": 196,
   "metadata": {},
   "outputs": [
    {
     "name": "stdout",
     "output_type": "stream",
     "text": [
      "d: -0.73773\n",
      "p:  0.91887\n"
     ]
    }
   ],
   "source": [
    "print('d: %8.5f' % (d))\n",
    "print('p: %8.5f' % (p_value))"
   ]
  },
  {
   "cell_type": "code",
   "execution_count": null,
   "metadata": {},
   "outputs": [],
   "source": []
  }
 ],
 "metadata": {
  "kernelspec": {
   "display_name": "Python 3",
   "language": "python",
   "name": "python3"
  },
  "language_info": {
   "codemirror_mode": {
    "name": "ipython",
    "version": 3
   },
   "file_extension": ".py",
   "mimetype": "text/x-python",
   "name": "python",
   "nbconvert_exporter": "python",
   "pygments_lexer": "ipython3",
   "version": "3.7.3"
  }
 },
 "nbformat": 4,
 "nbformat_minor": 2
}
